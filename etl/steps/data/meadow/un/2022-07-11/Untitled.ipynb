{
 "cells": [
  {
   "cell_type": "code",
   "execution_count": 12,
   "id": "a442bc6a-5622-44d1-8890-74f19919ba71",
   "metadata": {},
   "outputs": [],
   "source": [
    "from un_wpp import *\n",
    "from un_wpp import (\n",
    "    _load_population,\n",
    "    _load_fertility,\n",
    "    _load_demographics,\n",
    "    _load_dependency_ratio,\n",
    "    _load_deaths,\n",
    ")"
   ]
  },
  {
   "cell_type": "markdown",
   "id": "159ff755-99b9-43a2-8698-1dd0c42bcea8",
   "metadata": {},
   "source": [
    "## Load data"
   ]
  },
  {
   "cell_type": "code",
   "execution_count": 2,
   "id": "10e72578-4a38-47c2-9cc9-de6696f952ef",
   "metadata": {},
   "outputs": [],
   "source": [
    "walden_ds = load_walden_ds()"
   ]
  },
  {
   "cell_type": "code",
   "execution_count": 3,
   "id": "d53f2ee4-771d-4f2a-aa6c-23aa2bb8563d",
   "metadata": {},
   "outputs": [],
   "source": [
    "tmp_dir = extract_data(walden_ds)"
   ]
  },
  {
   "cell_type": "code",
   "execution_count": 13,
   "id": "d8f62792-7a9f-4c6d-b2eb-debb4080838a",
   "metadata": {},
   "outputs": [],
   "source": [
    "df_population = _load_population(tmp_dir)"
   ]
  },
  {
   "cell_type": "code",
   "execution_count": 15,
   "id": "f7c36009-e9af-4f71-8ae1-d9648d055089",
   "metadata": {},
   "outputs": [],
   "source": [
    "df_fertility = _load_fertility(tmp_dir)"
   ]
  },
  {
   "cell_type": "code",
   "execution_count": 16,
   "id": "265bc0c2-ce34-41f6-908b-1f696549e405",
   "metadata": {},
   "outputs": [],
   "source": [
    "df_demographics = _load_demographics(tmp_dir)"
   ]
  },
  {
   "cell_type": "code",
   "execution_count": 17,
   "id": "3e3f4f03-fc70-4eab-8d18-ec02ed112c33",
   "metadata": {},
   "outputs": [],
   "source": [
    "df_depratio = _load_dependency_ratio(tmp_dir)"
   ]
  },
  {
   "cell_type": "code",
   "execution_count": 18,
   "id": "20c54cad-6f05-4130-acdf-a007ba5d2484",
   "metadata": {},
   "outputs": [],
   "source": [
    "df_deaths = _load_deaths(tmp_dir)"
   ]
  },
  {
   "cell_type": "markdown",
   "id": "7beeb826-7f49-40b1-94ee-af080a8738dc",
   "metadata": {},
   "source": [
    "---"
   ]
  },
  {
   "cell_type": "code",
   "execution_count": 19,
   "id": "4a73355e-42a3-49b2-81fd-21c852e5040d",
   "metadata": {},
   "outputs": [],
   "source": [
    "# Sanity checks\n",
    "(\n",
    "    df_population,\n",
    "    df_fertility,\n",
    "    df_demographics,\n",
    "    df_depratio,\n",
    "    df_deaths,\n",
    ") = sanity_checks(df_population, df_fertility, df_demographics, df_depratio, df_deaths)"
   ]
  },
  {
   "cell_type": "code",
   "execution_count": 20,
   "id": "b9d3bde8-9aa5-43c3-87a0-002276652d61",
   "metadata": {},
   "outputs": [],
   "source": [
    "df_depratio, df_deaths = std_columns(df_depratio, df_deaths)"
   ]
  },
  {
   "cell_type": "code",
   "execution_count": 21,
   "id": "bd9c6f5a-b2ab-41f7-a0cc-f104bc48807f",
   "metadata": {},
   "outputs": [],
   "source": [
    "df_population, df_fertility, df_demographics, df_depratio, df_deaths = set_index(\n",
    "    df_population, df_fertility, df_demographics, df_depratio, df_deaths\n",
    ")"
   ]
  },
  {
   "cell_type": "code",
   "execution_count": 23,
   "id": "c6c5b24f-5fd2-459d-8453-a2236d54437e",
   "metadata": {},
   "outputs": [],
   "source": [
    "(\n",
    "    df_population,\n",
    "    df_fertility,\n",
    "    df_demographics,\n",
    "    df_depratio,\n",
    "    df_deaths,\n",
    ") = df_cols_as_str(df_population, df_fertility, df_demographics, df_depratio, df_deaths)"
   ]
  },
  {
   "cell_type": "code",
   "execution_count": 24,
   "id": "a50b4cb7-1a5e-4138-a444-e4de1b98ce94",
   "metadata": {},
   "outputs": [],
   "source": [
    "df_depratio, df_deaths = fix_types(df_depratio, df_deaths)"
   ]
  },
  {
   "cell_type": "code",
   "execution_count": 32,
   "id": "ed7b19da-ffb8-4c8e-9458-c41351b34f0f",
   "metadata": {},
   "outputs": [],
   "source": [
    "ds = init_dataset(\"./testo\", walden_ds)"
   ]
  },
  {
   "cell_type": "code",
   "execution_count": 51,
   "id": "8622f27d-bede-4e3c-956b-fbd9e421565c",
   "metadata": {},
   "outputs": [],
   "source": [
    "df_deaths = df_deaths.assign(\n",
    "    Notes=df_deaths.Notes.astype(pd.StringDtype(storage=\"pyarrow\"))\n",
    ")\n",
    "df_depratio = df_depratio.assign(\n",
    "    Notes=df_depratio.Notes.astype(pd.StringDtype(storage=\"pyarrow\"))\n",
    ")"
   ]
  },
  {
   "cell_type": "code",
   "execution_count": 52,
   "id": "6d7e1e9b-3d6e-4b63-a1b2-49f555cf2ebd",
   "metadata": {},
   "outputs": [
    {
     "name": "stdout",
     "output_type": "stream",
     "text": [
      "population\n",
      "fertility\n",
      "demographics\n",
      "deaths\n",
      "dependency_ratio\n"
     ]
    }
   ],
   "source": [
    "ds = add_tables_to_ds(\n",
    "    ds, df_population, df_fertility, df_demographics, df_depratio, df_deaths\n",
    ")"
   ]
  },
  {
   "cell_type": "code",
   "execution_count": 30,
   "id": "191601e1-8f81-4f88-bf48-1238a2c5f0b2",
   "metadata": {},
   "outputs": [],
   "source": [
    "# # Process\n",
    "# df_population, df_fertility, df_demographics, df_depratio, df_deaths = process(\n",
    "#     df_population, df_fertility, df_demographics, df_depratio, df_deaths\n",
    "# )"
   ]
  },
  {
   "cell_type": "code",
   "execution_count": null,
   "id": "e873ebe5-ecaf-4a91-b79d-214b9628d8b7",
   "metadata": {},
   "outputs": [],
   "source": [
    "# Initiate dataset\n",
    "ds = init_dataset(dest_dir, walden_ds)\n",
    "# Add tables to dataset\n",
    "ds = add_tables_to_ds(\n",
    "    ds, df_population, df_fertility, df_demographics, df_depratio, df_deaths\n",
    ")"
   ]
  }
 ],
 "metadata": {
  "kernelspec": {
   "display_name": "Python 3",
   "language": "python",
   "name": "python3"
  },
  "language_info": {
   "codemirror_mode": {
    "name": "ipython",
    "version": 3
   },
   "file_extension": ".py",
   "mimetype": "text/x-python",
   "name": "python",
   "nbconvert_exporter": "python",
   "pygments_lexer": "ipython3",
   "version": "3.9.5"
  }
 },
 "nbformat": 4,
 "nbformat_minor": 5
}
