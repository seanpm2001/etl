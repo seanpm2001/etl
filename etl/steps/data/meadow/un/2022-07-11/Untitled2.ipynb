{
 "cells": [
  {
   "cell_type": "code",
   "execution_count": 1,
   "id": "2e93acec-433a-4bb9-87e9-ea61aecc743c",
   "metadata": {},
   "outputs": [],
   "source": [
    "from un_wpp import *"
   ]
  },
  {
   "cell_type": "code",
   "execution_count": 2,
   "id": "bfa63554-2ad0-48bf-bc67-ecdc800632dc",
   "metadata": {},
   "outputs": [],
   "source": [
    "walden_ds = load_walden_ds()\n",
    "tmp_dir = extract_data(walden_ds)\n",
    "df_population, df_fertility, df_demographics, df_depratio, df_deaths = load_data(\n",
    "    tmp_dir\n",
    ")"
   ]
  },
  {
   "cell_type": "code",
   "execution_count": 22,
   "id": "8c7d6c4a-87cf-4921-95ec-0b0f17ed6ed5",
   "metadata": {},
   "outputs": [
    {
     "data": {
      "text/plain": [
       "0            0\n",
       "1            1\n",
       "2            2\n",
       "3            3\n",
       "4            4\n",
       "          ... \n",
       "8894560     96\n",
       "8894561     97\n",
       "8894562     98\n",
       "8894563     99\n",
       "8894564    100\n",
       "Name: AgeGrpStart, Length: 8894565, dtype: uint8"
      ]
     },
     "execution_count": 22,
     "metadata": {},
     "output_type": "execute_result"
    }
   ],
   "source": [
    "df_population.AgeGrpStart.astype(\"uint8\")"
   ]
  },
  {
   "cell_type": "code",
   "execution_count": 24,
   "id": "771dafd6-925c-4aaf-915d-115271ad7425",
   "metadata": {},
   "outputs": [
    {
     "data": {
      "text/plain": [
       "436.000962"
      ]
     },
     "execution_count": 24,
     "metadata": {},
     "output_type": "execute_result"
    }
   ],
   "source": [
    "df_population.astype(\n",
    "    {\n",
    "        \"Time\": \"uint16\",\n",
    "        \"MidPeriod\": \"uint16\",\n",
    "        \"AgeGrpStart\": \"uint8\",\n",
    "        \"AgeGrpSpan\": \"uint8\",\n",
    "    }\n",
    ").memory_usage(deep=True).sum() / 1e6"
   ]
  },
  {
   "cell_type": "code",
   "execution_count": 32,
   "id": "44b3b370-0bd2-46c3-b8a6-11c07c8a57f7",
   "metadata": {},
   "outputs": [
    {
     "data": {
      "text/plain": [
       "0          1950.5\n",
       "1          1950.5\n",
       "2          1950.5\n",
       "3          1950.5\n",
       "4          1950.5\n",
       "            ...  \n",
       "2008390    2100.5\n",
       "2008391    2100.5\n",
       "2008392    2100.5\n",
       "2008393    2100.5\n",
       "2008394    2100.5\n",
       "Name: MidPeriod, Length: 2008395, dtype: float32"
      ]
     },
     "execution_count": 32,
     "metadata": {},
     "output_type": "execute_result"
    }
   ],
   "source": [
    "df_fertility.MidPeriod.astype(\"float32\")"
   ]
  },
  {
   "cell_type": "code",
   "execution_count": 33,
   "id": "4fecedf9-4338-4299-856e-ed6664eb5261",
   "metadata": {},
   "outputs": [
    {
     "data": {
      "text/plain": [
       "Index           0.000128\n",
       "SortOrder       4.042083\n",
       "LocID           4.042175\n",
       "Notes           2.011928\n",
       "ISO3_code       4.039246\n",
       "ISO2_code       4.038951\n",
       "SDMX_code       4.041772\n",
       "LocTypeID       2.009103\n",
       "LocTypeName     2.009176\n",
       "ParentID        2.011512\n",
       "Location        4.044830\n",
       "VarID           2.009218\n",
       "Variant         2.009307\n",
       "Time           16.067160\n",
       "MidPeriod       8.033580\n",
       "AgeGrp          2.008953\n",
       "AgeGrpStart    16.067160\n",
       "AgeGrpSpan     16.067160\n",
       "ASFR           16.067160\n",
       "PASFR          16.067160\n",
       "Births         16.067160\n",
       "dtype: float64"
      ]
     },
     "execution_count": 33,
     "metadata": {},
     "output_type": "execute_result"
    }
   ],
   "source": [
    "df_fertility.astype({\"MidPeriod\": \"float32\"}).memory_usage(deep=True) / 1e6"
   ]
  },
  {
   "cell_type": "code",
   "execution_count": 36,
   "id": "b644767e-5ae5-4b67-a615-b0004fa7d6c9",
   "metadata": {},
   "outputs": [
    {
     "data": {
      "text/plain": [
       "SortOrder                 category\n",
       "LocID                     category\n",
       "Notes                     category\n",
       "ISO3_code                 category\n",
       "ISO2_code                 category\n",
       "SDMX_code                 category\n",
       "LocTypeID                 category\n",
       "LocTypeName               category\n",
       "ParentID                  category\n",
       "Location                  category\n",
       "VarID                     category\n",
       "Variant                   category\n",
       "Time                         int64\n",
       "TPopulation1Jan            float64\n",
       "TPopulation1July           float64\n",
       "TPopulationMale1July       float64\n",
       "TPopulationFemale1July     float64\n",
       "PopDensity                 float64\n",
       "PopSexRatio                float64\n",
       "MedianAgePop               float64\n",
       "dtype: object"
      ]
     },
     "execution_count": 36,
     "metadata": {},
     "output_type": "execute_result"
    }
   ],
   "source": [
    "df_demographics.dtypes.head(20)"
   ]
  },
  {
   "cell_type": "code",
   "execution_count": 34,
   "id": "c001c4b9-302e-4c02-8812-c58e0bf242d7",
   "metadata": {},
   "outputs": [
    {
     "data": {
      "text/plain": [
       "134.290604"
      ]
     },
     "execution_count": 34,
     "metadata": {},
     "output_type": "execute_result"
    }
   ],
   "source": [
    "df_demographics.memory_usage(deep=True).sum() / 1e6"
   ]
  },
  {
   "cell_type": "code",
   "execution_count": 37,
   "id": "c20c97fb-f551-4562-9b84-265eaba9fc60",
   "metadata": {},
   "outputs": [
    {
     "data": {
      "text/plain": [
       "Index                                                 category\n",
       "Variant                                               category\n",
       "Region, subregion, country or area *                  category\n",
       "Notes                                                 category\n",
       "Location code                                         category\n",
       "ISO3 Alpha-code                                       category\n",
       "ISO2 Alpha-code                                       category\n",
       "SDMX code**                                           category\n",
       "Type                                                  category\n",
       "Parent code                                           category\n",
       "Year                                                     int64\n",
       "Annual total dep. ratio [(0-14 & 65+) / 15-64] (%)     float64\n",
       "Annual total dep. ratio [(0-19 & 65+) / 20-64] (%)     float64\n",
       "Annual total dep. ratio [(0-19 & 70+) / 20-69] (%)     float64\n",
       "Annual total dep. ratio [(0-24 & 70+) / 25-69] (%)     float64\n",
       "Annual total dep. ratio [(0-24 & 65+) / 25-64] (%)     float64\n",
       "Annual child dep. ratio [0-14 / 15-64] (%)             float64\n",
       "Annual child dep. ratio [0-19 / 20-64] (%)             float64\n",
       "Annual child dep. ratio [0-19 / 20-69] (%)             float64\n",
       "Annual child dep. ratio [0-24 / 25-69] (%)             float64\n",
       "dtype: object"
      ]
     },
     "execution_count": 37,
     "metadata": {},
     "output_type": "execute_result"
    }
   ],
   "source": [
    "df_depratio.dtypes.head(20)"
   ]
  },
  {
   "cell_type": "code",
   "execution_count": 7,
   "id": "32191edd-94a7-4599-9bc9-7b909a25de17",
   "metadata": {},
   "outputs": [
    {
     "data": {
      "text/plain": [
       "Index                                   category\n",
       "Variant                                 category\n",
       "Region, subregion, country or area *    category\n",
       "Notes                                   category\n",
       "Location code                           category\n",
       "                                          ...   \n",
       "97                                       float64\n",
       "98                                       float64\n",
       "99                                       float64\n",
       "100+                                     float64\n",
       "Sex                                       object\n",
       "Length: 113, dtype: object"
      ]
     },
     "execution_count": 7,
     "metadata": {},
     "output_type": "execute_result"
    }
   ],
   "source": [
    "df_deaths.dtypes"
   ]
  },
  {
   "cell_type": "code",
   "execution_count": 38,
   "id": "56247682-6373-4bc9-b3bc-305624da595e",
   "metadata": {},
   "outputs": [],
   "source": [
    "(\n",
    "    df_population,\n",
    "    df_fertility,\n",
    "    df_demographics,\n",
    "    df_depratio,\n",
    "    df_deaths,\n",
    ") = sanity_checks(df_population, df_fertility, df_demographics, df_depratio, df_deaths)"
   ]
  },
  {
   "cell_type": "code",
   "execution_count": 39,
   "id": "08de09f9-c9e5-4f18-b2bc-22954f066f00",
   "metadata": {},
   "outputs": [],
   "source": [
    "df_depratio, df_deaths = std_columns(df_depratio, df_deaths)"
   ]
  },
  {
   "cell_type": "code",
   "execution_count": null,
   "id": "2b7bceed-89ee-44ca-b821-d6ee7a28adfd",
   "metadata": {},
   "outputs": [],
   "source": []
  }
 ],
 "metadata": {
  "kernelspec": {
   "display_name": "Python 3",
   "language": "python",
   "name": "python3"
  },
  "language_info": {
   "codemirror_mode": {
    "name": "ipython",
    "version": 3
   },
   "file_extension": ".py",
   "mimetype": "text/x-python",
   "name": "python",
   "nbconvert_exporter": "python",
   "pygments_lexer": "ipython3",
   "version": "3.9.5"
  }
 },
 "nbformat": 4,
 "nbformat_minor": 5
}
