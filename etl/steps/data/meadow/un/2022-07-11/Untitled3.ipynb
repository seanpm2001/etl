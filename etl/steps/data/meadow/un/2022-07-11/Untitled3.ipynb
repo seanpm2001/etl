{
 "cells": [
  {
   "cell_type": "code",
   "execution_count": 1,
   "id": "9b3cfc44-235a-4073-8a31-3ab736b089da",
   "metadata": {},
   "outputs": [],
   "source": [
    "import zipfile\n",
    "import tempfile\n",
    "import os\n",
    "from typing import Tuple, Optional, List, Any\n",
    "\n",
    "import pandas as pd\n",
    "from pandas.api.types import CategoricalDtype\n",
    "\n",
    "import owid.walden as walden\n",
    "from owid.catalog import utils, Dataset, Table\n",
    "from etl.steps.data.converters import convert_walden_metadata"
   ]
  },
  {
   "cell_type": "code",
   "execution_count": 9,
   "id": "2055db2a-0d40-42f1-9ffb-9470a152024e",
   "metadata": {},
   "outputs": [],
   "source": [
    "from un_wpp import *\n",
    "from un_wpp import _load_demographics, _sanity_checks"
   ]
  },
  {
   "cell_type": "code",
   "execution_count": 3,
   "id": "204ed688-6473-4dc7-b6ba-729cb4603827",
   "metadata": {},
   "outputs": [],
   "source": [
    "walden_ds = load_walden_ds()\n",
    "with tempfile.TemporaryDirectory() as tmp_dir:\n",
    "    extract_data(walden_ds, tmp_dir)\n",
    "    # df_population, df_fertility, df_demographics, df_depratio, df_deaths = load_data(\n",
    "    #     tmp_dir\n",
    "    # )\n",
    "    df_demographics = _load_demographics(tmp_dir)"
   ]
  },
  {
   "cell_type": "code",
   "execution_count": 22,
   "id": "3c4f6056-213c-4fc3-8015-98a09ff4f60a",
   "metadata": {},
   "outputs": [
    {
     "data": {
      "text/plain": [
       "['High',\n",
       " 'Low',\n",
       " 'Constant fertility',\n",
       " 'Instant replacement',\n",
       " 'Zero migration',\n",
       " 'Constant mortality',\n",
       " 'No change',\n",
       " 'Momentum',\n",
       " 'Instant replacement zero migration',\n",
       " nan,\n",
       " 'Medium']"
      ]
     },
     "execution_count": 22,
     "metadata": {},
     "output_type": "execute_result"
    }
   ],
   "source": [
    "df_demographics_raw.Variant.unique().tolist()"
   ]
  },
  {
   "cell_type": "code",
   "execution_count": 7,
   "id": "dcedde40-9da9-4bc8-9f5e-3cdeaf22c67a",
   "metadata": {},
   "outputs": [
    {
     "ename": "NameError",
     "evalue": "name 'df_population' is not defined",
     "output_type": "error",
     "traceback": [
      "\u001b[0;31m---------------------------------------------------------------------------\u001b[0m",
      "\u001b[0;31mNameError\u001b[0m                                 Traceback (most recent call last)",
      "\u001b[0;32m/tmp/ipykernel_3448001/2529279280.py\u001b[0m in \u001b[0;36m<cell line: 1>\u001b[0;34m()\u001b[0m\n\u001b[0;32m----> 1\u001b[0;31m \u001b[0mdf_population_raw\u001b[0m \u001b[0;34m=\u001b[0m \u001b[0mdf_population\u001b[0m\u001b[0;34m.\u001b[0m\u001b[0mcopy\u001b[0m\u001b[0;34m(\u001b[0m\u001b[0;34m)\u001b[0m\u001b[0;34m\u001b[0m\u001b[0;34m\u001b[0m\u001b[0m\n\u001b[0m\u001b[1;32m      2\u001b[0m \u001b[0mdf_fertility_raw\u001b[0m \u001b[0;34m=\u001b[0m \u001b[0mdf_fertility\u001b[0m\u001b[0;34m.\u001b[0m\u001b[0mcopy\u001b[0m\u001b[0;34m(\u001b[0m\u001b[0;34m)\u001b[0m\u001b[0;34m\u001b[0m\u001b[0;34m\u001b[0m\u001b[0m\n\u001b[1;32m      3\u001b[0m \u001b[0mdf_demographics_raw\u001b[0m \u001b[0;34m=\u001b[0m \u001b[0mdf_demographics\u001b[0m\u001b[0;34m.\u001b[0m\u001b[0mcopy\u001b[0m\u001b[0;34m(\u001b[0m\u001b[0;34m)\u001b[0m\u001b[0;34m\u001b[0m\u001b[0;34m\u001b[0m\u001b[0m\n\u001b[1;32m      4\u001b[0m \u001b[0mdf_depratio_raw\u001b[0m \u001b[0;34m=\u001b[0m \u001b[0mdf_depratio\u001b[0m\u001b[0;34m.\u001b[0m\u001b[0mcopy\u001b[0m\u001b[0;34m(\u001b[0m\u001b[0;34m)\u001b[0m\u001b[0;34m\u001b[0m\u001b[0;34m\u001b[0m\u001b[0m\n\u001b[1;32m      5\u001b[0m \u001b[0mdf_deaths_raw\u001b[0m \u001b[0;34m=\u001b[0m \u001b[0mdf_deaths\u001b[0m\u001b[0;34m.\u001b[0m\u001b[0mcopy\u001b[0m\u001b[0;34m(\u001b[0m\u001b[0;34m)\u001b[0m\u001b[0;34m\u001b[0m\u001b[0;34m\u001b[0m\u001b[0m\n",
      "\u001b[0;31mNameError\u001b[0m: name 'df_population' is not defined"
     ]
    }
   ],
   "source": [
    "df_population_raw = df_population.copy()\n",
    "df_fertility_raw = df_fertility.copy()\n",
    "df_demographics_raw = df_demographics.copy()\n",
    "df_depratio_raw = df_depratio.copy()\n",
    "df_deaths_raw = df_deaths.copy()"
   ]
  },
  {
   "cell_type": "code",
   "execution_count": 8,
   "id": "e34fb5e6-f462-45fb-8ac0-ed1fb4d02137",
   "metadata": {},
   "outputs": [
    {
     "ename": "NameError",
     "evalue": "name '_sanity_checks' is not defined",
     "output_type": "error",
     "traceback": [
      "\u001b[0;31m---------------------------------------------------------------------------\u001b[0m",
      "\u001b[0;31mNameError\u001b[0m                                 Traceback (most recent call last)",
      "\u001b[0;32m/tmp/ipykernel_3448001/3990473156.py\u001b[0m in \u001b[0;36m<cell line: 1>\u001b[0;34m()\u001b[0m\n\u001b[0;32m----> 1\u001b[0;31m df_demographics = _sanity_checks(\n\u001b[0m\u001b[1;32m      2\u001b[0m     \u001b[0mdf_demographics\u001b[0m\u001b[0;34m,\u001b[0m\u001b[0;34m\u001b[0m\u001b[0;34m\u001b[0m\u001b[0m\n\u001b[1;32m      3\u001b[0m     \u001b[0;34m\"Location\"\u001b[0m\u001b[0;34m,\u001b[0m\u001b[0;34m\u001b[0m\u001b[0;34m\u001b[0m\u001b[0m\n\u001b[1;32m      4\u001b[0m     \u001b[0;34m\"LocID\"\u001b[0m\u001b[0;34m,\u001b[0m\u001b[0;34m\u001b[0m\u001b[0;34m\u001b[0m\u001b[0m\n\u001b[1;32m      5\u001b[0m     \u001b[0;34m\"LocTypeName\"\u001b[0m\u001b[0;34m,\u001b[0m\u001b[0;34m\u001b[0m\u001b[0;34m\u001b[0m\u001b[0m\n",
      "\u001b[0;31mNameError\u001b[0m: name '_sanity_checks' is not defined"
     ]
    }
   ],
   "source": [
    "df_demographics = _sanity_checks(\n",
    "    df_demographics,\n",
    "    \"Location\",\n",
    "    \"LocID\",\n",
    "    \"LocTypeName\",\n",
    "    [\"Geographic region\", \"Income group\", \"Country/Area\", \"World\"],\n",
    ")"
   ]
  },
  {
   "cell_type": "code",
   "execution_count": 8,
   "id": "3b3b79cf-198c-4f9b-adc0-e1eda0757ba7",
   "metadata": {},
   "outputs": [],
   "source": [
    "df_depratio, df_deaths = std_columns(df_depratio, df_deaths)"
   ]
  },
  {
   "cell_type": "code",
   "execution_count": 9,
   "id": "dc49592d-2ddb-4c37-8b3f-758f32098e79",
   "metadata": {},
   "outputs": [],
   "source": [
    "df_population = df_population.set_index(\n",
    "    [\"Location\", \"Time\", \"Variant\", \"AgeGrp\"],\n",
    "    verify_integrity=True,\n",
    ")\n",
    "df_fertility = df_fertility.set_index(\n",
    "    [\"Location\", \"Time\", \"Variant\", \"AgeGrp\"],\n",
    "    verify_integrity=True,\n",
    ")"
   ]
  },
  {
   "cell_type": "code",
   "execution_count": 12,
   "id": "fa181294-cd3c-4df8-88d3-f6d4419bd893",
   "metadata": {},
   "outputs": [],
   "source": [
    "df_depratio = df_depratio.set_index(\n",
    "    [\"Location\", \"Time\", \"Variant\", \"Sex\"],\n",
    "    verify_integrity=True,\n",
    ")\n",
    "df_deaths = df_deaths.set_index(\n",
    "    [\"Location\", \"Time\", \"Variant\", \"Sex\"],\n",
    "    verify_integrity=True,\n",
    ")"
   ]
  },
  {
   "cell_type": "code",
   "execution_count": null,
   "id": "2d4206a9-87e7-47ba-903f-694c2fe9618f",
   "metadata": {},
   "outputs": [],
   "source": []
  },
  {
   "cell_type": "code",
   "execution_count": 6,
   "id": "b44d3961-40c5-4b77-b9a5-692246fe0dce",
   "metadata": {
    "tags": []
   },
   "outputs": [
    {
     "ename": "ValueError",
     "evalue": "Index has duplicate keys: MultiIndex([('Latin America and the Caribbean', 2022,   'High'),\n            ('Latin America and the Caribbean', 2023,   'High'),\n            ('Latin America and the Caribbean', 2024,   'High'),\n            ('Latin America and the Caribbean', 2025,   'High'),\n            ('Latin America and the Caribbean', 2026,   'High'),\n            ('Latin America and the Caribbean', 2027,   'High'),\n            ('Latin America and the Caribbean', 2028,   'High'),\n            ('Latin America and the Caribbean', 2029,   'High'),\n            ('Latin America and the Caribbean', 2030,   'High'),\n            ('Latin America and the Caribbean', 2031,   'High'),\n            ...\n            (          'Australia/New Zealand', 2092, 'Medium'),\n            (          'Australia/New Zealand', 2093, 'Medium'),\n            (          'Australia/New Zealand', 2094, 'Medium'),\n            (          'Australia/New Zealand', 2095, 'Medium'),\n            (          'Australia/New Zealand', 2096, 'Medium'),\n            (          'Australia/New Zealand', 2097, 'Medium'),\n            (          'Australia/New Zealand', 2098, 'Medium'),\n            (          'Australia/New Zealand', 2099, 'Medium'),\n            (          'Australia/New Zealand', 2100, 'Medium'),\n            (          'Australia/New Zealand', 2101, 'Medium')],\n           names=['Location', 'Time', 'Variant'], length=2544)",
     "output_type": "error",
     "traceback": [
      "\u001b[0;31m---------------------------------------------------------------------------\u001b[0m",
      "\u001b[0;31mValueError\u001b[0m                                Traceback (most recent call last)",
      "\u001b[0;32m/tmp/ipykernel_3448001/1047686167.py\u001b[0m in \u001b[0;36m<cell line: 1>\u001b[0;34m()\u001b[0m\n\u001b[0;32m----> 1\u001b[0;31m df_demographics = df_demographics.set_index(\n\u001b[0m\u001b[1;32m      2\u001b[0m     \u001b[0;34m[\u001b[0m\u001b[0;34m\"Location\"\u001b[0m\u001b[0;34m,\u001b[0m \u001b[0;34m\"Time\"\u001b[0m\u001b[0;34m,\u001b[0m \u001b[0;34m\"Variant\"\u001b[0m\u001b[0;34m]\u001b[0m\u001b[0;34m,\u001b[0m\u001b[0;34m\u001b[0m\u001b[0;34m\u001b[0m\u001b[0m\n\u001b[1;32m      3\u001b[0m     \u001b[0mverify_integrity\u001b[0m\u001b[0;34m=\u001b[0m\u001b[0;32mTrue\u001b[0m\u001b[0;34m,\u001b[0m\u001b[0;34m\u001b[0m\u001b[0;34m\u001b[0m\u001b[0m\n\u001b[1;32m      4\u001b[0m )\n",
      "\u001b[0;32m~/repos/etl/.venv/lib/python3.9/site-packages/pandas/util/_decorators.py\u001b[0m in \u001b[0;36mwrapper\u001b[0;34m(*args, **kwargs)\u001b[0m\n\u001b[1;32m    309\u001b[0m                     \u001b[0mstacklevel\u001b[0m\u001b[0;34m=\u001b[0m\u001b[0mstacklevel\u001b[0m\u001b[0;34m,\u001b[0m\u001b[0;34m\u001b[0m\u001b[0;34m\u001b[0m\u001b[0m\n\u001b[1;32m    310\u001b[0m                 )\n\u001b[0;32m--> 311\u001b[0;31m             \u001b[0;32mreturn\u001b[0m \u001b[0mfunc\u001b[0m\u001b[0;34m(\u001b[0m\u001b[0;34m*\u001b[0m\u001b[0margs\u001b[0m\u001b[0;34m,\u001b[0m \u001b[0;34m**\u001b[0m\u001b[0mkwargs\u001b[0m\u001b[0;34m)\u001b[0m\u001b[0;34m\u001b[0m\u001b[0;34m\u001b[0m\u001b[0m\n\u001b[0m\u001b[1;32m    312\u001b[0m \u001b[0;34m\u001b[0m\u001b[0m\n\u001b[1;32m    313\u001b[0m         \u001b[0;32mreturn\u001b[0m \u001b[0mwrapper\u001b[0m\u001b[0;34m\u001b[0m\u001b[0;34m\u001b[0m\u001b[0m\n",
      "\u001b[0;32m~/repos/etl/.venv/lib/python3.9/site-packages/pandas/core/frame.py\u001b[0m in \u001b[0;36mset_index\u001b[0;34m(self, keys, drop, append, inplace, verify_integrity)\u001b[0m\n\u001b[1;32m   5557\u001b[0m         \u001b[0;32mif\u001b[0m \u001b[0mverify_integrity\u001b[0m \u001b[0;32mand\u001b[0m \u001b[0;32mnot\u001b[0m \u001b[0mindex\u001b[0m\u001b[0;34m.\u001b[0m\u001b[0mis_unique\u001b[0m\u001b[0;34m:\u001b[0m\u001b[0;34m\u001b[0m\u001b[0;34m\u001b[0m\u001b[0m\n\u001b[1;32m   5558\u001b[0m             \u001b[0mduplicates\u001b[0m \u001b[0;34m=\u001b[0m \u001b[0mindex\u001b[0m\u001b[0;34m[\u001b[0m\u001b[0mindex\u001b[0m\u001b[0;34m.\u001b[0m\u001b[0mduplicated\u001b[0m\u001b[0;34m(\u001b[0m\u001b[0;34m)\u001b[0m\u001b[0;34m]\u001b[0m\u001b[0;34m.\u001b[0m\u001b[0munique\u001b[0m\u001b[0;34m(\u001b[0m\u001b[0;34m)\u001b[0m\u001b[0;34m\u001b[0m\u001b[0;34m\u001b[0m\u001b[0m\n\u001b[0;32m-> 5559\u001b[0;31m             \u001b[0;32mraise\u001b[0m \u001b[0mValueError\u001b[0m\u001b[0;34m(\u001b[0m\u001b[0;34mf\"Index has duplicate keys: {duplicates}\"\u001b[0m\u001b[0;34m)\u001b[0m\u001b[0;34m\u001b[0m\u001b[0;34m\u001b[0m\u001b[0m\n\u001b[0m\u001b[1;32m   5560\u001b[0m \u001b[0;34m\u001b[0m\u001b[0m\n\u001b[1;32m   5561\u001b[0m         \u001b[0;31m# use set to handle duplicate column names gracefully in case of drop\u001b[0m\u001b[0;34m\u001b[0m\u001b[0;34m\u001b[0m\u001b[0;34m\u001b[0m\u001b[0m\n",
      "\u001b[0;31mValueError\u001b[0m: Index has duplicate keys: MultiIndex([('Latin America and the Caribbean', 2022,   'High'),\n            ('Latin America and the Caribbean', 2023,   'High'),\n            ('Latin America and the Caribbean', 2024,   'High'),\n            ('Latin America and the Caribbean', 2025,   'High'),\n            ('Latin America and the Caribbean', 2026,   'High'),\n            ('Latin America and the Caribbean', 2027,   'High'),\n            ('Latin America and the Caribbean', 2028,   'High'),\n            ('Latin America and the Caribbean', 2029,   'High'),\n            ('Latin America and the Caribbean', 2030,   'High'),\n            ('Latin America and the Caribbean', 2031,   'High'),\n            ...\n            (          'Australia/New Zealand', 2092, 'Medium'),\n            (          'Australia/New Zealand', 2093, 'Medium'),\n            (          'Australia/New Zealand', 2094, 'Medium'),\n            (          'Australia/New Zealand', 2095, 'Medium'),\n            (          'Australia/New Zealand', 2096, 'Medium'),\n            (          'Australia/New Zealand', 2097, 'Medium'),\n            (          'Australia/New Zealand', 2098, 'Medium'),\n            (          'Australia/New Zealand', 2099, 'Medium'),\n            (          'Australia/New Zealand', 2100, 'Medium'),\n            (          'Australia/New Zealand', 2101, 'Medium')],\n           names=['Location', 'Time', 'Variant'], length=2544)"
     ]
    }
   ],
   "source": [
    "df_demographics = df_demographics.set_index(\n",
    "    [\"Location\", \"Time\", \"Variant\"],\n",
    "    verify_integrity=True,\n",
    ")"
   ]
  },
  {
   "cell_type": "code",
   "execution_count": null,
   "id": "73e69a3a-b417-442c-af79-1e1236e108ac",
   "metadata": {},
   "outputs": [],
   "source": []
  }
 ],
 "metadata": {
  "kernelspec": {
   "display_name": "Python 3",
   "language": "python",
   "name": "python3"
  },
  "language_info": {
   "codemirror_mode": {
    "name": "ipython",
    "version": 3
   },
   "file_extension": ".py",
   "mimetype": "text/x-python",
   "name": "python",
   "nbconvert_exporter": "python",
   "pygments_lexer": "ipython3",
   "version": "3.9.5"
  }
 },
 "nbformat": 4,
 "nbformat_minor": 5
}
