{
 "cells": [
  {
   "cell_type": "markdown",
   "id": "2bb70c66-82d0-45e6-8f80-990705e6a260",
   "metadata": {},
   "source": [
    "# UN World Population Prospects 2022\n",
    "[_Source data_](https://population.un.org/wpp/)"
   ]
  },
  {
   "cell_type": "markdown",
   "id": "70bc3759-661e-495d-b3d3-b53a7fef8752",
   "metadata": {},
   "source": [
    "## Parameters"
   ]
  },
  {
   "cell_type": "code",
   "execution_count": 1,
   "id": "e7fa4aa3-ac80-46c7-aa34-ac2fcec00d8d",
   "metadata": {
    "tags": [
     "parameters"
    ]
   },
   "outputs": [],
   "source": [
    "dest_dir = \"/tmp/un_wpp\""
   ]
  },
  {
   "cell_type": "markdown",
   "id": "4df363dd-7dff-4aa5-a180-f0aab077610c",
   "metadata": {},
   "source": [
    "## Imports"
   ]
  },
  {
   "cell_type": "code",
   "execution_count": 2,
   "id": "96587843-daa0-497b-bac5-59f24283ba40",
   "metadata": {},
   "outputs": [],
   "source": [
    "import zipfile\n",
    "import tempfile\n",
    "import shutil\n",
    "from pathlib import Path\n",
    "import os\n",
    "\n",
    "import requests\n",
    "import pandas as pd\n",
    "\n",
    "from owid.catalog import Dataset, Table, frames, LocalCatalog\n",
    "from owid.walden import Catalog\n",
    "from etl.paths import DATA_DIR\n",
    "from etl.steps.data.converters import convert_walden_metadata"
   ]
  },
  {
   "cell_type": "markdown",
   "id": "28a72748-e749-4cb6-9e21-7cf24bc7f074",
   "metadata": {},
   "source": [
    "## Fetch walden dataset"
   ]
  },
  {
   "cell_type": "code",
   "execution_count": 3,
   "id": "750c3447-1318-4d34-b6df-5c263d634b70",
   "metadata": {},
   "outputs": [],
   "source": [
    "walden_ds = Catalog().find_one(\"un\", \"2022\", \"un_wpp\")"
   ]
  },
  {
   "cell_type": "code",
   "execution_count": 482,
   "id": "a7ed70eb-cec6-40a2-affc-d18d72d34cf4",
   "metadata": {},
   "outputs": [
    {
     "data": {
      "text/plain": [
       "owid.catalog.datasets.Dataset"
      ]
     },
     "execution_count": 482,
     "metadata": {},
     "output_type": "execute_result"
    }
   ],
   "source": [
    "type(ds)"
   ]
  },
  {
   "cell_type": "markdown",
   "id": "6bac24d5-e2c5-4447-a8a9-8d5245d993d0",
   "metadata": {},
   "source": [
    "## Make a dataset"
   ]
  },
  {
   "cell_type": "code",
   "execution_count": 445,
   "id": "2208b4da-b76c-43a5-b43f-f2043d56f994",
   "metadata": {},
   "outputs": [],
   "source": [
    "ds = Dataset.create_empty(dest_dir)\n",
    "ds.metadata = convert_walden_metadata(walden_ds)\n",
    "ds.metadata.short_name = \"un_wpp\"\n",
    "ds.save()"
   ]
  },
  {
   "cell_type": "markdown",
   "id": "8019441f-7fa8-4b05-875a-0d1441137892",
   "metadata": {},
   "source": [
    "## Unzip to temp directory"
   ]
  },
  {
   "cell_type": "code",
   "execution_count": 5,
   "id": "5a368aa4-b3f1-49d1-b410-548a59900641",
   "metadata": {},
   "outputs": [],
   "source": []
  },
  {
   "cell_type": "code",
   "execution_count": 6,
   "id": "c64eeecf-2103-42e9-8b0a-ba0dab445f46",
   "metadata": {},
   "outputs": [],
   "source": [
    "tmp_dir = tempfile.mkdtemp()\n",
    "z = zipfile.ZipFile(walden_ds.local_path)\n",
    "z.extractall(tmp_dir)"
   ]
  },
  {
   "cell_type": "code",
   "execution_count": 429,
   "id": "a1d4ba55-0407-4d25-94c7-e4d54176d8fd",
   "metadata": {
    "tags": []
   },
   "outputs": [],
   "source": [
    "# os.listdir(tmp_dir)"
   ]
  },
  {
   "cell_type": "markdown",
   "id": "68bbb7be-7de7-44fc-8b6e-ca12221dea8c",
   "metadata": {},
   "source": [
    "## Load datasets"
   ]
  },
  {
   "cell_type": "code",
   "execution_count": 101,
   "id": "ce6edb84-b08a-42e6-8976-efcfc2a9f198",
   "metadata": {},
   "outputs": [],
   "source": [
    "from pandas.api.types import CategoricalDtype"
   ]
  },
  {
   "cell_type": "markdown",
   "id": "19f624ce-9636-4358-99e1-500ef57cb2dc",
   "metadata": {},
   "source": [
    "### Population"
   ]
  },
  {
   "cell_type": "code",
   "execution_count": 408,
   "id": "c43256ea-412d-44ff-9ac5-6adb2cfa550f",
   "metadata": {},
   "outputs": [],
   "source": [
    "filenames = list(filter(lambda x: \"PopulationBySingleAgeSex\" in x, os.listdir(tmp_dir)))\n",
    "dtype = {\n",
    "    \"SortOrder\": \"category\",\n",
    "    \"LocID\": \"category\",\n",
    "    \"Notes\": \"category\",\n",
    "    \"ISO3_code\": \"category\",\n",
    "    \"ISO2_code\": \"category\",\n",
    "    \"SDMX_code\": \"category\",\n",
    "    \"LocTypeID\": \"category\",\n",
    "    \"LocTypeName\": \"category\",\n",
    "    \"ParentID\": \"category\",\n",
    "    \"Location\": \"category\",\n",
    "    \"VarID\": CategoricalDtype(categories=[\"2\", \"3\", \"4\"]),\n",
    "    \"Variant\": CategoricalDtype(categories=[\"Medium\", \"High\", \"Low\"]),\n",
    "    \"Time\": \"int\",\n",
    "    \"MidPeriod\": \"int\",\n",
    "    \"AgeGrp\": \"category\",\n",
    "    \"AgeGrpStart\": \"int\",\n",
    "    \"AgeGrpSpan\": \"int\",\n",
    "    \"PopMale\": \"float\",\n",
    "    \"PopFemale\": \"float\",\n",
    "    \"PopTotal\": \"float\",\n",
    "}\n",
    "df_population = pd.concat(\n",
    "    [\n",
    "        pd.read_csv(os.path.join(tmp_dir, filename), dtype=dtype)\n",
    "        for filename in filenames\n",
    "    ],\n",
    "    ignore_index=True,\n",
    ")"
   ]
  },
  {
   "cell_type": "markdown",
   "id": "d4fe216b-635d-4b2d-973f-383612eef86a",
   "metadata": {
    "tags": []
   },
   "source": [
    "### Fertility"
   ]
  },
  {
   "cell_type": "code",
   "execution_count": 410,
   "id": "53f62665-0daf-4e78-ba3a-d4fc8bef48fb",
   "metadata": {
    "tags": []
   },
   "outputs": [],
   "source": [
    "(filename,) = [\n",
    "    f\n",
    "    for f in filter(lambda x: \"Fertility\" in x, os.listdir(tmp_dir))\n",
    "    if \"notes\" not in f\n",
    "]\n",
    "dtype = {\n",
    "    \"SortOrder\": \"category\",\n",
    "    \"LocID\": \"category\",\n",
    "    \"Notes\": \"category\",\n",
    "    \"ISO3_code\": \"category\",\n",
    "    \"ISO2_code\": \"category\",\n",
    "    \"SDMX_code\": \"category\",\n",
    "    \"LocTypeID\": \"category\",\n",
    "    \"LocTypeName\": \"category\",\n",
    "    \"ParentID\": \"category\",\n",
    "    \"Location\": \"category\",\n",
    "    \"VarID\": \"category\",\n",
    "    \"Variant\": \"category\",\n",
    "    \"Time\": \"int\",\n",
    "    \"MidPeriod\": \"float\",\n",
    "    \"AgeGrp\": \"category\",\n",
    "    \"AgeGrpStart\": \"int\",\n",
    "    \"AgeGrpSpan\": \"int\",\n",
    "    \"ASFR\": \"float\",\n",
    "    \"PASFR\": \"float\",\n",
    "    \"Births\": \"float\",\n",
    "}\n",
    "df_fertility = pd.read_csv(os.path.join(tmp_dir, filename), dtype=dtype)"
   ]
  },
  {
   "cell_type": "markdown",
   "id": "b206fe79-192a-458d-87c3-e24647861ddf",
   "metadata": {},
   "source": [
    "## Demographic"
   ]
  },
  {
   "cell_type": "code",
   "execution_count": 440,
   "id": "97da3817-ab91-40ed-a4b2-d441e21774dc",
   "metadata": {},
   "outputs": [],
   "source": [
    "filenames = [\n",
    "    f\n",
    "    for f in filter(lambda x: \"Demographic\" in x, os.listdir(tmp_dir))\n",
    "    if \"notes\" not in f\n",
    "]\n",
    "dtype = {\n",
    "    \"SortOrder\": \"category\",\n",
    "    \"LocID\": \"category\",\n",
    "    \"Notes\": \"category\",\n",
    "    \"ISO3_code\": \"category\",\n",
    "    \"ISO2_code\": \"category\",\n",
    "    \"SDMX_code\": \"category\",\n",
    "    \"LocTypeID\": \"category\",\n",
    "    \"LocTypeName\": \"category\",\n",
    "    \"ParentID\": \"category\",\n",
    "    \"Location\": \"category\",\n",
    "    \"VarID\": CategoricalDtype(\n",
    "        categories=[\"2\", \"3\", \"4\", \"5\", \"6\", \"7\", \"8\", \"9\", \"10\", \"16\"]\n",
    "    ),\n",
    "    \"Variant\": CategoricalDtype(\n",
    "        categories=[\n",
    "            \"Medium\",\n",
    "            \"High\",\n",
    "            \"Low\",\n",
    "            \"Constant fertility\",\n",
    "            \"Instant replacement\",\n",
    "            \"Zero migration\",\n",
    "            \"Constant mortality\",\n",
    "            \"No change\",\n",
    "            \"Momentum\",\n",
    "        ]\n",
    "    ),\n",
    "    \"Time\": \"int\",\n",
    "}\n",
    "df_demographics = pd.concat(\n",
    "    [\n",
    "        pd.read_csv(os.path.join(tmp_dir, filename), dtype=dtype)\n",
    "        for filename in filenames\n",
    "    ],\n",
    "    ignore_index=True,\n",
    ")"
   ]
  },
  {
   "cell_type": "markdown",
   "id": "726f507c-82ab-44f2-a73d-dc650f38df1a",
   "metadata": {},
   "source": [
    "### Excel: deaths & dependency ratio"
   ]
  },
  {
   "cell_type": "code",
   "execution_count": 279,
   "id": "3eaaae6c-b0c4-4932-987e-9afad7b9be11",
   "metadata": {},
   "outputs": [],
   "source": [
    "dtype_base = {\n",
    "    \"Index\": \"category\",\n",
    "    \"Variant\": \"category\",\n",
    "    \"Region, subregion, country or area *\": \"category\",\n",
    "    \"Notes\": \"category\",\n",
    "    \"Location code\": \"category\",\n",
    "    \"ISO3 Alpha-code\": \"category\",\n",
    "    \"ISO2 Alpha-code\": \"category\",\n",
    "    \"SDMX code**\": \"category\",\n",
    "    \"Type\": \"category\",\n",
    "    \"Parent code\": \"category\",\n",
    "    \"Year\": \"int\",\n",
    "}\n",
    "kwargs = {\n",
    "    \"skiprows\": 16,\n",
    "    \"sheet_name\": [\"Estimates\", \"Medium variant\", \"High variant\", \"Low variant\"],\n",
    "}\n",
    "\n",
    "\n",
    "def read_file(filename):\n",
    "    # print(filename)\n",
    "    # Load excel\n",
    "    df = pd.read_excel(os.path.join(tmp_dir, filename), **kwargs)\n",
    "    # Check\n",
    "    assert len(set(str(set(d.columns)) for _, d in x.items())) == 1\n",
    "    # Concatenate\n",
    "    df = pd.concat(list(df.values()), ignore_index=True)\n",
    "    # Filter\n",
    "    df = df[df.Type != \"Label/Separator\"]\n",
    "    # Dtypes\n",
    "    dtype = {**dtype_base, **{m: \"float\" for m in df.columns if m not in dtype_base}}\n",
    "    df = df.astype(dtype)\n",
    "    if \"BOTH_SEXES\" in filename:\n",
    "        df = df.assign(Sex=\"Both\")\n",
    "    elif \"FEMALE\" in filename:\n",
    "        df = df.assign(Sex=\"Female\")\n",
    "    else:\n",
    "        df = df.assign(Sex=\"Male\")\n",
    "    return df"
   ]
  },
  {
   "cell_type": "code",
   "execution_count": 281,
   "id": "7a33f362-5cad-42de-a49e-981da78fdb8f",
   "metadata": {},
   "outputs": [
    {
     "name": "stdout",
     "output_type": "stream",
     "text": [
      "WPP2022_MORT_F01_1_DEATHS_SINGLE_AGE_BOTH_SEXES.xlsx\n",
      "WPP2022_MORT_F01_2_DEATHS_SINGLE_AGE_MALE.xlsx\n",
      "WPP2022_MORT_F01_3_DEATHS_SINGLE_AGE_FEMALE.xlsx\n"
     ]
    }
   ],
   "source": [
    "filenames = list(filter(lambda x: \"DEATHS\" in x, os.listdir(tmp_dir)))\n",
    "# Load\n",
    "dfs = [read_file(filename) for filename in filenames]\n",
    "df_deaths = pd.concat(dfs, ignore_index=True)"
   ]
  },
  {
   "cell_type": "code",
   "execution_count": 282,
   "id": "d81014cc-db20-4f14-8f5e-c70dd1a68bfd",
   "metadata": {},
   "outputs": [
    {
     "name": "stdout",
     "output_type": "stream",
     "text": [
      "WPP2022_POP_F07_3_DEPENDENCY_RATIOS_FEMALE.xlsx\n",
      "WPP2022_POP_F07_2_DEPENDENCY_RATIOS_MALE.xlsx\n",
      "WPP2022_POP_F07_1_DEPENDENCY_RATIOS_BOTH_SEXES.xlsx\n"
     ]
    }
   ],
   "source": [
    "filenames = list(filter(lambda x: \"DEPENDENCY_RATIOS\" in x, os.listdir(tmp_dir)))\n",
    "# Load\n",
    "dfs = [read_file(filename) for filename in filenames]\n",
    "df_depratio = pd.concat(dfs, ignore_index=True)"
   ]
  },
  {
   "cell_type": "markdown",
   "id": "78a3c7af-318c-4550-9e5d-1ab0c1197fd4",
   "metadata": {
    "tags": []
   },
   "source": [
    "## Clean dataset"
   ]
  },
  {
   "cell_type": "markdown",
   "id": "99f42ce3-e627-42d2-b200-00b443355d3b",
   "metadata": {},
   "source": [
    "### Sanity checks"
   ]
  },
  {
   "cell_type": "code",
   "execution_count": 320,
   "id": "acfb45c9-1910-4a3b-934c-82acc2d93b73",
   "metadata": {},
   "outputs": [],
   "source": [
    "def post_processing(\n",
    "    df,\n",
    "    column_location,\n",
    "    column_location_id,\n",
    "    column_location_type=None,\n",
    "    location_type_values=None,\n",
    "):\n",
    "    # There are some duplicates. Some locations appear with two different location IDs, but same data.\n",
    "    if column_location_type:\n",
    "        df = df[df[column_location_type].isin(location_type_values)]\n",
    "    cols = [col for col in df.columns if col != column_location_id]\n",
    "    df = df.drop_duplicates(subset=cols)\n",
    "    assert df.groupby(column_location_id)[column_location].nunique().max() == 1\n",
    "    assert df.groupby(column_location)[column_location_id].nunique().max() == 1\n",
    "    return df"
   ]
  },
  {
   "cell_type": "code",
   "execution_count": 324,
   "id": "82cf7aa5-61df-4af5-bc76-c347eb4224f6",
   "metadata": {},
   "outputs": [],
   "source": [
    "df_population = post_processing(\n",
    "    df_population,\n",
    "    \"Location\",\n",
    "    \"LocID\",\n",
    "    \"LocTypeName\",\n",
    "    [\"Geographic region\", \"Income group\", \"Country/Area\", \"World\"],\n",
    ")\n",
    "df_fertility = post_processing(\n",
    "    df_fertility,\n",
    "    \"Location\",\n",
    "    \"LocID\",\n",
    "    \"LocTypeName\",\n",
    "    [\"Geographic region\", \"Income group\", \"Country/Area\", \"World\"],\n",
    ")\n",
    "df_demographics = post_processing(\n",
    "    df_demographics,\n",
    "    \"Location\",\n",
    "    \"LocID\",\n",
    "    \"LocTypeName\",\n",
    "    [\"Geographic region\", \"Income group\", \"Country/Area\", \"World\"],\n",
    ")\n",
    "df_depratio = post_processing(\n",
    "    df_depratio,\n",
    "    \"Region, subregion, country or area *\",\n",
    "    \"Location code\",\n",
    "    \"Type\",\n",
    "    [\"Region\", \"Income Group\", \"Country/Area\", \"World\"],\n",
    ")\n",
    "df_deaths = post_processing(\n",
    "    df_deaths,\n",
    "    \"Region, subregion, country or area *\",\n",
    "    \"Location code\",\n",
    "    \"Type\",\n",
    "    [\"Region\", \"Income Group\", \"Country/Area\", \"World\"],\n",
    ")"
   ]
  },
  {
   "cell_type": "markdown",
   "id": "72057811-6edc-40d2-add7-146105c3a05f",
   "metadata": {},
   "source": [
    "### Uniform column names"
   ]
  },
  {
   "cell_type": "code",
   "execution_count": 344,
   "id": "4c5f3489-49bb-4679-a57d-a28af2912dc9",
   "metadata": {},
   "outputs": [],
   "source": [
    "columns_rename = {\n",
    "    \"Variant\": \"Variant\",\n",
    "    \"Region, subregion, country or area *\": \"Location\",\n",
    "    \"Notes\": \"Notes\",\n",
    "    \"Location code\": \"LocID\",\n",
    "    \"ISO3 Alpha-code\": \"ISO3_code\",\n",
    "    \"ISO2 Alpha-code\": \"ISO2_code\",\n",
    "    \"SDMX code**\": \"SDMX_code\",\n",
    "    \"Type\": \"LocTypeName\",\n",
    "    \"Parent code\": \"ParentID\",\n",
    "    \"Year\": \"Time\",\n",
    "}\n",
    "columns_drop = [\"Index\"]"
   ]
  },
  {
   "cell_type": "code",
   "execution_count": 346,
   "id": "98a32528-41c8-4a2f-a6f4-442cca12349d",
   "metadata": {},
   "outputs": [],
   "source": [
    "df_depratio = df_depratio.rename(columns=columns_rename).drop(columns=columns_drop)\n",
    "df_deaths = df_deaths.rename(columns=columns_rename).drop(columns=columns_drop)"
   ]
  },
  {
   "cell_type": "markdown",
   "id": "96845763-d37a-49f8-8c82-7f2d1747f929",
   "metadata": {},
   "source": [
    "### Set index"
   ]
  },
  {
   "cell_type": "code",
   "execution_count": 350,
   "id": "11fb7a70-2f77-44be-8c2e-999183ebd0bf",
   "metadata": {},
   "outputs": [],
   "source": [
    "df_population = df_population.set_index(\n",
    "    [\"Location\", \"Time\", \"Variant\", \"AgeGrp\"],\n",
    "    verify_integrity=True,\n",
    ")\n",
    "df_fertility = df_fertility.set_index(\n",
    "    [\"Location\", \"Time\", \"Variant\", \"AgeGrp\"],\n",
    "    verify_integrity=True,\n",
    ")\n",
    "df_demographics = df_demographics.set_index(\n",
    "    [\"Location\", \"Time\", \"Variant\"],\n",
    "    verify_integrity=True,\n",
    ")\n",
    "df_depratio = df_depratio.set_index(\n",
    "    [\"Location\", \"Time\", \"Variant\", \"Sex\"],\n",
    "    verify_integrity=True,\n",
    ")\n",
    "df_deaths = df_deaths.set_index(\n",
    "    [\"Location\", \"Time\", \"Variant\", \"Sex\"],\n",
    "    verify_integrity=True,\n",
    ")"
   ]
  },
  {
   "cell_type": "markdown",
   "id": "7a23238f-b81f-4c88-bd24-bded774c0ae1",
   "metadata": {},
   "source": [
    "### Columns as str"
   ]
  },
  {
   "cell_type": "code",
   "execution_count": 438,
   "id": "b12e5ddd-3875-4f4f-aa7f-f3fe0f0fc996",
   "metadata": {},
   "outputs": [],
   "source": [
    "def df_cols_as_str(df):\n",
    "    df.columns = df.columns.astype(str)\n",
    "    return df"
   ]
  },
  {
   "cell_type": "code",
   "execution_count": 442,
   "id": "424aa7aa-ffc3-45a2-88a7-480a56e9d53b",
   "metadata": {},
   "outputs": [],
   "source": [
    "df_population = df_cols_as_str(df_population)\n",
    "df_fertility = df_cols_as_str(df_fertility)\n",
    "df_demographics = df_cols_as_str(df_demographics)\n",
    "df_depratio = df_cols_as_str(df_depratio)\n",
    "df_deaths = df_cols_as_str(df_deaths)"
   ]
  },
  {
   "cell_type": "markdown",
   "id": "81c0b842-88c8-427a-9630-5bcbbdf97ba2",
   "metadata": {},
   "source": [
    "### Type fixes"
   ]
  },
  {
   "cell_type": "code",
   "execution_count": null,
   "id": "744cf52e-4f17-43ac-ae54-997559d1c344",
   "metadata": {},
   "outputs": [],
   "source": [
    "_type = \"category\"\n",
    "df_deaths = df_deaths.assign(Notes=df_deaths.Notes.astype(_type))\n",
    "df_depratio = df_depratio.assign(Notes=df_depratio.Notes.astype(_type))"
   ]
  },
  {
   "cell_type": "markdown",
   "id": "ca252fd0-270c-4f19-815d-bee945e06127",
   "metadata": {},
   "source": [
    "## Add tables"
   ]
  },
  {
   "cell_type": "code",
   "execution_count": 443,
   "id": "430e2e36-a573-405c-a87c-5c1011305bc3",
   "metadata": {},
   "outputs": [],
   "source": [
    "from owid.catalog import utils"
   ]
  },
  {
   "cell_type": "code",
   "execution_count": 462,
   "id": "7bb67dec-fea5-4a3e-8f1a-a8ebb080817f",
   "metadata": {},
   "outputs": [],
   "source": [
    "ds = Dataset.create_empty(dest_dir)\n",
    "ds.metadata = convert_walden_metadata(walden_ds)\n",
    "ds.metadata.short_name = \"un_wpp\"\n",
    "ds.save()"
   ]
  },
  {
   "cell_type": "code",
   "execution_count": 480,
   "id": "9a75b47c-788a-4c28-8640-217b16a57f54",
   "metadata": {},
   "outputs": [
    {
     "name": "stdout",
     "output_type": "stream",
     "text": [
      "population\n",
      "fertility\n",
      "demographics\n",
      "deaths\n",
      "dependency_ratio\n"
     ]
    }
   ],
   "source": [
    "data = [\n",
    "    (df_population, \"population\"),\n",
    "    (df_fertility, \"fertility\"),\n",
    "    (df_demographics, \"demographics\"),\n",
    "    (df_deaths, \"deaths\"),\n",
    "    (df_depratio, \"dependency_ratio\"),\n",
    "]\n",
    "for elem in data:\n",
    "    print(elem[1])\n",
    "    t = Table(elem[0])\n",
    "    t.metadata.short_name = elem[1]\n",
    "    ds.add(utils.underscore_table(t))"
   ]
  },
  {
   "cell_type": "markdown",
   "id": "6b11e94a-9a25-4301-8545-16926e016781",
   "metadata": {},
   "source": [
    "## Cleanup"
   ]
  },
  {
   "cell_type": "code",
   "execution_count": null,
   "id": "310c61fb-0019-4f5a-9405-1f00d13e1e69",
   "metadata": {},
   "outputs": [],
   "source": [
    "shutil.rmtree(tmp_dir)"
   ]
  }
 ],
 "metadata": {
  "kernelspec": {
   "display_name": "Python 3",
   "language": "python",
   "name": "python3"
  },
  "language_info": {
   "codemirror_mode": {
    "name": "ipython",
    "version": 3
   },
   "file_extension": ".py",
   "mimetype": "text/x-python",
   "name": "python",
   "nbconvert_exporter": "python",
   "pygments_lexer": "ipython3",
   "version": "3.9.5"
  }
 },
 "nbformat": 4,
 "nbformat_minor": 5
}
