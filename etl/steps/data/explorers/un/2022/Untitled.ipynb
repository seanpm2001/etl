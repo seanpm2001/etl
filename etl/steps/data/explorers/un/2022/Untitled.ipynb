{
 "cells": [
  {
   "cell_type": "code",
   "execution_count": 1,
   "id": "0a29ff7a-8760-4d40-aaba-a0138f9d883e",
   "metadata": {},
   "outputs": [],
   "source": [
    "import os\n",
    "from copy import deepcopy"
   ]
  },
  {
   "cell_type": "code",
   "execution_count": 5,
   "id": "51fda368-e742-48b9-887f-8232cecc2260",
   "metadata": {},
   "outputs": [],
   "source": [
    "from un_wpp import *\n",
    "from un_wpp import (\n",
    "    _organize_variants,\n",
    "    _pivot_df,\n",
    "    _extract_dimension_values,\n",
    "    _load_dataset,\n",
    "    _keep_relevant_rows,\n",
    ")\n",
    "from owid import catalog\n",
    "from etl.paths import DATA_DIR"
   ]
  },
  {
   "cell_type": "code",
   "execution_count": 6,
   "id": "6b5fbd50-1424-41f8-88f1-c8c341d19330",
   "metadata": {},
   "outputs": [
    {
     "name": "stdout",
     "output_type": "stream",
     "text": [
      "Filling all gaps (variants)\n",
      "Pivot table\n"
     ]
    },
    {
     "ename": "ValueError",
     "evalue": "Index contains duplicate entries, cannot reshape",
     "output_type": "error",
     "traceback": [
      "\u001b[0;31m---------------------------------------------------------------------------\u001b[0m",
      "\u001b[0;31mValueError\u001b[0m                                Traceback (most recent call last)",
      "\u001b[0;32m/tmp/ipykernel_2820087/164579679.py\u001b[0m in \u001b[0;36m<cell line: 8>\u001b[0;34m()\u001b[0m\n\u001b[1;32m      6\u001b[0m \u001b[0mdf\u001b[0m \u001b[0;34m=\u001b[0m \u001b[0m_organize_variants\u001b[0m\u001b[0;34m(\u001b[0m\u001b[0mdf\u001b[0m\u001b[0;34m)\u001b[0m\u001b[0;34m\u001b[0m\u001b[0;34m\u001b[0m\u001b[0m\n\u001b[1;32m      7\u001b[0m \u001b[0;31m# Pivot\u001b[0m\u001b[0;34m\u001b[0m\u001b[0;34m\u001b[0m\u001b[0;34m\u001b[0m\u001b[0m\n\u001b[0;32m----> 8\u001b[0;31m \u001b[0mdf\u001b[0m \u001b[0;34m=\u001b[0m \u001b[0m_pivot_df\u001b[0m\u001b[0;34m(\u001b[0m\u001b[0mdf\u001b[0m\u001b[0;34m)\u001b[0m\u001b[0;34m\u001b[0m\u001b[0;34m\u001b[0m\u001b[0m\n\u001b[0m",
      "\u001b[0;32m~/repos/etl/etl/steps/data/explorers/un/2022/un_wpp.py\u001b[0m in \u001b[0;36m_pivot_df\u001b[0;34m(df)\u001b[0m\n\u001b[1;32m     66\u001b[0m \u001b[0;34m\u001b[0m\u001b[0m\n\u001b[1;32m     67\u001b[0m     \u001b[0mdf\u001b[0m \u001b[0;34m=\u001b[0m \u001b[0mdf\u001b[0m\u001b[0;34m.\u001b[0m\u001b[0mdropna\u001b[0m\u001b[0;34m(\u001b[0m\u001b[0mhow\u001b[0m\u001b[0;34m=\u001b[0m\u001b[0;34m\"all\"\u001b[0m\u001b[0;34m)\u001b[0m\u001b[0;34m\u001b[0m\u001b[0;34m\u001b[0m\u001b[0m\n\u001b[0;32m---> 68\u001b[0;31m     df = df.pivot(\n\u001b[0m\u001b[1;32m     69\u001b[0m         \u001b[0mindex\u001b[0m\u001b[0;34m=\u001b[0m\u001b[0;34m[\u001b[0m\u001b[0;34m\"location\"\u001b[0m\u001b[0;34m,\u001b[0m \u001b[0;34m\"year\"\u001b[0m\u001b[0;34m]\u001b[0m\u001b[0;34m,\u001b[0m\u001b[0;34m\u001b[0m\u001b[0;34m\u001b[0m\u001b[0m\n\u001b[1;32m     70\u001b[0m         \u001b[0mcolumns\u001b[0m\u001b[0;34m=\u001b[0m\u001b[0;34m[\u001b[0m\u001b[0;34m\"metric\"\u001b[0m\u001b[0;34m,\u001b[0m \u001b[0;34m\"sex\"\u001b[0m\u001b[0;34m,\u001b[0m \u001b[0;34m\"age\"\u001b[0m\u001b[0;34m,\u001b[0m \u001b[0;34m\"variant\"\u001b[0m\u001b[0;34m]\u001b[0m\u001b[0;34m,\u001b[0m\u001b[0;34m\u001b[0m\u001b[0;34m\u001b[0m\u001b[0m\n",
      "\u001b[0;32m~/repos/etl/.venv/lib/python3.9/site-packages/pandas/core/frame.py\u001b[0m in \u001b[0;36mpivot\u001b[0;34m(self, index, columns, values)\u001b[0m\n\u001b[1;32m   7880\u001b[0m         \u001b[0;32mfrom\u001b[0m \u001b[0mpandas\u001b[0m\u001b[0;34m.\u001b[0m\u001b[0mcore\u001b[0m\u001b[0;34m.\u001b[0m\u001b[0mreshape\u001b[0m\u001b[0;34m.\u001b[0m\u001b[0mpivot\u001b[0m \u001b[0;32mimport\u001b[0m \u001b[0mpivot\u001b[0m\u001b[0;34m\u001b[0m\u001b[0;34m\u001b[0m\u001b[0m\n\u001b[1;32m   7881\u001b[0m \u001b[0;34m\u001b[0m\u001b[0m\n\u001b[0;32m-> 7882\u001b[0;31m         \u001b[0;32mreturn\u001b[0m \u001b[0mpivot\u001b[0m\u001b[0;34m(\u001b[0m\u001b[0mself\u001b[0m\u001b[0;34m,\u001b[0m \u001b[0mindex\u001b[0m\u001b[0;34m=\u001b[0m\u001b[0mindex\u001b[0m\u001b[0;34m,\u001b[0m \u001b[0mcolumns\u001b[0m\u001b[0;34m=\u001b[0m\u001b[0mcolumns\u001b[0m\u001b[0;34m,\u001b[0m \u001b[0mvalues\u001b[0m\u001b[0;34m=\u001b[0m\u001b[0mvalues\u001b[0m\u001b[0;34m)\u001b[0m\u001b[0;34m\u001b[0m\u001b[0;34m\u001b[0m\u001b[0m\n\u001b[0m\u001b[1;32m   7883\u001b[0m \u001b[0;34m\u001b[0m\u001b[0m\n\u001b[1;32m   7884\u001b[0m     _shared_docs[\n",
      "\u001b[0;32m~/repos/etl/.venv/lib/python3.9/site-packages/pandas/core/reshape/pivot.py\u001b[0m in \u001b[0;36mpivot\u001b[0;34m(data, index, columns, values)\u001b[0m\n\u001b[1;32m    518\u001b[0m         \u001b[0;32melse\u001b[0m\u001b[0;34m:\u001b[0m\u001b[0;34m\u001b[0m\u001b[0;34m\u001b[0m\u001b[0m\n\u001b[1;32m    519\u001b[0m             \u001b[0mindexed\u001b[0m \u001b[0;34m=\u001b[0m \u001b[0mdata\u001b[0m\u001b[0;34m.\u001b[0m\u001b[0m_constructor_sliced\u001b[0m\u001b[0;34m(\u001b[0m\u001b[0mdata\u001b[0m\u001b[0;34m[\u001b[0m\u001b[0mvalues\u001b[0m\u001b[0;34m]\u001b[0m\u001b[0;34m.\u001b[0m\u001b[0m_values\u001b[0m\u001b[0;34m,\u001b[0m \u001b[0mindex\u001b[0m\u001b[0;34m=\u001b[0m\u001b[0mmultiindex\u001b[0m\u001b[0;34m)\u001b[0m\u001b[0;34m\u001b[0m\u001b[0;34m\u001b[0m\u001b[0m\n\u001b[0;32m--> 520\u001b[0;31m     \u001b[0;32mreturn\u001b[0m \u001b[0mindexed\u001b[0m\u001b[0;34m.\u001b[0m\u001b[0munstack\u001b[0m\u001b[0;34m(\u001b[0m\u001b[0mcolumns_listlike\u001b[0m\u001b[0;34m)\u001b[0m\u001b[0;34m\u001b[0m\u001b[0;34m\u001b[0m\u001b[0m\n\u001b[0m\u001b[1;32m    521\u001b[0m \u001b[0;34m\u001b[0m\u001b[0m\n\u001b[1;32m    522\u001b[0m \u001b[0;34m\u001b[0m\u001b[0m\n",
      "\u001b[0;32m~/repos/etl/.venv/lib/python3.9/site-packages/pandas/core/series.py\u001b[0m in \u001b[0;36munstack\u001b[0;34m(self, level, fill_value)\u001b[0m\n\u001b[1;32m   4155\u001b[0m         \u001b[0;32mfrom\u001b[0m \u001b[0mpandas\u001b[0m\u001b[0;34m.\u001b[0m\u001b[0mcore\u001b[0m\u001b[0;34m.\u001b[0m\u001b[0mreshape\u001b[0m\u001b[0;34m.\u001b[0m\u001b[0mreshape\u001b[0m \u001b[0;32mimport\u001b[0m \u001b[0munstack\u001b[0m\u001b[0;34m\u001b[0m\u001b[0;34m\u001b[0m\u001b[0m\n\u001b[1;32m   4156\u001b[0m \u001b[0;34m\u001b[0m\u001b[0m\n\u001b[0;32m-> 4157\u001b[0;31m         \u001b[0;32mreturn\u001b[0m \u001b[0munstack\u001b[0m\u001b[0;34m(\u001b[0m\u001b[0mself\u001b[0m\u001b[0;34m,\u001b[0m \u001b[0mlevel\u001b[0m\u001b[0;34m,\u001b[0m \u001b[0mfill_value\u001b[0m\u001b[0;34m)\u001b[0m\u001b[0;34m\u001b[0m\u001b[0;34m\u001b[0m\u001b[0m\n\u001b[0m\u001b[1;32m   4158\u001b[0m \u001b[0;34m\u001b[0m\u001b[0m\n\u001b[1;32m   4159\u001b[0m     \u001b[0;31m# ----------------------------------------------------------------------\u001b[0m\u001b[0;34m\u001b[0m\u001b[0;34m\u001b[0m\u001b[0;34m\u001b[0m\u001b[0m\n",
      "\u001b[0;32m~/repos/etl/.venv/lib/python3.9/site-packages/pandas/core/reshape/reshape.py\u001b[0m in \u001b[0;36munstack\u001b[0;34m(obj, level, fill_value)\u001b[0m\n\u001b[1;32m    466\u001b[0m             \u001b[0;31m# _unstack_multiple only handles MultiIndexes,\u001b[0m\u001b[0;34m\u001b[0m\u001b[0;34m\u001b[0m\u001b[0;34m\u001b[0m\u001b[0m\n\u001b[1;32m    467\u001b[0m             \u001b[0;31m# and isn't needed for a single level\u001b[0m\u001b[0;34m\u001b[0m\u001b[0;34m\u001b[0m\u001b[0;34m\u001b[0m\u001b[0m\n\u001b[0;32m--> 468\u001b[0;31m             \u001b[0;32mreturn\u001b[0m \u001b[0m_unstack_multiple\u001b[0m\u001b[0;34m(\u001b[0m\u001b[0mobj\u001b[0m\u001b[0;34m,\u001b[0m \u001b[0mlevel\u001b[0m\u001b[0;34m,\u001b[0m \u001b[0mfill_value\u001b[0m\u001b[0;34m=\u001b[0m\u001b[0mfill_value\u001b[0m\u001b[0;34m)\u001b[0m\u001b[0;34m\u001b[0m\u001b[0;34m\u001b[0m\u001b[0m\n\u001b[0m\u001b[1;32m    469\u001b[0m         \u001b[0;32melse\u001b[0m\u001b[0;34m:\u001b[0m\u001b[0;34m\u001b[0m\u001b[0;34m\u001b[0m\u001b[0m\n\u001b[1;32m    470\u001b[0m             \u001b[0mlevel\u001b[0m \u001b[0;34m=\u001b[0m \u001b[0mlevel\u001b[0m\u001b[0;34m[\u001b[0m\u001b[0;36m0\u001b[0m\u001b[0;34m]\u001b[0m\u001b[0;34m\u001b[0m\u001b[0;34m\u001b[0m\u001b[0m\n",
      "\u001b[0;32m~/repos/etl/.venv/lib/python3.9/site-packages/pandas/core/reshape/reshape.py\u001b[0m in \u001b[0;36m_unstack_multiple\u001b[0;34m(data, clocs, fill_value)\u001b[0m\n\u001b[1;32m    417\u001b[0m         \u001b[0mdummy\u001b[0m\u001b[0;34m.\u001b[0m\u001b[0mindex\u001b[0m \u001b[0;34m=\u001b[0m \u001b[0mdummy_index\u001b[0m\u001b[0;34m\u001b[0m\u001b[0;34m\u001b[0m\u001b[0m\n\u001b[1;32m    418\u001b[0m \u001b[0;34m\u001b[0m\u001b[0m\n\u001b[0;32m--> 419\u001b[0;31m         \u001b[0munstacked\u001b[0m \u001b[0;34m=\u001b[0m \u001b[0mdummy\u001b[0m\u001b[0;34m.\u001b[0m\u001b[0munstack\u001b[0m\u001b[0;34m(\u001b[0m\u001b[0;34m\"__placeholder__\"\u001b[0m\u001b[0;34m,\u001b[0m \u001b[0mfill_value\u001b[0m\u001b[0;34m=\u001b[0m\u001b[0mfill_value\u001b[0m\u001b[0;34m)\u001b[0m\u001b[0;34m\u001b[0m\u001b[0;34m\u001b[0m\u001b[0m\n\u001b[0m\u001b[1;32m    420\u001b[0m         \u001b[0mnew_levels\u001b[0m \u001b[0;34m=\u001b[0m \u001b[0mclevels\u001b[0m\u001b[0;34m\u001b[0m\u001b[0;34m\u001b[0m\u001b[0m\n\u001b[1;32m    421\u001b[0m         \u001b[0mnew_names\u001b[0m \u001b[0;34m=\u001b[0m \u001b[0mcnames\u001b[0m\u001b[0;34m\u001b[0m\u001b[0;34m\u001b[0m\u001b[0m\n",
      "\u001b[0;32m~/repos/etl/.venv/lib/python3.9/site-packages/pandas/core/series.py\u001b[0m in \u001b[0;36munstack\u001b[0;34m(self, level, fill_value)\u001b[0m\n\u001b[1;32m   4155\u001b[0m         \u001b[0;32mfrom\u001b[0m \u001b[0mpandas\u001b[0m\u001b[0;34m.\u001b[0m\u001b[0mcore\u001b[0m\u001b[0;34m.\u001b[0m\u001b[0mreshape\u001b[0m\u001b[0;34m.\u001b[0m\u001b[0mreshape\u001b[0m \u001b[0;32mimport\u001b[0m \u001b[0munstack\u001b[0m\u001b[0;34m\u001b[0m\u001b[0;34m\u001b[0m\u001b[0m\n\u001b[1;32m   4156\u001b[0m \u001b[0;34m\u001b[0m\u001b[0m\n\u001b[0;32m-> 4157\u001b[0;31m         \u001b[0;32mreturn\u001b[0m \u001b[0munstack\u001b[0m\u001b[0;34m(\u001b[0m\u001b[0mself\u001b[0m\u001b[0;34m,\u001b[0m \u001b[0mlevel\u001b[0m\u001b[0;34m,\u001b[0m \u001b[0mfill_value\u001b[0m\u001b[0;34m)\u001b[0m\u001b[0;34m\u001b[0m\u001b[0;34m\u001b[0m\u001b[0m\n\u001b[0m\u001b[1;32m   4158\u001b[0m \u001b[0;34m\u001b[0m\u001b[0m\n\u001b[1;32m   4159\u001b[0m     \u001b[0;31m# ----------------------------------------------------------------------\u001b[0m\u001b[0;34m\u001b[0m\u001b[0;34m\u001b[0m\u001b[0;34m\u001b[0m\u001b[0m\n",
      "\u001b[0;32m~/repos/etl/.venv/lib/python3.9/site-packages/pandas/core/reshape/reshape.py\u001b[0m in \u001b[0;36munstack\u001b[0;34m(obj, level, fill_value)\u001b[0m\n\u001b[1;32m    489\u001b[0m         \u001b[0;32mif\u001b[0m \u001b[0mis_1d_only_ea_dtype\u001b[0m\u001b[0;34m(\u001b[0m\u001b[0mobj\u001b[0m\u001b[0;34m.\u001b[0m\u001b[0mdtype\u001b[0m\u001b[0;34m)\u001b[0m\u001b[0;34m:\u001b[0m\u001b[0;34m\u001b[0m\u001b[0;34m\u001b[0m\u001b[0m\n\u001b[1;32m    490\u001b[0m             \u001b[0;32mreturn\u001b[0m \u001b[0m_unstack_extension_series\u001b[0m\u001b[0;34m(\u001b[0m\u001b[0mobj\u001b[0m\u001b[0;34m,\u001b[0m \u001b[0mlevel\u001b[0m\u001b[0;34m,\u001b[0m \u001b[0mfill_value\u001b[0m\u001b[0;34m)\u001b[0m\u001b[0;34m\u001b[0m\u001b[0;34m\u001b[0m\u001b[0m\n\u001b[0;32m--> 491\u001b[0;31m         unstacker = _Unstacker(\n\u001b[0m\u001b[1;32m    492\u001b[0m             \u001b[0mobj\u001b[0m\u001b[0;34m.\u001b[0m\u001b[0mindex\u001b[0m\u001b[0;34m,\u001b[0m \u001b[0mlevel\u001b[0m\u001b[0;34m=\u001b[0m\u001b[0mlevel\u001b[0m\u001b[0;34m,\u001b[0m \u001b[0mconstructor\u001b[0m\u001b[0;34m=\u001b[0m\u001b[0mobj\u001b[0m\u001b[0;34m.\u001b[0m\u001b[0m_constructor_expanddim\u001b[0m\u001b[0;34m\u001b[0m\u001b[0;34m\u001b[0m\u001b[0m\n\u001b[1;32m    493\u001b[0m         )\n",
      "\u001b[0;32m~/repos/etl/.venv/lib/python3.9/site-packages/pandas/core/reshape/reshape.py\u001b[0m in \u001b[0;36m__init__\u001b[0;34m(self, index, level, constructor)\u001b[0m\n\u001b[1;32m    138\u001b[0m             )\n\u001b[1;32m    139\u001b[0m \u001b[0;34m\u001b[0m\u001b[0m\n\u001b[0;32m--> 140\u001b[0;31m         \u001b[0mself\u001b[0m\u001b[0;34m.\u001b[0m\u001b[0m_make_selectors\u001b[0m\u001b[0;34m(\u001b[0m\u001b[0;34m)\u001b[0m\u001b[0;34m\u001b[0m\u001b[0;34m\u001b[0m\u001b[0m\n\u001b[0m\u001b[1;32m    141\u001b[0m \u001b[0;34m\u001b[0m\u001b[0m\n\u001b[1;32m    142\u001b[0m     \u001b[0;34m@\u001b[0m\u001b[0mcache_readonly\u001b[0m\u001b[0;34m\u001b[0m\u001b[0;34m\u001b[0m\u001b[0m\n",
      "\u001b[0;32m~/repos/etl/.venv/lib/python3.9/site-packages/pandas/core/reshape/reshape.py\u001b[0m in \u001b[0;36m_make_selectors\u001b[0;34m(self)\u001b[0m\n\u001b[1;32m    190\u001b[0m \u001b[0;34m\u001b[0m\u001b[0m\n\u001b[1;32m    191\u001b[0m         \u001b[0;32mif\u001b[0m \u001b[0mmask\u001b[0m\u001b[0;34m.\u001b[0m\u001b[0msum\u001b[0m\u001b[0;34m(\u001b[0m\u001b[0;34m)\u001b[0m \u001b[0;34m<\u001b[0m \u001b[0mlen\u001b[0m\u001b[0;34m(\u001b[0m\u001b[0mself\u001b[0m\u001b[0;34m.\u001b[0m\u001b[0mindex\u001b[0m\u001b[0;34m)\u001b[0m\u001b[0;34m:\u001b[0m\u001b[0;34m\u001b[0m\u001b[0;34m\u001b[0m\u001b[0m\n\u001b[0;32m--> 192\u001b[0;31m             \u001b[0;32mraise\u001b[0m \u001b[0mValueError\u001b[0m\u001b[0;34m(\u001b[0m\u001b[0;34m\"Index contains duplicate entries, cannot reshape\"\u001b[0m\u001b[0;34m)\u001b[0m\u001b[0;34m\u001b[0m\u001b[0;34m\u001b[0m\u001b[0m\n\u001b[0m\u001b[1;32m    193\u001b[0m \u001b[0;34m\u001b[0m\u001b[0m\n\u001b[1;32m    194\u001b[0m         \u001b[0mself\u001b[0m\u001b[0;34m.\u001b[0m\u001b[0mgroup_index\u001b[0m \u001b[0;34m=\u001b[0m \u001b[0mcomp_index\u001b[0m\u001b[0;34m\u001b[0m\u001b[0;34m\u001b[0m\u001b[0m\n",
      "\u001b[0;31mValueError\u001b[0m: Index contains duplicate entries, cannot reshape"
     ]
    }
   ],
   "source": [
    "dataset_garden = _load_dataset()\n",
    "df = dataset_garden[\"long\"]\n",
    "# Keep relevant rows for explorer\n",
    "df = _keep_relevant_rows(df)\n",
    "# Add estimates to projections timeseries\n",
    "df = _organize_variants(df)\n",
    "# Pivot"
   ]
  },
  {
   "cell_type": "code",
   "execution_count": 9,
   "id": "7e1113af-e7eb-4561-8e86-9bca0812b29b",
   "metadata": {},
   "outputs": [
    {
     "name": "stdout",
     "output_type": "stream",
     "text": [
      "Pivot table\n"
     ]
    }
   ],
   "source": [
    "x = _pivot_df(df[df.metric.isin([\"sex_ratio\"])])"
   ]
  },
  {
   "cell_type": "code",
   "execution_count": 7,
   "id": "b40b040d-a6c3-4d1a-b1c9-7aedb0ecdb7c",
   "metadata": {},
   "outputs": [
    {
     "data": {
      "text/html": [
       "<div>\n",
       "<style scoped>\n",
       "    .dataframe tbody tr th:only-of-type {\n",
       "        vertical-align: middle;\n",
       "    }\n",
       "\n",
       "    .dataframe tbody tr th {\n",
       "        vertical-align: top;\n",
       "    }\n",
       "\n",
       "    .dataframe thead th {\n",
       "        text-align: right;\n",
       "    }\n",
       "</style>\n",
       "<table border=\"1\" class=\"dataframe\">\n",
       "  <thead>\n",
       "    <tr style=\"text-align: right;\">\n",
       "      <th></th>\n",
       "      <th>location</th>\n",
       "      <th>year</th>\n",
       "      <th>metric</th>\n",
       "      <th>sex</th>\n",
       "      <th>age</th>\n",
       "      <th>variant</th>\n",
       "      <th>value</th>\n",
       "    </tr>\n",
       "  </thead>\n",
       "  <tbody>\n",
       "    <tr>\n",
       "      <th>758918</th>\n",
       "      <td>World</td>\n",
       "      <td>1950</td>\n",
       "      <td>sex_ratio</td>\n",
       "      <td>none</td>\n",
       "      <td>0</td>\n",
       "      <td>records</td>\n",
       "      <td>104.639999</td>\n",
       "    </tr>\n",
       "    <tr>\n",
       "      <th>758919</th>\n",
       "      <td>World</td>\n",
       "      <td>1950</td>\n",
       "      <td>sex_ratio</td>\n",
       "      <td>none</td>\n",
       "      <td>5</td>\n",
       "      <td>records</td>\n",
       "      <td>104.290001</td>\n",
       "    </tr>\n",
       "    <tr>\n",
       "      <th>758920</th>\n",
       "      <td>World</td>\n",
       "      <td>1950</td>\n",
       "      <td>sex_ratio</td>\n",
       "      <td>none</td>\n",
       "      <td>10</td>\n",
       "      <td>records</td>\n",
       "      <td>105.010002</td>\n",
       "    </tr>\n",
       "    <tr>\n",
       "      <th>758921</th>\n",
       "      <td>World</td>\n",
       "      <td>1950</td>\n",
       "      <td>sex_ratio</td>\n",
       "      <td>none</td>\n",
       "      <td>15</td>\n",
       "      <td>records</td>\n",
       "      <td>103.599998</td>\n",
       "    </tr>\n",
       "    <tr>\n",
       "      <th>758922</th>\n",
       "      <td>World</td>\n",
       "      <td>1950</td>\n",
       "      <td>sex_ratio</td>\n",
       "      <td>none</td>\n",
       "      <td>20</td>\n",
       "      <td>records</td>\n",
       "      <td>102.580002</td>\n",
       "    </tr>\n",
       "    <tr>\n",
       "      <th>...</th>\n",
       "      <td>...</td>\n",
       "      <td>...</td>\n",
       "      <td>...</td>\n",
       "      <td>...</td>\n",
       "      <td>...</td>\n",
       "      <td>...</td>\n",
       "      <td>...</td>\n",
       "    </tr>\n",
       "    <tr>\n",
       "      <th>16908953</th>\n",
       "      <td>Wallis and Futuna</td>\n",
       "      <td>2100</td>\n",
       "      <td>deaths</td>\n",
       "      <td>male</td>\n",
       "      <td>1-4</td>\n",
       "      <td>high</td>\n",
       "      <td>0.000000</td>\n",
       "    </tr>\n",
       "    <tr>\n",
       "      <th>16908954</th>\n",
       "      <td>Wallis and Futuna</td>\n",
       "      <td>2100</td>\n",
       "      <td>deaths</td>\n",
       "      <td>male</td>\n",
       "      <td>1-4</td>\n",
       "      <td>low</td>\n",
       "      <td>0.000000</td>\n",
       "    </tr>\n",
       "    <tr>\n",
       "      <th>16908955</th>\n",
       "      <td>Wallis and Futuna</td>\n",
       "      <td>2100</td>\n",
       "      <td>deaths</td>\n",
       "      <td>female</td>\n",
       "      <td>1-4</td>\n",
       "      <td>medium</td>\n",
       "      <td>0.000000</td>\n",
       "    </tr>\n",
       "    <tr>\n",
       "      <th>16908956</th>\n",
       "      <td>Wallis and Futuna</td>\n",
       "      <td>2100</td>\n",
       "      <td>deaths</td>\n",
       "      <td>female</td>\n",
       "      <td>1-4</td>\n",
       "      <td>high</td>\n",
       "      <td>0.000000</td>\n",
       "    </tr>\n",
       "    <tr>\n",
       "      <th>16908957</th>\n",
       "      <td>Wallis and Futuna</td>\n",
       "      <td>2100</td>\n",
       "      <td>deaths</td>\n",
       "      <td>female</td>\n",
       "      <td>1-4</td>\n",
       "      <td>low</td>\n",
       "      <td>0.000000</td>\n",
       "    </tr>\n",
       "  </tbody>\n",
       "</table>\n",
       "<p>28707775 rows × 7 columns</p>\n",
       "</div>"
      ],
      "text/plain": [
       "                   location  year     metric     sex  age  variant       value\n",
       "758918                World  1950  sex_ratio    none    0  records  104.639999\n",
       "758919                World  1950  sex_ratio    none    5  records  104.290001\n",
       "758920                World  1950  sex_ratio    none   10  records  105.010002\n",
       "758921                World  1950  sex_ratio    none   15  records  103.599998\n",
       "758922                World  1950  sex_ratio    none   20  records  102.580002\n",
       "...                     ...   ...        ...     ...  ...      ...         ...\n",
       "16908953  Wallis and Futuna  2100     deaths    male  1-4     high    0.000000\n",
       "16908954  Wallis and Futuna  2100     deaths    male  1-4      low    0.000000\n",
       "16908955  Wallis and Futuna  2100     deaths  female  1-4   medium    0.000000\n",
       "16908956  Wallis and Futuna  2100     deaths  female  1-4     high    0.000000\n",
       "16908957  Wallis and Futuna  2100     deaths  female  1-4      low    0.000000\n",
       "\n",
       "[28707775 rows x 7 columns]"
      ]
     },
     "execution_count": 7,
     "metadata": {},
     "output_type": "execute_result"
    }
   ],
   "source": [
    "df"
   ]
  },
  {
   "cell_type": "code",
   "execution_count": 4,
   "id": "d610f183-c4a8-49a7-b1d8-94941d3baecb",
   "metadata": {},
   "outputs": [],
   "source": [
    "dataset_garden_latest_dir = DATA_DIR / \"garden\" / \"un\" / \"2022-07-11\" / \"un_wpp\"\n",
    "dataset_garden = catalog.Dataset(dataset_garden_latest_dir)\n",
    "df = dataset_garden[\"long\"]"
   ]
  },
  {
   "cell_type": "code",
   "execution_count": 6,
   "id": "01cefb98-461f-4b68-bf2b-67aa140cef95",
   "metadata": {},
   "outputs": [],
   "source": [
    "df = df.reset_index()"
   ]
  },
  {
   "cell_type": "code",
   "execution_count": 8,
   "id": "8bf1b2ec-a705-4a88-bde2-49a638c597a1",
   "metadata": {},
   "outputs": [
    {
     "data": {
      "text/plain": [
       "location    category\n",
       "year          uint64\n",
       "metric      category\n",
       "sex         category\n",
       "age         category\n",
       "variant     category\n",
       "value        float32\n",
       "dtype: object"
      ]
     },
     "execution_count": 8,
     "metadata": {},
     "output_type": "execute_result"
    }
   ],
   "source": [
    "df.dtypes"
   ]
  },
  {
   "cell_type": "code",
   "execution_count": 7,
   "id": "9c53186d-a836-4508-9837-b8b6bb7424c6",
   "metadata": {},
   "outputs": [
    {
     "data": {
      "text/plain": [
       "{'birth_rate',\n",
       " 'births',\n",
       " 'child_mortality_rate',\n",
       " 'death_rate',\n",
       " 'deaths',\n",
       " 'dependency_ratio_child',\n",
       " 'dependency_ratio_old',\n",
       " 'dependency_ratio_total',\n",
       " 'fertility_rate',\n",
       " 'growth_natural_rate',\n",
       " 'growth_rate',\n",
       " 'infant_mortality_rate',\n",
       " 'life_expectancy',\n",
       " 'median_age',\n",
       " 'net_migration',\n",
       " 'net_migration_rate',\n",
       " 'population',\n",
       " 'population_broad',\n",
       " 'population_change',\n",
       " 'population_density',\n",
       " 'sex_ratio'}"
      ]
     },
     "execution_count": 7,
     "metadata": {},
     "output_type": "execute_result"
    }
   ],
   "source": [
    "set(a[2] for a in df.index)"
   ]
  },
  {
   "cell_type": "code",
   "execution_count": 8,
   "id": "6c408ff2-35fd-40c8-8203-8039cf85af65",
   "metadata": {},
   "outputs": [],
   "source": []
  },
  {
   "cell_type": "code",
   "execution_count": 9,
   "id": "bd52fc1c-7a9b-4a27-ae0f-d7738d283f47",
   "metadata": {},
   "outputs": [],
   "source": []
  },
  {
   "cell_type": "code",
   "execution_count": 10,
   "id": "ebcb261d-89e3-4bae-bad9-2b8b53e76eee",
   "metadata": {},
   "outputs": [],
   "source": []
  },
  {
   "cell_type": "code",
   "execution_count": 11,
   "id": "a76f4da0-60ed-4b73-87a0-fa33a0665949",
   "metadata": {},
   "outputs": [],
   "source": []
  },
  {
   "cell_type": "code",
   "execution_count": 12,
   "id": "8754000e-9584-481f-a1ec-5c6a1af7f6d3",
   "metadata": {},
   "outputs": [
    {
     "data": {
      "text/plain": [
       "Index    206.351341\n",
       "value     91.690900\n",
       "dtype: float64"
      ]
     },
     "execution_count": 12,
     "metadata": {},
     "output_type": "execute_result"
    }
   ],
   "source": [
    "table_garden.memory_usage(deep=True) / 1e6"
   ]
  },
  {
   "cell_type": "code",
   "execution_count": 13,
   "id": "44d4fab5-13bd-4aa8-97da-38b8efe1ba44",
   "metadata": {},
   "outputs": [],
   "source": [
    "def keep_relevant_rows(df):\n",
    "    df = df.reset_index()\n",
    "    df = df[\n",
    "        df.variant.isin([\"estimates\", \"low\", \"medium\", \"high\"])\n",
    "        & -(\n",
    "            df.metric.isin([\"net_migration\", \"net_migration_rate\"])\n",
    "            & (df.location == \"World\")\n",
    "        )\n",
    "    ].reset_index(drop=True)\n",
    "    return df"
   ]
  },
  {
   "cell_type": "code",
   "execution_count": 14,
   "id": "f5925640-2760-4cbb-9aa0-566f00ab9c40",
   "metadata": {},
   "outputs": [],
   "source": [
    "table_garden = filter_table(table_garden)"
   ]
  },
  {
   "cell_type": "code",
   "execution_count": 15,
   "id": "c3a13a7c-5d6b-40fa-b2fe-22fe869d131d",
   "metadata": {},
   "outputs": [
    {
     "name": "stdout",
     "output_type": "stream",
     "text": [
      "Filling all gaps (variants)\n"
     ]
    }
   ],
   "source": [
    "# Add estimates to projections timeseries\n",
    "table_garden = _organize_variants(table_garden)"
   ]
  },
  {
   "cell_type": "code",
   "execution_count": 17,
   "id": "19d48259-b49c-4c58-9dce-2c5fec8c767d",
   "metadata": {},
   "outputs": [
    {
     "name": "stdout",
     "output_type": "stream",
     "text": [
      "Pivot table\n"
     ]
    }
   ],
   "source": [
    "table_garden = _pivot_df(table_garden)"
   ]
  },
  {
   "cell_type": "code",
   "execution_count": 82,
   "id": "afbbc95e-a8c0-48fe-9682-e651187ec9e9",
   "metadata": {},
   "outputs": [],
   "source": [
    "to_explorer(df_explorer, by_sex=True, by_age=False, localdir=\"output-v3\", version=3)"
   ]
  },
  {
   "cell_type": "code",
   "execution_count": 19,
   "id": "e3f11699-ac12-40ab-886c-17ffdf9f7b13",
   "metadata": {},
   "outputs": [],
   "source": [
    "by_metric = True\n",
    "by_sex = True\n",
    "by_age = False\n",
    "by_variant = True"
   ]
  },
  {
   "cell_type": "code",
   "execution_count": 22,
   "id": "ae61ea8e-ba90-46d7-8dee-2d8b93428d86",
   "metadata": {},
   "outputs": [],
   "source": [
    "dimension_values = _extract_dimension_values(\n",
    "    table_garden, by_metric, by_sex, by_age, by_variant\n",
    ")"
   ]
  },
  {
   "cell_type": "code",
   "execution_count": 26,
   "id": "12fa94b9-e482-44c1-9e67-a3df0358dde7",
   "metadata": {},
   "outputs": [],
   "source": [
    "df = table_garden"
   ]
  },
  {
   "cell_type": "code",
   "execution_count": 31,
   "id": "24c1dcef-b69d-4d5a-ab58-6cf29e9196d8",
   "metadata": {
    "tags": []
   },
   "outputs": [],
   "source": [
    "for metric, sex, age, variant in dimension_values:\n",
    "    short_name = f\"{metric}__{sex}__{age}__{variant}\"\n",
    "    # Update namings for regex and filter columns\n",
    "    metric = metric if metric != no_dim_keyword else \".*\"\n",
    "    sex = sex if sex != no_dim_keyword else \".*\"\n",
    "    age = age if age != no_dim_keyword else \".*\"\n",
    "    variant = variant if variant != no_dim_keyword else \".*\"\n",
    "    regex = rf\"{metric}__{sex}__{age}__{variant}\"\n",
    "    columns = list(df.filter(regex=regex).columns)\n",
    "    df_ = df[columns].dropna(how=\"all\")\n",
    "    # print(short_name, \"\\t\", df_.shape)"
   ]
  },
  {
   "cell_type": "code",
   "execution_count": 32,
   "id": "42a48ce9-34c4-41a0-ba08-f847ef5db6f3",
   "metadata": {},
   "outputs": [
    {
     "data": {
      "text/html": [
       "<div>\n",
       "<style scoped>\n",
       "    .dataframe tbody tr th:only-of-type {\n",
       "        vertical-align: middle;\n",
       "    }\n",
       "\n",
       "    .dataframe tbody tr th {\n",
       "        vertical-align: top;\n",
       "    }\n",
       "\n",
       "    .dataframe thead th {\n",
       "        text-align: right;\n",
       "    }\n",
       "</style>\n",
       "<table border=\"1\" class=\"dataframe\">\n",
       "  <thead>\n",
       "    <tr style=\"text-align: right;\">\n",
       "      <th></th>\n",
       "      <th></th>\n",
       "      <th>death_rate__all__all__low</th>\n",
       "    </tr>\n",
       "    <tr>\n",
       "      <th>location</th>\n",
       "      <th>year</th>\n",
       "      <th></th>\n",
       "    </tr>\n",
       "  </thead>\n",
       "  <tbody>\n",
       "    <tr>\n",
       "      <th rowspan=\"5\" valign=\"top\">World</th>\n",
       "      <th>1950</th>\n",
       "      <td>19.518000</td>\n",
       "    </tr>\n",
       "    <tr>\n",
       "      <th>1951</th>\n",
       "      <td>19.075001</td>\n",
       "    </tr>\n",
       "    <tr>\n",
       "      <th>1952</th>\n",
       "      <td>18.389000</td>\n",
       "    </tr>\n",
       "    <tr>\n",
       "      <th>1953</th>\n",
       "      <td>17.989000</td>\n",
       "    </tr>\n",
       "    <tr>\n",
       "      <th>1954</th>\n",
       "      <td>17.457001</td>\n",
       "    </tr>\n",
       "    <tr>\n",
       "      <th>...</th>\n",
       "      <th>...</th>\n",
       "      <td>...</td>\n",
       "    </tr>\n",
       "    <tr>\n",
       "      <th rowspan=\"5\" valign=\"top\">Vatican</th>\n",
       "      <th>2096</th>\n",
       "      <td>13.448000</td>\n",
       "    </tr>\n",
       "    <tr>\n",
       "      <th>2097</th>\n",
       "      <td>13.531000</td>\n",
       "    </tr>\n",
       "    <tr>\n",
       "      <th>2098</th>\n",
       "      <td>13.643000</td>\n",
       "    </tr>\n",
       "    <tr>\n",
       "      <th>2099</th>\n",
       "      <td>13.728000</td>\n",
       "    </tr>\n",
       "    <tr>\n",
       "      <th>2100</th>\n",
       "      <td>13.829000</td>\n",
       "    </tr>\n",
       "  </tbody>\n",
       "</table>\n",
       "<p>37448 rows × 1 columns</p>\n",
       "</div>"
      ],
      "text/plain": [
       "               death_rate__all__all__low\n",
       "location year                           \n",
       "World    1950                  19.518000\n",
       "         1951                  19.075001\n",
       "         1952                  18.389000\n",
       "         1953                  17.989000\n",
       "         1954                  17.457001\n",
       "...                                  ...\n",
       "Vatican  2096                  13.448000\n",
       "         2097                  13.531000\n",
       "         2098                  13.643000\n",
       "         2099                  13.728000\n",
       "         2100                  13.829000\n",
       "\n",
       "[37448 rows x 1 columns]"
      ]
     },
     "execution_count": 32,
     "metadata": {},
     "output_type": "execute_result"
    }
   ],
   "source": [
    "df_"
   ]
  },
  {
   "cell_type": "code",
   "execution_count": null,
   "id": "b199907e-aa5b-471c-b6f7-e84ecc945939",
   "metadata": {},
   "outputs": [],
   "source": []
  },
  {
   "cell_type": "code",
   "execution_count": null,
   "id": "15a13490-9e53-4b80-a866-9b7b350427ba",
   "metadata": {},
   "outputs": [],
   "source": [
    "# Add variable field (metric__[dimensions])\n",
    "df = _add_variable(df)\n",
    "# Pivot\n",
    "df = _pivot_df(df)"
   ]
  }
 ],
 "metadata": {
  "kernelspec": {
   "display_name": "Python 3",
   "language": "python",
   "name": "python3"
  },
  "language_info": {
   "codemirror_mode": {
    "name": "ipython",
    "version": 3
   },
   "file_extension": ".py",
   "mimetype": "text/x-python",
   "name": "python",
   "nbconvert_exporter": "python",
   "pygments_lexer": "ipython3",
   "version": "3.9.5"
  }
 },
 "nbformat": 4,
 "nbformat_minor": 5
}
