{
 "cells": [
  {
   "cell_type": "code",
   "execution_count": 1,
   "id": "5e9cf791-ad90-4d48-8b8a-cf104b331514",
   "metadata": {},
   "outputs": [],
   "source": [
    "from un_wpp import *"
   ]
  },
  {
   "cell_type": "code",
   "execution_count": 2,
   "id": "61ac8db0-338a-426d-ab9b-d587c33fd7b5",
   "metadata": {},
   "outputs": [],
   "source": [
    "\"\"\"Population table.\"\"\"\n",
    "import pandas as pd\n",
    "from typing import Dict, Tuple, List, Any"
   ]
  },
  {
   "cell_type": "markdown",
   "id": "43a59040-eef3-4367-a4ef-f91d8f14cf15",
   "metadata": {
    "jp-MarkdownHeadingCollapsed": true,
    "tags": []
   },
   "source": [
    "# Something"
   ]
  },
  {
   "cell_type": "code",
   "execution_count": 19,
   "id": "d0448b8c-5154-4e71-aaf1-7d2353de9edf",
   "metadata": {},
   "outputs": [],
   "source": [
    "# rename columns\n",
    "COLUMNS_ID: Dict[str, str] = {\n",
    "    \"location\": \"location\",\n",
    "    \"time\": \"year\",\n",
    "    \"variant\": \"variant\",\n",
    "    \"agegrp\": \"age\",\n",
    "}\n",
    "COLUMNS_METRICS: Dict[str, Dict[str, Any]] = {\n",
    "    \"sex_ratio\": {\n",
    "        \"name\": \"sex_ratio\",\n",
    "        \"sex\": \"none\",\n",
    "    },\n",
    "    \"popmale\": {\n",
    "        \"name\": \"population\",\n",
    "        \"sex\": \"male\",\n",
    "        \"operation\": lambda x: (x * 1000),\n",
    "    },\n",
    "    \"popfemale\": {\n",
    "        \"name\": \"population\",\n",
    "        \"sex\": \"female\",\n",
    "        \"operation\": lambda x: (x * 1000),\n",
    "    },\n",
    "    \"poptotal\": {\n",
    "        \"name\": \"population\",\n",
    "        \"sex\": \"all\",\n",
    "        \"operation\": lambda x: (x * 1000),\n",
    "    },\n",
    "}\n",
    "COLUMNS_ORDER: List[str] = [\n",
    "    \"location\",\n",
    "    \"year\",\n",
    "    \"metric\",\n",
    "    \"sex\",\n",
    "    \"age\",\n",
    "    \"variant\",\n",
    "    \"value\",\n",
    "]"
   ]
  },
  {
   "cell_type": "code",
   "execution_count": 3,
   "id": "88e198ef-18fc-4b70-aacd-2c1d79335ed2",
   "metadata": {},
   "outputs": [],
   "source": [
    "meadow_path = base_path / \"data/meadow/un/2022/un_wpp\"\n",
    "ds = catalog.Dataset(meadow_path)\n",
    "# country rename\n",
    "country_std = load_country_mapping()"
   ]
  },
  {
   "cell_type": "code",
   "execution_count": 10,
   "id": "214500c6-7b69-4a01-b987-4d4b6a65e591",
   "metadata": {},
   "outputs": [],
   "source": [
    "x = ds[\"population\"].reset_index()"
   ]
  },
  {
   "cell_type": "code",
   "execution_count": 12,
   "id": "ab0dc5eb-9ba7-4c3f-bb76-31a3cbf24c52",
   "metadata": {},
   "outputs": [
    {
     "data": {
      "text/plain": [
       "['Medium']\n",
       "Categories (3, object): ['Medium', 'High', 'Low']"
      ]
     },
     "execution_count": 12,
     "metadata": {},
     "output_type": "execute_result"
    }
   ],
   "source": [
    "x[x.time < 2022].variant.unique()"
   ]
  },
  {
   "cell_type": "code",
   "execution_count": 4,
   "id": "1ee76f2c-262a-42dc-a437-dbcbf80aad49",
   "metadata": {},
   "outputs": [],
   "source": [
    "df_population = process_population(ds[\"population\"], country_std)"
   ]
  },
  {
   "cell_type": "code",
   "execution_count": 8,
   "id": "483b4993-4c4a-408a-ad5c-d2c9fc948d08",
   "metadata": {},
   "outputs": [
    {
     "data": {
      "text/html": [
       "<div>\n",
       "<style scoped>\n",
       "    .dataframe tbody tr th:only-of-type {\n",
       "        vertical-align: middle;\n",
       "    }\n",
       "\n",
       "    .dataframe tbody tr th {\n",
       "        vertical-align: top;\n",
       "    }\n",
       "\n",
       "    .dataframe thead th {\n",
       "        text-align: right;\n",
       "    }\n",
       "</style>\n",
       "<table border=\"1\" class=\"dataframe\">\n",
       "  <thead>\n",
       "    <tr style=\"text-align: right;\">\n",
       "      <th></th>\n",
       "      <th>location</th>\n",
       "      <th>year</th>\n",
       "      <th>metric</th>\n",
       "      <th>sex</th>\n",
       "      <th>age</th>\n",
       "      <th>variant</th>\n",
       "      <th>value</th>\n",
       "    </tr>\n",
       "  </thead>\n",
       "  <tbody>\n",
       "    <tr>\n",
       "      <th>4462866</th>\n",
       "      <td>South Africa</td>\n",
       "      <td>1963</td>\n",
       "      <td>population</td>\n",
       "      <td>female</td>\n",
       "      <td>40-49</td>\n",
       "      <td>medium</td>\n",
       "      <td>756076.0</td>\n",
       "    </tr>\n",
       "    <tr>\n",
       "      <th>4462867</th>\n",
       "      <td>South Africa</td>\n",
       "      <td>1963</td>\n",
       "      <td>population</td>\n",
       "      <td>female</td>\n",
       "      <td>40-49</td>\n",
       "      <td>high</td>\n",
       "      <td>0.0</td>\n",
       "    </tr>\n",
       "    <tr>\n",
       "      <th>4462868</th>\n",
       "      <td>South Africa</td>\n",
       "      <td>1963</td>\n",
       "      <td>population</td>\n",
       "      <td>female</td>\n",
       "      <td>40-49</td>\n",
       "      <td>low</td>\n",
       "      <td>0.0</td>\n",
       "    </tr>\n",
       "  </tbody>\n",
       "</table>\n",
       "</div>"
      ],
      "text/plain": [
       "             location  year      metric     sex    age variant     value\n",
       "4462866  South Africa  1963  population  female  40-49  medium  756076.0\n",
       "4462867  South Africa  1963  population  female  40-49    high       0.0\n",
       "4462868  South Africa  1963  population  female  40-49     low       0.0"
      ]
     },
     "execution_count": 8,
     "metadata": {},
     "output_type": "execute_result"
    }
   ],
   "source": [
    "df_population[\n",
    "    (df_population.location == \"South Africa\")\n",
    "    & (df_population.year == 1963)\n",
    "    & (df_population.sex == \"female\")\n",
    "    & (df_population.age == \"40-49\")\n",
    "    & (df_population.metric == \"population\")\n",
    "]"
   ]
  },
  {
   "cell_type": "code",
   "execution_count": 13,
   "id": "efbb7333-574f-4ac6-be2d-fcf1cd33d8c4",
   "metadata": {},
   "outputs": [],
   "source": [
    "df = ds[\"population\"]"
   ]
  },
  {
   "cell_type": "code",
   "execution_count": 14,
   "id": "5e8f8033-5f7a-44df-bdcf-8d60e9cb0871",
   "metadata": {},
   "outputs": [],
   "source": [
    "df = pd.DataFrame(df)\n",
    "df = df.reset_index()\n",
    "df = df.assign(location=df.location.map(country_std))\n",
    "df = df.dropna(subset=[\"location\"])"
   ]
  },
  {
   "cell_type": "code",
   "execution_count": 20,
   "id": "2dc95490-642c-4136-b3ca-aca48c81c4ad",
   "metadata": {},
   "outputs": [],
   "source": [
    "# Estimate sex_ratio\n",
    "df = df.assign(sex_ratio=(100 * df.popmale / df.popfemale).round(2))\n",
    "# Unpivot\n",
    "df = df.melt(COLUMNS_ID.keys(), COLUMNS_METRICS.keys(), \"metric\", \"value\")\n",
    "# Scale units\n",
    "ops = {k: v.get(\"operation\", lambda x: x) for k, v in COLUMNS_METRICS.items()}"
   ]
  },
  {
   "cell_type": "code",
   "execution_count": 21,
   "id": "fbca2736-5df7-4622-9140-806f66d4a71f",
   "metadata": {},
   "outputs": [],
   "source": [
    "for m in df.metric.unique():\n",
    "    df.loc[df.metric == m, \"value\"] = ops[m](df.loc[df.metric == m, \"value\"])\n",
    "# Rename columns, metric names\n",
    "df = df.rename(columns=COLUMNS_ID)\n",
    "df = df.assign(\n",
    "    metric=df.metric.map({k: v[\"name\"] for k, v in COLUMNS_METRICS.items()}),\n",
    "    sex=df.metric.map({k: v[\"sex\"] for k, v in COLUMNS_METRICS.items()}),\n",
    "    variant=df.variant.apply(lambda x: x.lower()),\n",
    ")"
   ]
  },
  {
   "cell_type": "code",
   "execution_count": 26,
   "id": "54a26d3f-866e-4552-a674-66afbdb38427",
   "metadata": {},
   "outputs": [],
   "source": [
    "# Column order\n",
    "df = df[COLUMNS_ORDER]\n",
    "# Discard unmapped regions\n",
    "df = df.dropna(subset=[\"location\"])"
   ]
  },
  {
   "cell_type": "code",
   "execution_count": 22,
   "id": "0edd7b6f-a052-4dd5-804f-7da46f9f3842",
   "metadata": {},
   "outputs": [
    {
     "data": {
      "text/html": [
       "<div>\n",
       "<style scoped>\n",
       "    .dataframe tbody tr th:only-of-type {\n",
       "        vertical-align: middle;\n",
       "    }\n",
       "\n",
       "    .dataframe tbody tr th {\n",
       "        vertical-align: top;\n",
       "    }\n",
       "\n",
       "    .dataframe thead th {\n",
       "        text-align: right;\n",
       "    }\n",
       "</style>\n",
       "<table border=\"1\" class=\"dataframe\">\n",
       "  <thead>\n",
       "    <tr style=\"text-align: right;\">\n",
       "      <th></th>\n",
       "      <th>location</th>\n",
       "      <th>year</th>\n",
       "      <th>variant</th>\n",
       "      <th>age</th>\n",
       "      <th>metric</th>\n",
       "      <th>value</th>\n",
       "      <th>sex</th>\n",
       "    </tr>\n",
       "  </thead>\n",
       "  <tbody>\n",
       "  </tbody>\n",
       "</table>\n",
       "</div>"
      ],
      "text/plain": [
       "Empty DataFrame\n",
       "Columns: [location, year, variant, age, metric, value, sex]\n",
       "Index: []"
      ]
     },
     "execution_count": 22,
     "metadata": {},
     "output_type": "execute_result"
    }
   ],
   "source": [
    "df[\n",
    "    (df.location == \"South Africa\")\n",
    "    & (df.year == 1963)\n",
    "    & (df.sex == \"female\")\n",
    "    & (df.age == \"40-49\")\n",
    "    & (df.metric == \"population\")\n",
    "]"
   ]
  },
  {
   "cell_type": "code",
   "execution_count": 27,
   "id": "e51c9eae-09e3-4aa9-9c13-40e52bb4b265",
   "metadata": {},
   "outputs": [
    {
     "data": {
      "text/plain": [
       "['medium']\n",
       "Categories (3, object): ['medium', 'high', 'low']"
      ]
     },
     "execution_count": 27,
     "metadata": {},
     "output_type": "execute_result"
    }
   ],
   "source": [
    "df[df.year < 2022].variant.unique()"
   ]
  },
  {
   "cell_type": "code",
   "execution_count": 36,
   "id": "4aa0508a-206b-43a8-a992-995cdb65dc41",
   "metadata": {},
   "outputs": [],
   "source": [
    "from population import (\n",
    "    add_metrics,\n",
    "    _add_metric_sexratio,\n",
    "    _add_metric_population,\n",
    "    _add_metric_population_change,\n",
    ")"
   ]
  },
  {
   "cell_type": "code",
   "execution_count": 37,
   "id": "6b7ea317-c3ac-447e-bacf-1b40e4bf7b19",
   "metadata": {},
   "outputs": [],
   "source": [
    "df_sr = _add_metric_sexratio(df)"
   ]
  },
  {
   "cell_type": "code",
   "execution_count": 38,
   "id": "e49e5261-6f63-4b96-9158-5ca24434ba5e",
   "metadata": {},
   "outputs": [],
   "source": [
    "df_p_granular, df_p_broad = _add_metric_population(df)"
   ]
  },
  {
   "cell_type": "code",
   "execution_count": 39,
   "id": "f7b02677-44f9-4b71-bc8e-9356e4d7382b",
   "metadata": {},
   "outputs": [],
   "source": [
    "df_p_diff = _add_metric_population_change(df)"
   ]
  },
  {
   "cell_type": "code",
   "execution_count": 31,
   "id": "3eecd910-3732-4e1b-a795-5f07db555fb4",
   "metadata": {},
   "outputs": [],
   "source": [
    "dfc = add_metrics(df.copy())"
   ]
  },
  {
   "cell_type": "code",
   "execution_count": 43,
   "id": "57dcb8ea-f2d8-4463-b377-1ef58dbe437e",
   "metadata": {},
   "outputs": [
    {
     "data": {
      "text/plain": [
       "['medium']\n",
       "Categories (3, object): ['medium', 'high', 'low']"
      ]
     },
     "execution_count": 43,
     "metadata": {},
     "output_type": "execute_result"
    }
   ],
   "source": [
    "df_p_diff[df_p_diff.year < 2022].variant.unique()"
   ]
  },
  {
   "cell_type": "code",
   "execution_count": 51,
   "id": "94c4cc17-406f-431d-a3d8-131ee7ccfe88",
   "metadata": {},
   "outputs": [],
   "source": [
    "df_p = df[df.metric == \"population\"]\n",
    "# Basic age groups\n",
    "age_map = {\n",
    "    **{str(i): f\"{i - i%5}-{i + 4 - i%5}\" for i in range(0, 20)},\n",
    "    **{str(i): f\"{i - i%10}-{i + 9 - i%10}\" for i in range(20, 100)},\n",
    "    **{\"100+\": \"100-\"},\n",
    "}\n",
    "df_p_granular = df_p.assign(age=df_p.age.map(age_map))\n",
    "df_p_granular = df_p_granular.groupby(\n",
    "    [\"location\", \"year\", \"metric\", \"sex\", \"age\", \"variant\"],\n",
    "    as_index=False,  # , observed=True\n",
    ").sum()"
   ]
  },
  {
   "cell_type": "code",
   "execution_count": 52,
   "id": "ee413561-fbff-4004-8f13-ad7d23e1f180",
   "metadata": {},
   "outputs": [
    {
     "data": {
      "text/plain": [
       "['medium', 'high', 'low']\n",
       "Categories (3, object): ['medium', 'high', 'low']"
      ]
     },
     "execution_count": 52,
     "metadata": {},
     "output_type": "execute_result"
    }
   ],
   "source": [
    "df_p_granular[df_p_granular.year < 2022].variant.unique()"
   ]
  },
  {
   "cell_type": "markdown",
   "id": "5f8e980f-1776-4239-81aa-b6258b25d57c",
   "metadata": {},
   "source": [
    "---"
   ]
  },
  {
   "cell_type": "markdown",
   "id": "5b4c1201-2ff3-4049-a699-46e274c5e09f",
   "metadata": {},
   "source": [
    "# regular"
   ]
  },
  {
   "cell_type": "code",
   "execution_count": 3,
   "id": "2e2c20c9-afae-420d-b8a5-00b7c13f410d",
   "metadata": {},
   "outputs": [],
   "source": [
    "meadow_path = base_path / \"data/meadow/un/2022/un_wpp\"\n",
    "ds = catalog.Dataset(meadow_path)\n",
    "# country rename\n",
    "country_std = load_country_mapping()"
   ]
  },
  {
   "cell_type": "code",
   "execution_count": 5,
   "id": "b2a169b2-3284-4510-9a44-e0c5f0e0fe1f",
   "metadata": {},
   "outputs": [],
   "source": [
    "df_population = process_population(ds[\"population\"], country_std)"
   ]
  },
  {
   "cell_type": "code",
   "execution_count": 10,
   "id": "b8bb5f70-e62c-49bb-88c6-4f23454ce9f9",
   "metadata": {},
   "outputs": [
    {
     "data": {
      "text/html": [
       "<div>\n",
       "<style scoped>\n",
       "    .dataframe tbody tr th:only-of-type {\n",
       "        vertical-align: middle;\n",
       "    }\n",
       "\n",
       "    .dataframe tbody tr th {\n",
       "        vertical-align: top;\n",
       "    }\n",
       "\n",
       "    .dataframe thead th {\n",
       "        text-align: right;\n",
       "    }\n",
       "</style>\n",
       "<table border=\"1\" class=\"dataframe\">\n",
       "  <thead>\n",
       "    <tr style=\"text-align: right;\">\n",
       "      <th></th>\n",
       "      <th>location</th>\n",
       "      <th>year</th>\n",
       "      <th>metric</th>\n",
       "      <th>sex</th>\n",
       "      <th>age</th>\n",
       "      <th>variant</th>\n",
       "      <th>value</th>\n",
       "    </tr>\n",
       "  </thead>\n",
       "  <tbody>\n",
       "    <tr>\n",
       "      <th>839553</th>\n",
       "      <td>Afghanistan</td>\n",
       "      <td>1950</td>\n",
       "      <td>population</td>\n",
       "      <td>all</td>\n",
       "      <td>0-4</td>\n",
       "      <td>medium</td>\n",
       "      <td>1248282.0</td>\n",
       "    </tr>\n",
       "  </tbody>\n",
       "</table>\n",
       "</div>"
      ],
      "text/plain": [
       "           location  year      metric  sex  age variant      value\n",
       "839553  Afghanistan  1950  population  all  0-4  medium  1248282.0"
      ]
     },
     "execution_count": 10,
     "metadata": {},
     "output_type": "execute_result"
    }
   ],
   "source": [
    "df_population[\n",
    "    (df_population.location == \"Afghanistan\")\n",
    "    & (df_population.year == 1950)\n",
    "    & (df_population.metric == \"population\")\n",
    "    & (df_population.sex == \"all\")\n",
    "    & (df_population.age == \"0-4\")\n",
    "]"
   ]
  },
  {
   "cell_type": "code",
   "execution_count": 11,
   "id": "7fdfef80-c497-4ee9-8a2f-ff35ece4878b",
   "metadata": {},
   "outputs": [],
   "source": [
    "df_fertility = process_fertility(ds[\"fertility\"], country_std)"
   ]
  },
  {
   "cell_type": "code",
   "execution_count": 12,
   "id": "3ae97fc4-8d85-43cc-aa10-e142b6075e93",
   "metadata": {},
   "outputs": [],
   "source": [
    "df_demographics = process_demographics(ds[\"demographics\"], country_std)"
   ]
  },
  {
   "cell_type": "code",
   "execution_count": 13,
   "id": "e9a99112-7aa3-411b-b99b-b8762c6c5084",
   "metadata": {},
   "outputs": [],
   "source": [
    "df_depratio = process_depratio(ds[\"dependency_ratio\"], country_std)"
   ]
  },
  {
   "cell_type": "code",
   "execution_count": 14,
   "id": "555aeabe-cadd-46e4-aab0-d3fed4d5fa30",
   "metadata": {},
   "outputs": [],
   "source": [
    "df_deaths = process_deaths(ds[\"deaths\"], country_std)"
   ]
  },
  {
   "cell_type": "code",
   "execution_count": 16,
   "id": "72139b81-cc8e-4df6-a883-7f22cef42d61",
   "metadata": {},
   "outputs": [],
   "source": [
    "df = merge_dfs([df_population, df_fertility, df_demographics, df_depratio, df_deaths])"
   ]
  },
  {
   "cell_type": "code",
   "execution_count": 18,
   "id": "5ac040f6-7c74-490e-a1bb-f2e01a407951",
   "metadata": {},
   "outputs": [],
   "source": [
    "x = df.reset_index()"
   ]
  },
  {
   "cell_type": "code",
   "execution_count": 19,
   "id": "f97db473-9617-4d71-b949-1c6556e0d6b1",
   "metadata": {},
   "outputs": [
    {
     "data": {
      "text/html": [
       "<div>\n",
       "<style scoped>\n",
       "    .dataframe tbody tr th:only-of-type {\n",
       "        vertical-align: middle;\n",
       "    }\n",
       "\n",
       "    .dataframe tbody tr th {\n",
       "        vertical-align: top;\n",
       "    }\n",
       "\n",
       "    .dataframe thead th {\n",
       "        text-align: right;\n",
       "    }\n",
       "</style>\n",
       "<table border=\"1\" class=\"dataframe\">\n",
       "  <thead>\n",
       "    <tr style=\"text-align: right;\">\n",
       "      <th></th>\n",
       "      <th>location</th>\n",
       "      <th>year</th>\n",
       "      <th>metric</th>\n",
       "      <th>sex</th>\n",
       "      <th>age</th>\n",
       "      <th>variant</th>\n",
       "      <th>value</th>\n",
       "    </tr>\n",
       "  </thead>\n",
       "  <tbody>\n",
       "    <tr>\n",
       "      <th>0</th>\n",
       "      <td>Afghanistan</td>\n",
       "      <td>1950</td>\n",
       "      <td>birth_rate</td>\n",
       "      <td>all</td>\n",
       "      <td>all</td>\n",
       "      <td>estimates</td>\n",
       "      <td>4.886600e+01</td>\n",
       "    </tr>\n",
       "    <tr>\n",
       "      <th>1</th>\n",
       "      <td>Afghanistan</td>\n",
       "      <td>1950</td>\n",
       "      <td>births</td>\n",
       "      <td>all</td>\n",
       "      <td>10-14</td>\n",
       "      <td>estimates</td>\n",
       "      <td>4.312000e+03</td>\n",
       "    </tr>\n",
       "    <tr>\n",
       "      <th>2</th>\n",
       "      <td>Afghanistan</td>\n",
       "      <td>1950</td>\n",
       "      <td>births</td>\n",
       "      <td>all</td>\n",
       "      <td>15-19</td>\n",
       "      <td>estimates</td>\n",
       "      <td>4.981800e+04</td>\n",
       "    </tr>\n",
       "    <tr>\n",
       "      <th>3</th>\n",
       "      <td>Afghanistan</td>\n",
       "      <td>1950</td>\n",
       "      <td>births</td>\n",
       "      <td>all</td>\n",
       "      <td>20-24</td>\n",
       "      <td>estimates</td>\n",
       "      <td>9.218900e+04</td>\n",
       "    </tr>\n",
       "    <tr>\n",
       "      <th>4</th>\n",
       "      <td>Afghanistan</td>\n",
       "      <td>1950</td>\n",
       "      <td>births</td>\n",
       "      <td>all</td>\n",
       "      <td>25-29</td>\n",
       "      <td>estimates</td>\n",
       "      <td>8.598000e+04</td>\n",
       "    </tr>\n",
       "    <tr>\n",
       "      <th>...</th>\n",
       "      <td>...</td>\n",
       "      <td>...</td>\n",
       "      <td>...</td>\n",
       "      <td>...</td>\n",
       "      <td>...</td>\n",
       "      <td>...</td>\n",
       "      <td>...</td>\n",
       "    </tr>\n",
       "    <tr>\n",
       "      <th>354</th>\n",
       "      <td>Afghanistan</td>\n",
       "      <td>1950</td>\n",
       "      <td>net_migration</td>\n",
       "      <td>all</td>\n",
       "      <td>all</td>\n",
       "      <td>estimates</td>\n",
       "      <td>6.161000e+03</td>\n",
       "    </tr>\n",
       "    <tr>\n",
       "      <th>355</th>\n",
       "      <td>Afghanistan</td>\n",
       "      <td>1950</td>\n",
       "      <td>net_migration_rate</td>\n",
       "      <td>all</td>\n",
       "      <td>all</td>\n",
       "      <td>estimates</td>\n",
       "      <td>8.240000e-01</td>\n",
       "    </tr>\n",
       "    <tr>\n",
       "      <th>356</th>\n",
       "      <td>Afghanistan</td>\n",
       "      <td>1950</td>\n",
       "      <td>population</td>\n",
       "      <td>all</td>\n",
       "      <td>0</td>\n",
       "      <td>estimates</td>\n",
       "      <td>3.017350e+05</td>\n",
       "    </tr>\n",
       "    <tr>\n",
       "      <th>357</th>\n",
       "      <td>Afghanistan</td>\n",
       "      <td>1950</td>\n",
       "      <td>population</td>\n",
       "      <td>all</td>\n",
       "      <td>0-4</td>\n",
       "      <td>estimates</td>\n",
       "      <td>1.248282e+06</td>\n",
       "    </tr>\n",
       "    <tr>\n",
       "      <th>358</th>\n",
       "      <td>Afghanistan</td>\n",
       "      <td>1950</td>\n",
       "      <td>population</td>\n",
       "      <td>all</td>\n",
       "      <td>1-4</td>\n",
       "      <td>estimates</td>\n",
       "      <td>9.465470e+05</td>\n",
       "    </tr>\n",
       "  </tbody>\n",
       "</table>\n",
       "<p>359 rows × 7 columns</p>\n",
       "</div>"
      ],
      "text/plain": [
       "        location  year              metric  sex    age    variant  \\\n",
       "0    Afghanistan  1950          birth_rate  all    all  estimates   \n",
       "1    Afghanistan  1950              births  all  10-14  estimates   \n",
       "2    Afghanistan  1950              births  all  15-19  estimates   \n",
       "3    Afghanistan  1950              births  all  20-24  estimates   \n",
       "4    Afghanistan  1950              births  all  25-29  estimates   \n",
       "..           ...   ...                 ...  ...    ...        ...   \n",
       "354  Afghanistan  1950       net_migration  all    all  estimates   \n",
       "355  Afghanistan  1950  net_migration_rate  all    all  estimates   \n",
       "356  Afghanistan  1950          population  all      0  estimates   \n",
       "357  Afghanistan  1950          population  all    0-4  estimates   \n",
       "358  Afghanistan  1950          population  all    1-4  estimates   \n",
       "\n",
       "            value  \n",
       "0    4.886600e+01  \n",
       "1    4.312000e+03  \n",
       "2    4.981800e+04  \n",
       "3    9.218900e+04  \n",
       "4    8.598000e+04  \n",
       "..            ...  \n",
       "354  6.161000e+03  \n",
       "355  8.240000e-01  \n",
       "356  3.017350e+05  \n",
       "357  1.248282e+06  \n",
       "358  9.465470e+05  \n",
       "\n",
       "[359 rows x 7 columns]"
      ]
     },
     "execution_count": 19,
     "metadata": {},
     "output_type": "execute_result"
    }
   ],
   "source": [
    "x.iloc[:359]"
   ]
  },
  {
   "cell_type": "code",
   "execution_count": 20,
   "id": "4da5bb27-96f9-4774-94fb-19a34873ec87",
   "metadata": {},
   "outputs": [
    {
     "data": {
      "text/html": [
       "<div>\n",
       "<style scoped>\n",
       "    .dataframe tbody tr th:only-of-type {\n",
       "        vertical-align: middle;\n",
       "    }\n",
       "\n",
       "    .dataframe tbody tr th {\n",
       "        vertical-align: top;\n",
       "    }\n",
       "\n",
       "    .dataframe thead th {\n",
       "        text-align: right;\n",
       "    }\n",
       "</style>\n",
       "<table border=\"1\" class=\"dataframe\">\n",
       "  <thead>\n",
       "    <tr style=\"text-align: right;\">\n",
       "      <th></th>\n",
       "      <th>location</th>\n",
       "      <th>year</th>\n",
       "      <th>metric</th>\n",
       "      <th>sex</th>\n",
       "      <th>age</th>\n",
       "      <th>variant</th>\n",
       "      <th>value</th>\n",
       "    </tr>\n",
       "  </thead>\n",
       "  <tbody>\n",
       "    <tr>\n",
       "      <th>357</th>\n",
       "      <td>Afghanistan</td>\n",
       "      <td>1950</td>\n",
       "      <td>population</td>\n",
       "      <td>all</td>\n",
       "      <td>0-4</td>\n",
       "      <td>estimates</td>\n",
       "      <td>1248282.0</td>\n",
       "    </tr>\n",
       "  </tbody>\n",
       "</table>\n",
       "</div>"
      ],
      "text/plain": [
       "        location  year      metric  sex  age    variant      value\n",
       "357  Afghanistan  1950  population  all  0-4  estimates  1248282.0"
      ]
     },
     "execution_count": 20,
     "metadata": {},
     "output_type": "execute_result"
    }
   ],
   "source": [
    "x[\n",
    "    (x.location == \"Afghanistan\")\n",
    "    & (x.year == 1950)\n",
    "    & (x.metric == \"population\")\n",
    "    & (x.sex == \"all\")\n",
    "    & (x.age == \"0-4\")\n",
    "]"
   ]
  },
  {
   "cell_type": "code",
   "execution_count": 22,
   "id": "54760b79-34de-4d8d-a6df-6117f69c4b08",
   "metadata": {
    "tags": []
   },
   "outputs": [],
   "source": [
    "df_wide = x.pivot(\n",
    "    index=[\"location\", \"year\", \"sex\", \"age\", \"variant\"],\n",
    "    columns=\"metric\",\n",
    "    values=\"value\",\n",
    ")"
   ]
  },
  {
   "cell_type": "code",
   "execution_count": 70,
   "id": "70d86670-d32c-4e0d-92c8-cb473bb270d7",
   "metadata": {},
   "outputs": [],
   "source": [
    "xx = x.groupby(\n",
    "    [\"location\", \"year\", \"sex\", \"age\", \"variant\", \"metric\"],\n",
    ")"
   ]
  },
  {
   "cell_type": "code",
   "execution_count": 71,
   "id": "00b3457a-9a2b-49ba-8c58-f4f92f8e86f8",
   "metadata": {},
   "outputs": [],
   "source": [
    "y = xx.metric.nunique()"
   ]
  },
  {
   "cell_type": "code",
   "execution_count": 72,
   "id": "6328f63e-b5d7-45e8-8445-feaac26ca2fe",
   "metadata": {},
   "outputs": [
    {
     "data": {
      "text/plain": [
       "location                  year  sex     age       variant         metric           \n",
       "Afghanistan               1950  all     0         estimates       deaths               1\n",
       "Northern Mariana Islands  2073  all     15-24     medium          population_broad     1\n",
       "                                        16        high            deaths               1\n",
       "                                                                  population_change    1\n",
       "                                                  low             deaths               1\n",
       "                                                                                      ..\n",
       "Gibraltar                 2036  female  32        high            population_change    1\n",
       "                                                  low             deaths               1\n",
       "                                                                  population_change    1\n",
       "                                        30        medium          deaths               1\n",
       "Zimbabwe                  2100  none    at birth  zero migration  sex_ratio            1\n",
       "Name: metric, Length: 69424735, dtype: int64"
      ]
     },
     "execution_count": 72,
     "metadata": {},
     "output_type": "execute_result"
    }
   ],
   "source": [
    "y.sort_values()"
   ]
  },
  {
   "cell_type": "code",
   "execution_count": 16,
   "id": "ab94faa4-b0aa-4889-9854-b5ac31e5ebb3",
   "metadata": {},
   "outputs": [],
   "source": [
    "x = df.reset_index()"
   ]
  },
  {
   "cell_type": "code",
   "execution_count": 14,
   "id": "4791bab5-d342-4be0-b8c5-835e04de046f",
   "metadata": {
    "tags": []
   },
   "outputs": [],
   "source": [
    "x = x.set_index([\"location\", \"year\", \"sex\", \"age\", \"variant\"])"
   ]
  },
  {
   "cell_type": "code",
   "execution_count": 35,
   "id": "f2a87232-f6a5-4517-b1c8-558112d22297",
   "metadata": {},
   "outputs": [],
   "source": [
    "xx = df_population.groupby([\"location\", \"year\", \"sex\", \"age\", \"variant\", \"metric\"])"
   ]
  },
  {
   "cell_type": "code",
   "execution_count": null,
   "id": "b847a77a-70bf-40e9-8681-cdab782c5a21",
   "metadata": {},
   "outputs": [],
   "source": [
    "xx.value.count()"
   ]
  },
  {
   "cell_type": "code",
   "execution_count": 24,
   "id": "300e356c-fd8a-40c9-bdea-42a4015dd26c",
   "metadata": {},
   "outputs": [],
   "source": [
    "ans = _"
   ]
  },
  {
   "cell_type": "code",
   "execution_count": 25,
   "id": "f7fed746-71b6-4f56-bcbf-459516e8ba85",
   "metadata": {},
   "outputs": [
    {
     "data": {
      "text/plain": [
       "location                   year  sex     age    variant    metric           \n",
       "Afghanistan                1950  all     0      estimates  deaths               1\n",
       "Northern Mariana Islands   1978  none    70     estimates  population_change    1\n",
       "                                                           sex_ratio            1\n",
       "                                         71     estimates  population_change    1\n",
       "                                         72     estimates  population_change    1\n",
       "                                                                               ..\n",
       "Tokelau                    2013  all     0-4    estimates  population_broad     3\n",
       "                                                           population           3\n",
       "South Africa               1963  female  40-49  estimates  population           3\n",
       "                                         25-64  estimates  population_broad     3\n",
       "Sint Maarten (Dutch part)  1991  male    10-14  estimates  population           3\n",
       "Name: value, Length: 69424735, dtype: int64"
      ]
     },
     "execution_count": 25,
     "metadata": {},
     "output_type": "execute_result"
    }
   ],
   "source": [
    "ans.sort_values()"
   ]
  },
  {
   "cell_type": "code",
   "execution_count": 34,
   "id": "b2994488-2d82-409b-96bc-d083d80dc519",
   "metadata": {},
   "outputs": [
    {
     "data": {
      "text/plain": [
       "{'population', 'population_broad'}"
      ]
     },
     "execution_count": 34,
     "metadata": {},
     "output_type": "execute_result"
    }
   ],
   "source": [
    "set(i[-1] for i in ans[ans > 1].index)"
   ]
  },
  {
   "cell_type": "code",
   "execution_count": 28,
   "id": "16cb512f-f1cb-4f62-b1bc-1a5e0d71da42",
   "metadata": {},
   "outputs": [
    {
     "name": "stderr",
     "output_type": "stream",
     "text": [
      "/tmp/ipykernel_2557038/4211560172.py:1: PerformanceWarning: indexing past lexsort depth may impact performance.\n",
      "  ds[\"population\"].loc[\"South Africa\", 1991]\n"
     ]
    },
    {
     "data": {
      "text/html": [
       "<div>\n",
       "<style scoped>\n",
       "    .dataframe tbody tr th:only-of-type {\n",
       "        vertical-align: middle;\n",
       "    }\n",
       "\n",
       "    .dataframe tbody tr th {\n",
       "        vertical-align: top;\n",
       "    }\n",
       "\n",
       "    .dataframe thead th {\n",
       "        text-align: right;\n",
       "    }\n",
       "</style>\n",
       "<table border=\"1\" class=\"dataframe\">\n",
       "  <thead>\n",
       "    <tr style=\"text-align: right;\">\n",
       "      <th></th>\n",
       "      <th></th>\n",
       "      <th>sortorder</th>\n",
       "      <th>locid</th>\n",
       "      <th>notes</th>\n",
       "      <th>iso3_code</th>\n",
       "      <th>iso2_code</th>\n",
       "      <th>sdmx_code</th>\n",
       "      <th>loctypeid</th>\n",
       "      <th>loctypename</th>\n",
       "      <th>parentid</th>\n",
       "      <th>varid</th>\n",
       "      <th>midperiod</th>\n",
       "      <th>agegrpstart</th>\n",
       "      <th>agegrpspan</th>\n",
       "      <th>popmale</th>\n",
       "      <th>popfemale</th>\n",
       "      <th>poptotal</th>\n",
       "    </tr>\n",
       "    <tr>\n",
       "      <th>variant</th>\n",
       "      <th>agegrp</th>\n",
       "      <th></th>\n",
       "      <th></th>\n",
       "      <th></th>\n",
       "      <th></th>\n",
       "      <th></th>\n",
       "      <th></th>\n",
       "      <th></th>\n",
       "      <th></th>\n",
       "      <th></th>\n",
       "      <th></th>\n",
       "      <th></th>\n",
       "      <th></th>\n",
       "      <th></th>\n",
       "      <th></th>\n",
       "      <th></th>\n",
       "      <th></th>\n",
       "    </tr>\n",
       "  </thead>\n",
       "  <tbody>\n",
       "    <tr>\n",
       "      <th rowspan=\"11\" valign=\"top\">Medium</th>\n",
       "      <th>0</th>\n",
       "      <td>72</td>\n",
       "      <td>710</td>\n",
       "      <td>NaN</td>\n",
       "      <td>ZAF</td>\n",
       "      <td>ZA</td>\n",
       "      <td>710</td>\n",
       "      <td>4</td>\n",
       "      <td>Country/Area</td>\n",
       "      <td>913</td>\n",
       "      <td>2</td>\n",
       "      <td>1991</td>\n",
       "      <td>0</td>\n",
       "      <td>1</td>\n",
       "      <td>604.456970</td>\n",
       "      <td>586.245972</td>\n",
       "      <td>1190.703003</td>\n",
       "    </tr>\n",
       "    <tr>\n",
       "      <th>1</th>\n",
       "      <td>72</td>\n",
       "      <td>710</td>\n",
       "      <td>NaN</td>\n",
       "      <td>ZAF</td>\n",
       "      <td>ZA</td>\n",
       "      <td>710</td>\n",
       "      <td>4</td>\n",
       "      <td>Country/Area</td>\n",
       "      <td>913</td>\n",
       "      <td>2</td>\n",
       "      <td>1991</td>\n",
       "      <td>1</td>\n",
       "      <td>1</td>\n",
       "      <td>611.776978</td>\n",
       "      <td>594.033997</td>\n",
       "      <td>1205.811035</td>\n",
       "    </tr>\n",
       "    <tr>\n",
       "      <th>2</th>\n",
       "      <td>72</td>\n",
       "      <td>710</td>\n",
       "      <td>NaN</td>\n",
       "      <td>ZAF</td>\n",
       "      <td>ZA</td>\n",
       "      <td>710</td>\n",
       "      <td>4</td>\n",
       "      <td>Country/Area</td>\n",
       "      <td>913</td>\n",
       "      <td>2</td>\n",
       "      <td>1991</td>\n",
       "      <td>2</td>\n",
       "      <td>1</td>\n",
       "      <td>629.908020</td>\n",
       "      <td>611.869995</td>\n",
       "      <td>1241.777954</td>\n",
       "    </tr>\n",
       "    <tr>\n",
       "      <th>3</th>\n",
       "      <td>72</td>\n",
       "      <td>710</td>\n",
       "      <td>NaN</td>\n",
       "      <td>ZAF</td>\n",
       "      <td>ZA</td>\n",
       "      <td>710</td>\n",
       "      <td>4</td>\n",
       "      <td>Country/Area</td>\n",
       "      <td>913</td>\n",
       "      <td>2</td>\n",
       "      <td>1991</td>\n",
       "      <td>3</td>\n",
       "      <td>1</td>\n",
       "      <td>639.642029</td>\n",
       "      <td>621.487000</td>\n",
       "      <td>1261.130005</td>\n",
       "    </tr>\n",
       "    <tr>\n",
       "      <th>4</th>\n",
       "      <td>72</td>\n",
       "      <td>710</td>\n",
       "      <td>NaN</td>\n",
       "      <td>ZAF</td>\n",
       "      <td>ZA</td>\n",
       "      <td>710</td>\n",
       "      <td>4</td>\n",
       "      <td>Country/Area</td>\n",
       "      <td>913</td>\n",
       "      <td>2</td>\n",
       "      <td>1991</td>\n",
       "      <td>4</td>\n",
       "      <td>1</td>\n",
       "      <td>636.085022</td>\n",
       "      <td>618.302979</td>\n",
       "      <td>1254.387939</td>\n",
       "    </tr>\n",
       "    <tr>\n",
       "      <th>...</th>\n",
       "      <td>...</td>\n",
       "      <td>...</td>\n",
       "      <td>...</td>\n",
       "      <td>...</td>\n",
       "      <td>...</td>\n",
       "      <td>...</td>\n",
       "      <td>...</td>\n",
       "      <td>...</td>\n",
       "      <td>...</td>\n",
       "      <td>...</td>\n",
       "      <td>...</td>\n",
       "      <td>...</td>\n",
       "      <td>...</td>\n",
       "      <td>...</td>\n",
       "      <td>...</td>\n",
       "      <td>...</td>\n",
       "    </tr>\n",
       "    <tr>\n",
       "      <th>96</th>\n",
       "      <td>72</td>\n",
       "      <td>710</td>\n",
       "      <td>NaN</td>\n",
       "      <td>ZAF</td>\n",
       "      <td>ZA</td>\n",
       "      <td>710</td>\n",
       "      <td>4</td>\n",
       "      <td>Country/Area</td>\n",
       "      <td>913</td>\n",
       "      <td>2</td>\n",
       "      <td>1991</td>\n",
       "      <td>96</td>\n",
       "      <td>1</td>\n",
       "      <td>0.313000</td>\n",
       "      <td>0.479000</td>\n",
       "      <td>0.792000</td>\n",
       "    </tr>\n",
       "    <tr>\n",
       "      <th>97</th>\n",
       "      <td>72</td>\n",
       "      <td>710</td>\n",
       "      <td>NaN</td>\n",
       "      <td>ZAF</td>\n",
       "      <td>ZA</td>\n",
       "      <td>710</td>\n",
       "      <td>4</td>\n",
       "      <td>Country/Area</td>\n",
       "      <td>913</td>\n",
       "      <td>2</td>\n",
       "      <td>1991</td>\n",
       "      <td>97</td>\n",
       "      <td>1</td>\n",
       "      <td>0.208000</td>\n",
       "      <td>0.312000</td>\n",
       "      <td>0.519000</td>\n",
       "    </tr>\n",
       "    <tr>\n",
       "      <th>98</th>\n",
       "      <td>72</td>\n",
       "      <td>710</td>\n",
       "      <td>NaN</td>\n",
       "      <td>ZAF</td>\n",
       "      <td>ZA</td>\n",
       "      <td>710</td>\n",
       "      <td>4</td>\n",
       "      <td>Country/Area</td>\n",
       "      <td>913</td>\n",
       "      <td>2</td>\n",
       "      <td>1991</td>\n",
       "      <td>98</td>\n",
       "      <td>1</td>\n",
       "      <td>0.136000</td>\n",
       "      <td>0.197000</td>\n",
       "      <td>0.333000</td>\n",
       "    </tr>\n",
       "    <tr>\n",
       "      <th>99</th>\n",
       "      <td>72</td>\n",
       "      <td>710</td>\n",
       "      <td>NaN</td>\n",
       "      <td>ZAF</td>\n",
       "      <td>ZA</td>\n",
       "      <td>710</td>\n",
       "      <td>4</td>\n",
       "      <td>Country/Area</td>\n",
       "      <td>913</td>\n",
       "      <td>2</td>\n",
       "      <td>1991</td>\n",
       "      <td>99</td>\n",
       "      <td>1</td>\n",
       "      <td>0.088000</td>\n",
       "      <td>0.121000</td>\n",
       "      <td>0.209000</td>\n",
       "    </tr>\n",
       "    <tr>\n",
       "      <th>100+</th>\n",
       "      <td>72</td>\n",
       "      <td>710</td>\n",
       "      <td>NaN</td>\n",
       "      <td>ZAF</td>\n",
       "      <td>ZA</td>\n",
       "      <td>710</td>\n",
       "      <td>4</td>\n",
       "      <td>Country/Area</td>\n",
       "      <td>913</td>\n",
       "      <td>2</td>\n",
       "      <td>1991</td>\n",
       "      <td>100</td>\n",
       "      <td>-1</td>\n",
       "      <td>0.140000</td>\n",
       "      <td>0.159000</td>\n",
       "      <td>0.299000</td>\n",
       "    </tr>\n",
       "  </tbody>\n",
       "</table>\n",
       "<p>101 rows × 16 columns</p>\n",
       "</div>"
      ],
      "text/plain": [
       "               sortorder locid notes iso3_code iso2_code sdmx_code loctypeid  \\\n",
       "variant agegrp                                                                 \n",
       "Medium  0             72   710   NaN       ZAF        ZA       710         4   \n",
       "        1             72   710   NaN       ZAF        ZA       710         4   \n",
       "        2             72   710   NaN       ZAF        ZA       710         4   \n",
       "        3             72   710   NaN       ZAF        ZA       710         4   \n",
       "        4             72   710   NaN       ZAF        ZA       710         4   \n",
       "...                  ...   ...   ...       ...       ...       ...       ...   \n",
       "        96            72   710   NaN       ZAF        ZA       710         4   \n",
       "        97            72   710   NaN       ZAF        ZA       710         4   \n",
       "        98            72   710   NaN       ZAF        ZA       710         4   \n",
       "        99            72   710   NaN       ZAF        ZA       710         4   \n",
       "        100+          72   710   NaN       ZAF        ZA       710         4   \n",
       "\n",
       "                 loctypename parentid varid  midperiod  agegrpstart  \\\n",
       "variant agegrp                                                        \n",
       "Medium  0       Country/Area      913     2       1991            0   \n",
       "        1       Country/Area      913     2       1991            1   \n",
       "        2       Country/Area      913     2       1991            2   \n",
       "        3       Country/Area      913     2       1991            3   \n",
       "        4       Country/Area      913     2       1991            4   \n",
       "...                      ...      ...   ...        ...          ...   \n",
       "        96      Country/Area      913     2       1991           96   \n",
       "        97      Country/Area      913     2       1991           97   \n",
       "        98      Country/Area      913     2       1991           98   \n",
       "        99      Country/Area      913     2       1991           99   \n",
       "        100+    Country/Area      913     2       1991          100   \n",
       "\n",
       "                agegrpspan     popmale   popfemale     poptotal  \n",
       "variant agegrp                                                   \n",
       "Medium  0                1  604.456970  586.245972  1190.703003  \n",
       "        1                1  611.776978  594.033997  1205.811035  \n",
       "        2                1  629.908020  611.869995  1241.777954  \n",
       "        3                1  639.642029  621.487000  1261.130005  \n",
       "        4                1  636.085022  618.302979  1254.387939  \n",
       "...                    ...         ...         ...          ...  \n",
       "        96               1    0.313000    0.479000     0.792000  \n",
       "        97               1    0.208000    0.312000     0.519000  \n",
       "        98               1    0.136000    0.197000     0.333000  \n",
       "        99               1    0.088000    0.121000     0.209000  \n",
       "        100+            -1    0.140000    0.159000     0.299000  \n",
       "\n",
       "[101 rows x 16 columns]"
      ]
     },
     "execution_count": 28,
     "metadata": {},
     "output_type": "execute_result"
    }
   ],
   "source": [
    "ds[\"population\"].loc[\"South Africa\", 1991]"
   ]
  },
  {
   "cell_type": "code",
   "execution_count": null,
   "id": "74457ed7-eed8-4ea0-b894-8fb6b83ab98a",
   "metadata": {},
   "outputs": [],
   "source": []
  },
  {
   "cell_type": "code",
   "execution_count": null,
   "id": "bc78cda7-c48d-46cf-93e5-a95144dd7f66",
   "metadata": {},
   "outputs": [],
   "source": []
  },
  {
   "cell_type": "code",
   "execution_count": 73,
   "id": "2f720451-80d4-4723-9f02-4a58c0d62f70",
   "metadata": {},
   "outputs": [],
   "source": [
    "from owid.catalog.meta import DatasetMeta\n",
    "from owid.catalog import Table"
   ]
  },
  {
   "cell_type": "code",
   "execution_count": 6,
   "id": "615b24b6-03be-4343-8697-21bb07aa5327",
   "metadata": {},
   "outputs": [
    {
     "data": {
      "text/plain": [
       "DatasetMeta(namespace='un', short_name='un_wpp', title='World Population Prospects 2022, Online Edition', description='World Population Prospects 2022 is the 27th edition of the official estimates and projections of the global population that have been published by the United Nations since 1951. The estimates are based on all available sources of data on population size and levels of fertility, mortality and international migration for 237 countries or areas.', sources=[Source(name='United Nations, Department of Economic and Social Affairs, Population Division (2022)', description=None, url='https://population.un.org/wpp/Download/', source_data_url=None, owid_data_url='https://walden.nyc3.digitaloceanspaces.com/un/2022/un_wpp.zip', date_accessed='2022-07-11', publication_date=None, publication_year=2022, published_by=None, publisher_source=None)], licenses=[License(name='CC BY 3.0 IGO', url='http://creativecommons.org/licenses/by/3.0/igo/')], is_public=True, additional_info=None, version='2022', source_checksum='4ccd9c64e1cb3635160d1a27f4363fc8')"
      ]
     },
     "execution_count": 6,
     "metadata": {},
     "output_type": "execute_result"
    }
   ],
   "source": [
    "ds.metadata"
   ]
  },
  {
   "cell_type": "code",
   "execution_count": null,
   "id": "1a99f197-8f2c-410b-867b-2299cb673d25",
   "metadata": {},
   "outputs": [],
   "source": [
    "metadata = DatasetMeta()"
   ]
  },
  {
   "cell_type": "code",
   "execution_count": null,
   "id": "109a24c4-3b20-41a7-9d41-9d2031915077",
   "metadata": {},
   "outputs": [],
   "source": [
    "ds_garden = catalog.Dataset.create_empty(dest_dir)"
   ]
  },
  {
   "cell_type": "code",
   "execution_count": 11,
   "id": "9147785f-0a83-49ba-a7c2-e9b83ce4eefb",
   "metadata": {},
   "outputs": [],
   "source": [
    "ds_garden = catalog.Dataset.create_empty(\"./here\")"
   ]
  },
  {
   "cell_type": "code",
   "execution_count": 12,
   "id": "54c1a2b5-72dc-41cf-ab17-c2cbf58ff076",
   "metadata": {},
   "outputs": [],
   "source": [
    "ds_garden.metadata = ds.metadata"
   ]
  },
  {
   "cell_type": "code",
   "execution_count": 13,
   "id": "e757b58d-938a-4f1c-863a-0ccbab3ccbef",
   "metadata": {},
   "outputs": [],
   "source": [
    "ds_garden.save()"
   ]
  },
  {
   "cell_type": "code",
   "execution_count": 16,
   "id": "de55b286-269d-4bd5-b106-8a4edcb196b3",
   "metadata": {},
   "outputs": [],
   "source": [
    "t = Table(df)"
   ]
  },
  {
   "cell_type": "code",
   "execution_count": 22,
   "id": "040a15d0-ba66-48a7-a75b-e567034775df",
   "metadata": {},
   "outputs": [],
   "source": [
    "t = Table(df, metadata={\"short_name\": \"long\"})"
   ]
  },
  {
   "cell_type": "code",
   "execution_count": 24,
   "id": "3718d08a-9697-4884-a32d-2418f3ff2503",
   "metadata": {},
   "outputs": [
    {
     "data": {
      "text/plain": [
       "{'short_name': 'long'}"
      ]
     },
     "execution_count": 24,
     "metadata": {},
     "output_type": "execute_result"
    }
   ],
   "source": [
    "t.metadata"
   ]
  },
  {
   "cell_type": "code",
   "execution_count": 26,
   "id": "40267438-19c7-4dae-87ae-83532b15ca82",
   "metadata": {},
   "outputs": [],
   "source": [
    "from owid.catalog.meta import TableMeta"
   ]
  },
  {
   "cell_type": "code",
   "execution_count": 28,
   "id": "dd4c42d4-dee1-4747-89ec-098179aa6012",
   "metadata": {},
   "outputs": [],
   "source": [
    "t = Table(df, metadata=TableMeta(short_name=\"long\"))"
   ]
  },
  {
   "cell_type": "code",
   "execution_count": 29,
   "id": "938c224d-433a-45a2-a516-fcd79539f29b",
   "metadata": {},
   "outputs": [
    {
     "data": {
      "text/plain": [
       "TableMeta(short_name='long', title=None, description=None, dataset=None, primary_key=[])"
      ]
     },
     "execution_count": 29,
     "metadata": {},
     "output_type": "execute_result"
    }
   ],
   "source": [
    "t.metadata"
   ]
  },
  {
   "cell_type": "code",
   "execution_count": 21,
   "id": "eb55bebd-5960-4664-b3ec-4cab789de19a",
   "metadata": {},
   "outputs": [
    {
     "data": {
      "text/plain": [
       "TableMeta(short_name='fertility', title=None, description=None, dataset=DatasetMeta(namespace='un', short_name='un_wpp', title='World Population Prospects 2022, Online Edition', description='World Population Prospects 2022 is the 27th edition of the official estimates and projections of the global population that have been published by the United Nations since 1951. The estimates are based on all available sources of data on population size and levels of fertility, mortality and international migration for 237 countries or areas.', sources=[Source(name='United Nations, Department of Economic and Social Affairs, Population Division (2022)', description=None, url='https://population.un.org/wpp/Download/', source_data_url=None, owid_data_url='https://walden.nyc3.digitaloceanspaces.com/un/2022/un_wpp.zip', date_accessed='2022-07-11', publication_date=None, publication_year=2022, published_by=None, publisher_source=None)], licenses=[License(name='CC BY 3.0 IGO', url='http://creativecommons.org/licenses/by/3.0/igo/')], is_public=True, additional_info=None, version='2022', source_checksum='4ccd9c64e1cb3635160d1a27f4363fc8'), primary_key=['location', 'time', 'variant', 'agegrp'])"
      ]
     },
     "execution_count": 21,
     "metadata": {},
     "output_type": "execute_result"
    }
   ],
   "source": [
    "ds[\"fertility\"].metadata"
   ]
  },
  {
   "cell_type": "code",
   "execution_count": 71,
   "id": "7ac67a83-1ca0-4211-a814-8d7bc333dd6e",
   "metadata": {},
   "outputs": [
    {
     "data": {
      "text/plain": [
       "0"
      ]
     },
     "execution_count": 71,
     "metadata": {},
     "output_type": "execute_result"
    }
   ],
   "source": [
    "df_demographics.variant.isna().sum()"
   ]
  },
  {
   "cell_type": "code",
   "execution_count": 36,
   "id": "a8d3b1cd-13e5-4221-8cfe-3eff8c02a626",
   "metadata": {},
   "outputs": [
    {
     "data": {
      "text/plain": [
       "location    0\n",
       "year        0\n",
       "metric      0\n",
       "sex         0\n",
       "age         0\n",
       "variant     0\n",
       "value       0\n",
       "dtype: int64"
      ]
     },
     "execution_count": 36,
     "metadata": {},
     "output_type": "execute_result"
    }
   ],
   "source": [
    "df.isna().sum()"
   ]
  },
  {
   "cell_type": "code",
   "execution_count": 75,
   "id": "ba053764-68e1-456e-87f8-a3f290709773",
   "metadata": {},
   "outputs": [
    {
     "name": "stdout",
     "output_type": "stream",
     "text": [
      "0.0\n",
      "0.0\n"
     ]
    }
   ],
   "source": [
    "x = df\n",
    "a = (x.loc[:, \"variant\"] == \"nan\").sum() / len(x)\n",
    "b = (x.loc[:, \"variant\"].isna()).sum() / len(x)\n",
    "print(a)\n",
    "print(b)"
   ]
  },
  {
   "cell_type": "code",
   "execution_count": null,
   "id": "653aaea4-7c3a-4fdd-b555-8a2990e3dbb3",
   "metadata": {},
   "outputs": [
    {
     "data": {
      "text/plain": [
       "0.007536089053379234"
      ]
     },
     "execution_count": 45,
     "metadata": {},
     "output_type": "execute_result"
    }
   ],
   "source": [
    "548576 / len(df)"
   ]
  },
  {
   "cell_type": "code",
   "execution_count": 84,
   "id": "d9825d9e-f4c4-4ba9-830e-d8fe7ec148cc",
   "metadata": {
    "collapsed": true,
    "jupyter": {
     "outputs_hidden": true
    },
    "tags": []
   },
   "outputs": [
    {
     "data": {
      "text/plain": [
       "array(['Afghanistan', 'Africa', 'Albania', 'Algeria', 'American Samoa',\n",
       "       'Andorra', 'Angola', 'Anguilla', 'Antigua and Barbuda',\n",
       "       'Argentina', 'Armenia', 'Aruba', 'Asia', 'Australia',\n",
       "       'Australia/New Zealand', 'Austria', 'Azerbaijan', 'Bahamas',\n",
       "       'Bahrain', 'Bangladesh', 'Barbados', 'Belarus', 'Belgium',\n",
       "       'Belize', 'Benin', 'Bermuda', 'Bhutan', 'Bolivia',\n",
       "       'Bolivia (Plurinational State of)',\n",
       "       'Bonaire Sint Eustatius and Saba',\n",
       "       'Bonaire, Sint Eustatius and Saba', 'Bosnia and Herzegovina',\n",
       "       'Botswana', 'Brazil', 'British Virgin Islands', 'Brunei',\n",
       "       'Brunei Darussalam', 'Bulgaria', 'Burkina Faso', 'Burundi',\n",
       "       'Cabo Verde', 'Cambodia', 'Cameroon', 'Canada', 'Cape Verde',\n",
       "       'Caribbean', 'Cayman Islands', 'Central African Republic',\n",
       "       'Central America', 'Central Asia', 'Central and Southern Asia',\n",
       "       'Chad', 'Chile', 'China', 'China, Hong Kong SAR',\n",
       "       'China, Macao SAR', 'China, Taiwan Province of China', 'Colombia',\n",
       "       'Comoros', 'Congo', 'Cook Islands', 'Costa Rica', \"Cote d'Ivoire\",\n",
       "       'Croatia', 'Cuba', 'Curacao', 'Curaçao', 'Cyprus', 'Czechia',\n",
       "       \"Côte d'Ivoire\", \"Dem. People's Republic of Korea\",\n",
       "       'Democratic Republic of Congo', 'Democratic Republic of the Congo',\n",
       "       'Denmark', 'Djibouti', 'Dominica', 'Dominican Republic',\n",
       "       'Eastern Africa', 'Eastern Asia', 'Eastern Europe',\n",
       "       'Eastern and South-Eastern Asia', 'Ecuador', 'Egypt',\n",
       "       'El Salvador', 'Equatorial Guinea', 'Eritrea', 'Estonia',\n",
       "       'Eswatini', 'Ethiopia', 'Europe', 'Europe and Northern America',\n",
       "       'Faeroe Islands', 'Falkland Islands',\n",
       "       'Falkland Islands (Malvinas)', 'Faroe Islands', 'Fiji', 'Finland',\n",
       "       'France', 'French Guiana', 'French Polynesia', 'Gabon', 'Gambia',\n",
       "       'Georgia', 'Germany', 'Ghana', 'Gibraltar', 'Greece', 'Greenland',\n",
       "       'Grenada', 'Guadeloupe', 'Guam', 'Guatemala', 'Guernsey', 'Guinea',\n",
       "       'Guinea-Bissau', 'Guyana', 'Haiti', 'High-income countries',\n",
       "       'Honduras', 'Hong Kong', 'Hungary', 'Iceland', 'India',\n",
       "       'Indonesia', 'Iran', 'Iran (Islamic Republic of)', 'Iraq',\n",
       "       'Ireland', 'Isle of Man', 'Israel', 'Italy', 'Jamaica', 'Japan',\n",
       "       'Jersey', 'Jordan', 'Kazakhstan', 'Kenya', 'Kiribati', 'Kosovo',\n",
       "       'Kosovo (under UNSC res. 1244)', 'Kuwait', 'Kyrgyzstan',\n",
       "       'Land-locked Developing Countries (LLDC)',\n",
       "       \"Lao People's Democratic Republic\", 'Laos',\n",
       "       'Latin America and the Caribbean', 'Latvia',\n",
       "       'Least developed countries', 'Lebanon', 'Lesotho',\n",
       "       'Less developed regions',\n",
       "       'Less developed regions, excluding China',\n",
       "       'Less developed regions, excluding least developed countries',\n",
       "       'Liberia', 'Libya', 'Liechtenstein', 'Lithuania',\n",
       "       'Low-income countries', 'Lower-middle-income countries',\n",
       "       'Luxembourg', 'Macao', 'Madagascar', 'Malawi', 'Malaysia',\n",
       "       'Maldives', 'Mali', 'Malta', 'Marshall Islands', 'Martinique',\n",
       "       'Mauritania', 'Mauritius', 'Mayotte', 'Melanesia', 'Mexico',\n",
       "       'Micronesia', 'Micronesia (Fed. States of)',\n",
       "       'Micronesia (country)', 'Middle Africa', 'Middle-income countries',\n",
       "       'Moldova', 'Monaco', 'Mongolia', 'Montenegro', 'Montserrat',\n",
       "       'More developed regions', 'Morocco', 'Mozambique', 'Myanmar',\n",
       "       'Namibia', 'Nauru', 'Nepal', 'Netherlands', 'New Caledonia',\n",
       "       'New Zealand', 'Nicaragua', 'Niger', 'Nigeria', 'Niue',\n",
       "       'No income group available', 'North Korea', 'North Macedonia',\n",
       "       'Northern Africa', 'Northern Africa and Western Asia',\n",
       "       'Northern America', 'Northern Europe', 'Northern Mariana Islands',\n",
       "       'Norway', 'Oceania',\n",
       "       'Oceania (excluding Australia and New Zealand)', 'Oman',\n",
       "       'Pakistan', 'Palau', 'Palestine', 'Panama', 'Papua New Guinea',\n",
       "       'Paraguay', 'Peru', 'Philippines', 'Poland', 'Polynesia',\n",
       "       'Portugal', 'Puerto Rico', 'Qatar', 'Republic of Korea',\n",
       "       'Republic of Moldova', 'Reunion', 'Romania', 'Russia',\n",
       "       'Russian Federation', 'Rwanda', 'Réunion', 'Saint Barthlemy',\n",
       "       'Saint Barthélemy', 'Saint Helena', 'Saint Kitts and Nevis',\n",
       "       'Saint Lucia', 'Saint Martin (French part)',\n",
       "       'Saint Pierre and Miquelon', 'Saint Vincent and the Grenadines',\n",
       "       'Samoa', 'San Marino', 'Sao Tome and Principe', 'Saudi Arabia',\n",
       "       'Senegal', 'Serbia', 'Seychelles', 'Sierra Leone', 'Singapore',\n",
       "       'Sint Maarten (Dutch part)', 'Slovakia', 'Slovenia',\n",
       "       'Small Island Developing States (SIDS)', 'Solomon Islands',\n",
       "       'Somalia', 'South Africa', 'South America', 'South Korea',\n",
       "       'South Sudan', 'South-Eastern Asia', 'Southern Africa',\n",
       "       'Southern Asia', 'Southern Europe', 'Spain', 'Sri Lanka',\n",
       "       'State of Palestine', 'Sub-Saharan Africa', 'Sudan', 'Suriname',\n",
       "       'Sweden', 'Switzerland', 'Syria', 'Syrian Arab Republic', 'Taiwan',\n",
       "       'Tajikistan', 'Tanzania', 'Thailand', 'Timor', 'Timor-Leste',\n",
       "       'Togo', 'Tokelau', 'Tonga', 'Trinidad and Tobago', 'Tunisia',\n",
       "       'Turkey', 'Turkmenistan', 'Turks and Caicos Islands', 'Tuvalu',\n",
       "       'Türkiye', 'Uganda', 'Ukraine', 'United Arab Emirates',\n",
       "       'United Kingdom', 'United Republic of Tanzania', 'United States',\n",
       "       'United States Virgin Islands', 'United States of America',\n",
       "       'Upper-middle-income countries', 'Uruguay', 'Uzbekistan',\n",
       "       'Vanuatu', 'Vatican', 'Venezuela',\n",
       "       'Venezuela (Bolivarian Republic of)', 'Viet Nam', 'Vietnam',\n",
       "       'Wallis and Futuna', 'Wallis and Futuna Islands', 'Western Africa',\n",
       "       'Western Asia', 'Western Europe', 'Western Sahara', 'World',\n",
       "       'Yemen', 'Zambia', 'Zimbabwe'], dtype=object)"
      ]
     },
     "execution_count": 84,
     "metadata": {},
     "output_type": "execute_result"
    }
   ],
   "source": [
    "df.location.unique()"
   ]
  },
  {
   "cell_type": "code",
   "execution_count": null,
   "id": "136d7dd5-ea03-434c-a3c1-3b2c26d1c5d2",
   "metadata": {},
   "outputs": [],
   "source": [
    "df"
   ]
  },
  {
   "cell_type": "code",
   "execution_count": 82,
   "id": "a9332e0a-7ef1-433e-b588-92b3c89baedf",
   "metadata": {},
   "outputs": [],
   "source": [
    "x = df.groupby([\"location\", \"year\", \"sex\", \"age\", \"variant\", \"metric\"]).value.count()"
   ]
  },
  {
   "cell_type": "code",
   "execution_count": 83,
   "id": "bd9ab5ba-caca-4561-b301-855087f74e05",
   "metadata": {},
   "outputs": [
    {
     "data": {
      "text/plain": [
       "location                       year  sex     age    variant    metric           \n",
       "Afghanistan                    1950  all     0      estimates  deaths               1\n",
       "Northern America               2076  all     87     high       population_change    1\n",
       "                                                    low        deaths               1\n",
       "                                                               population_change    1\n",
       "                                                    medium     deaths               1\n",
       "                                                                                   ..\n",
       "United Republic of Tanzania    2013  all     all    estimates  population           3\n",
       "Thailand                       1953  male    100-   estimates  population           3\n",
       "Slovenia                       1968  male    5-9    estimates  population           3\n",
       "Kosovo (under UNSC res. 1244)  1962  all     60-69  estimates  population           3\n",
       "Western Europe                 1972  female  15-19  estimates  population           3\n",
       "Name: value, Length: 70348075, dtype: int64"
      ]
     },
     "execution_count": 83,
     "metadata": {},
     "output_type": "execute_result"
    }
   ],
   "source": [
    "x.sort_values()"
   ]
  },
  {
   "cell_type": "code",
   "execution_count": 76,
   "id": "5476f719-948b-4069-be3d-eebd8b06e201",
   "metadata": {
    "tags": []
   },
   "outputs": [
    {
     "ename": "ValueError",
     "evalue": "Index contains duplicate entries, cannot reshape",
     "output_type": "error",
     "traceback": [
      "\u001b[0;31m---------------------------------------------------------------------------\u001b[0m",
      "\u001b[0;31mValueError\u001b[0m                                Traceback (most recent call last)",
      "\u001b[0;32m/tmp/ipykernel_2543387/2516984757.py\u001b[0m in \u001b[0;36m<cell line: 1>\u001b[0;34m()\u001b[0m\n\u001b[0;32m----> 1\u001b[0;31m \u001b[0mx\u001b[0m \u001b[0;34m=\u001b[0m \u001b[0mdf\u001b[0m\u001b[0;34m.\u001b[0m\u001b[0mpivot\u001b[0m\u001b[0;34m(\u001b[0m\u001b[0mindex\u001b[0m\u001b[0;34m=\u001b[0m\u001b[0;34m[\u001b[0m\u001b[0;34m'location'\u001b[0m\u001b[0;34m,\u001b[0m \u001b[0;34m'year'\u001b[0m\u001b[0;34m,\u001b[0m \u001b[0;34m'sex'\u001b[0m\u001b[0;34m,\u001b[0m \u001b[0;34m'age'\u001b[0m\u001b[0;34m,\u001b[0m \u001b[0;34m'variant'\u001b[0m\u001b[0;34m]\u001b[0m\u001b[0;34m,\u001b[0m \u001b[0mcolumns\u001b[0m\u001b[0;34m=\u001b[0m\u001b[0;34m'metric'\u001b[0m\u001b[0;34m,\u001b[0m \u001b[0mvalues\u001b[0m\u001b[0;34m=\u001b[0m\u001b[0;34m'value'\u001b[0m\u001b[0;34m)\u001b[0m\u001b[0;34m\u001b[0m\u001b[0;34m\u001b[0m\u001b[0m\n\u001b[0m",
      "\u001b[0;32m~/repos/etl/.venv/lib/python3.9/site-packages/pandas/core/frame.py\u001b[0m in \u001b[0;36mpivot\u001b[0;34m(self, index, columns, values)\u001b[0m\n\u001b[1;32m   7874\u001b[0m         \u001b[0;32mfrom\u001b[0m \u001b[0mpandas\u001b[0m\u001b[0;34m.\u001b[0m\u001b[0mcore\u001b[0m\u001b[0;34m.\u001b[0m\u001b[0mreshape\u001b[0m\u001b[0;34m.\u001b[0m\u001b[0mpivot\u001b[0m \u001b[0;32mimport\u001b[0m \u001b[0mpivot\u001b[0m\u001b[0;34m\u001b[0m\u001b[0;34m\u001b[0m\u001b[0m\n\u001b[1;32m   7875\u001b[0m \u001b[0;34m\u001b[0m\u001b[0m\n\u001b[0;32m-> 7876\u001b[0;31m         \u001b[0;32mreturn\u001b[0m \u001b[0mpivot\u001b[0m\u001b[0;34m(\u001b[0m\u001b[0mself\u001b[0m\u001b[0;34m,\u001b[0m \u001b[0mindex\u001b[0m\u001b[0;34m=\u001b[0m\u001b[0mindex\u001b[0m\u001b[0;34m,\u001b[0m \u001b[0mcolumns\u001b[0m\u001b[0;34m=\u001b[0m\u001b[0mcolumns\u001b[0m\u001b[0;34m,\u001b[0m \u001b[0mvalues\u001b[0m\u001b[0;34m=\u001b[0m\u001b[0mvalues\u001b[0m\u001b[0;34m)\u001b[0m\u001b[0;34m\u001b[0m\u001b[0;34m\u001b[0m\u001b[0m\n\u001b[0m\u001b[1;32m   7877\u001b[0m \u001b[0;34m\u001b[0m\u001b[0m\n\u001b[1;32m   7878\u001b[0m     _shared_docs[\n",
      "\u001b[0;32m~/repos/etl/.venv/lib/python3.9/site-packages/pandas/core/reshape/pivot.py\u001b[0m in \u001b[0;36mpivot\u001b[0;34m(data, index, columns, values)\u001b[0m\n\u001b[1;32m    518\u001b[0m         \u001b[0;32melse\u001b[0m\u001b[0;34m:\u001b[0m\u001b[0;34m\u001b[0m\u001b[0;34m\u001b[0m\u001b[0m\n\u001b[1;32m    519\u001b[0m             \u001b[0mindexed\u001b[0m \u001b[0;34m=\u001b[0m \u001b[0mdata\u001b[0m\u001b[0;34m.\u001b[0m\u001b[0m_constructor_sliced\u001b[0m\u001b[0;34m(\u001b[0m\u001b[0mdata\u001b[0m\u001b[0;34m[\u001b[0m\u001b[0mvalues\u001b[0m\u001b[0;34m]\u001b[0m\u001b[0;34m.\u001b[0m\u001b[0m_values\u001b[0m\u001b[0;34m,\u001b[0m \u001b[0mindex\u001b[0m\u001b[0;34m=\u001b[0m\u001b[0mmultiindex\u001b[0m\u001b[0;34m)\u001b[0m\u001b[0;34m\u001b[0m\u001b[0;34m\u001b[0m\u001b[0m\n\u001b[0;32m--> 520\u001b[0;31m     \u001b[0;32mreturn\u001b[0m \u001b[0mindexed\u001b[0m\u001b[0;34m.\u001b[0m\u001b[0munstack\u001b[0m\u001b[0;34m(\u001b[0m\u001b[0mcolumns_listlike\u001b[0m\u001b[0;34m)\u001b[0m\u001b[0;34m\u001b[0m\u001b[0;34m\u001b[0m\u001b[0m\n\u001b[0m\u001b[1;32m    521\u001b[0m \u001b[0;34m\u001b[0m\u001b[0m\n\u001b[1;32m    522\u001b[0m \u001b[0;34m\u001b[0m\u001b[0m\n",
      "\u001b[0;32m~/repos/etl/.venv/lib/python3.9/site-packages/pandas/core/series.py\u001b[0m in \u001b[0;36munstack\u001b[0;34m(self, level, fill_value)\u001b[0m\n\u001b[1;32m   4155\u001b[0m         \u001b[0;32mfrom\u001b[0m \u001b[0mpandas\u001b[0m\u001b[0;34m.\u001b[0m\u001b[0mcore\u001b[0m\u001b[0;34m.\u001b[0m\u001b[0mreshape\u001b[0m\u001b[0;34m.\u001b[0m\u001b[0mreshape\u001b[0m \u001b[0;32mimport\u001b[0m \u001b[0munstack\u001b[0m\u001b[0;34m\u001b[0m\u001b[0;34m\u001b[0m\u001b[0m\n\u001b[1;32m   4156\u001b[0m \u001b[0;34m\u001b[0m\u001b[0m\n\u001b[0;32m-> 4157\u001b[0;31m         \u001b[0;32mreturn\u001b[0m \u001b[0munstack\u001b[0m\u001b[0;34m(\u001b[0m\u001b[0mself\u001b[0m\u001b[0;34m,\u001b[0m \u001b[0mlevel\u001b[0m\u001b[0;34m,\u001b[0m \u001b[0mfill_value\u001b[0m\u001b[0;34m)\u001b[0m\u001b[0;34m\u001b[0m\u001b[0;34m\u001b[0m\u001b[0m\n\u001b[0m\u001b[1;32m   4158\u001b[0m \u001b[0;34m\u001b[0m\u001b[0m\n\u001b[1;32m   4159\u001b[0m     \u001b[0;31m# ----------------------------------------------------------------------\u001b[0m\u001b[0;34m\u001b[0m\u001b[0;34m\u001b[0m\u001b[0;34m\u001b[0m\u001b[0m\n",
      "\u001b[0;32m~/repos/etl/.venv/lib/python3.9/site-packages/pandas/core/reshape/reshape.py\u001b[0m in \u001b[0;36munstack\u001b[0;34m(obj, level, fill_value)\u001b[0m\n\u001b[1;32m    489\u001b[0m         \u001b[0;32mif\u001b[0m \u001b[0mis_1d_only_ea_dtype\u001b[0m\u001b[0;34m(\u001b[0m\u001b[0mobj\u001b[0m\u001b[0;34m.\u001b[0m\u001b[0mdtype\u001b[0m\u001b[0;34m)\u001b[0m\u001b[0;34m:\u001b[0m\u001b[0;34m\u001b[0m\u001b[0;34m\u001b[0m\u001b[0m\n\u001b[1;32m    490\u001b[0m             \u001b[0;32mreturn\u001b[0m \u001b[0m_unstack_extension_series\u001b[0m\u001b[0;34m(\u001b[0m\u001b[0mobj\u001b[0m\u001b[0;34m,\u001b[0m \u001b[0mlevel\u001b[0m\u001b[0;34m,\u001b[0m \u001b[0mfill_value\u001b[0m\u001b[0;34m)\u001b[0m\u001b[0;34m\u001b[0m\u001b[0;34m\u001b[0m\u001b[0m\n\u001b[0;32m--> 491\u001b[0;31m         unstacker = _Unstacker(\n\u001b[0m\u001b[1;32m    492\u001b[0m             \u001b[0mobj\u001b[0m\u001b[0;34m.\u001b[0m\u001b[0mindex\u001b[0m\u001b[0;34m,\u001b[0m \u001b[0mlevel\u001b[0m\u001b[0;34m=\u001b[0m\u001b[0mlevel\u001b[0m\u001b[0;34m,\u001b[0m \u001b[0mconstructor\u001b[0m\u001b[0;34m=\u001b[0m\u001b[0mobj\u001b[0m\u001b[0;34m.\u001b[0m\u001b[0m_constructor_expanddim\u001b[0m\u001b[0;34m\u001b[0m\u001b[0;34m\u001b[0m\u001b[0m\n\u001b[1;32m    493\u001b[0m         )\n",
      "\u001b[0;32m~/repos/etl/.venv/lib/python3.9/site-packages/pandas/core/reshape/reshape.py\u001b[0m in \u001b[0;36m__init__\u001b[0;34m(self, index, level, constructor)\u001b[0m\n\u001b[1;32m    138\u001b[0m             )\n\u001b[1;32m    139\u001b[0m \u001b[0;34m\u001b[0m\u001b[0m\n\u001b[0;32m--> 140\u001b[0;31m         \u001b[0mself\u001b[0m\u001b[0;34m.\u001b[0m\u001b[0m_make_selectors\u001b[0m\u001b[0;34m(\u001b[0m\u001b[0;34m)\u001b[0m\u001b[0;34m\u001b[0m\u001b[0;34m\u001b[0m\u001b[0m\n\u001b[0m\u001b[1;32m    141\u001b[0m \u001b[0;34m\u001b[0m\u001b[0m\n\u001b[1;32m    142\u001b[0m     \u001b[0;34m@\u001b[0m\u001b[0mcache_readonly\u001b[0m\u001b[0;34m\u001b[0m\u001b[0;34m\u001b[0m\u001b[0m\n",
      "\u001b[0;32m~/repos/etl/.venv/lib/python3.9/site-packages/pandas/core/reshape/reshape.py\u001b[0m in \u001b[0;36m_make_selectors\u001b[0;34m(self)\u001b[0m\n\u001b[1;32m    190\u001b[0m \u001b[0;34m\u001b[0m\u001b[0m\n\u001b[1;32m    191\u001b[0m         \u001b[0;32mif\u001b[0m \u001b[0mmask\u001b[0m\u001b[0;34m.\u001b[0m\u001b[0msum\u001b[0m\u001b[0;34m(\u001b[0m\u001b[0;34m)\u001b[0m \u001b[0;34m<\u001b[0m \u001b[0mlen\u001b[0m\u001b[0;34m(\u001b[0m\u001b[0mself\u001b[0m\u001b[0;34m.\u001b[0m\u001b[0mindex\u001b[0m\u001b[0;34m)\u001b[0m\u001b[0;34m:\u001b[0m\u001b[0;34m\u001b[0m\u001b[0;34m\u001b[0m\u001b[0m\n\u001b[0;32m--> 192\u001b[0;31m             \u001b[0;32mraise\u001b[0m \u001b[0mValueError\u001b[0m\u001b[0;34m(\u001b[0m\u001b[0;34m\"Index contains duplicate entries, cannot reshape\"\u001b[0m\u001b[0;34m)\u001b[0m\u001b[0;34m\u001b[0m\u001b[0;34m\u001b[0m\u001b[0m\n\u001b[0m\u001b[1;32m    193\u001b[0m \u001b[0;34m\u001b[0m\u001b[0m\n\u001b[1;32m    194\u001b[0m         \u001b[0mself\u001b[0m\u001b[0;34m.\u001b[0m\u001b[0mgroup_index\u001b[0m \u001b[0;34m=\u001b[0m \u001b[0mcomp_index\u001b[0m\u001b[0;34m\u001b[0m\u001b[0;34m\u001b[0m\u001b[0m\n",
      "\u001b[0;31mValueError\u001b[0m: Index contains duplicate entries, cannot reshape"
     ]
    }
   ],
   "source": [
    "df_wide = df.pivot(\n",
    "    index=[\"location\", \"year\", \"sex\", \"age\", \"variant\"],\n",
    "    columns=\"metric\",\n",
    "    values=\"value\",\n",
    ")"
   ]
  },
  {
   "cell_type": "code",
   "execution_count": null,
   "id": "56e13795-57eb-441c-8f5b-9895c403aa2b",
   "metadata": {},
   "outputs": [],
   "source": []
  }
 ],
 "metadata": {
  "kernelspec": {
   "display_name": "Python 3",
   "language": "python",
   "name": "python3"
  },
  "language_info": {
   "codemirror_mode": {
    "name": "ipython",
    "version": 3
   },
   "file_extension": ".py",
   "mimetype": "text/x-python",
   "name": "python",
   "nbconvert_exporter": "python",
   "pygments_lexer": "ipython3",
   "version": "3.9.5"
  }
 },
 "nbformat": 4,
 "nbformat_minor": 5
}
