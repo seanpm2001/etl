{
 "cells": [
  {
   "cell_type": "code",
   "execution_count": 37,
   "id": "f2c29b47-833d-41da-8c8b-d1c63f3555de",
   "metadata": {},
   "outputs": [],
   "source": [
    "from typing import List\n",
    "\n",
    "\n",
    "import pandas as pd\n",
    "from etl.paths import BASE_DIR as base_path\n",
    "\n",
    "from owid import catalog\n",
    "from owid.catalog import Table\n",
    "from owid.catalog.meta import TableMeta\n",
    "\n",
    "YEAR_SPLIT = 2022"
   ]
  },
  {
   "cell_type": "code",
   "execution_count": 38,
   "id": "1dfe489a-94a3-474d-8dbb-3e40812433ba",
   "metadata": {},
   "outputs": [],
   "source": [
    "from un_wpp import *"
   ]
  },
  {
   "cell_type": "code",
   "execution_count": 39,
   "id": "e04dbe1f-1bee-4fa4-a22a-dfa856c7264a",
   "metadata": {},
   "outputs": [],
   "source": [
    "meadow_path = base_path / \"data/meadow/un/2022/un_wpp\"\n",
    "ds = catalog.Dataset(meadow_path)"
   ]
  },
  {
   "cell_type": "code",
   "execution_count": 40,
   "id": "3028c944-728d-4398-b992-2f471e875c98",
   "metadata": {},
   "outputs": [],
   "source": [
    "country_std = load_country_mapping()"
   ]
  },
  {
   "cell_type": "code",
   "execution_count": 41,
   "id": "22795c33-fc67-4a79-a55e-e3a1c5ad9c25",
   "metadata": {},
   "outputs": [],
   "source": [
    "from population import process as process_population\n",
    "from fertility import process as process_fertility\n",
    "from demographics import process as process_demographics\n",
    "from dep_ratio import process as process_depratio\n",
    "from deaths import process as process_deaths"
   ]
  },
  {
   "cell_type": "markdown",
   "id": "1a44d60a-39bc-424f-b866-673de35b78dd",
   "metadata": {},
   "source": [
    "## deaths"
   ]
  },
  {
   "cell_type": "code",
   "execution_count": 42,
   "id": "a4fad292-a72b-49c9-b330-fe68079d89b5",
   "metadata": {},
   "outputs": [],
   "source": [
    "from deaths import *\n",
    "from dtypes import optimize_dtypes"
   ]
  },
  {
   "cell_type": "code",
   "execution_count": 43,
   "id": "071f77b5-d605-4a16-a5c8-d1c45da295a9",
   "metadata": {},
   "outputs": [],
   "source": [
    "df = ds[\"deaths\"]"
   ]
  },
  {
   "cell_type": "code",
   "execution_count": 44,
   "id": "e2b8309a-34e6-4427-a273-3866eac31cb2",
   "metadata": {
    "tags": []
   },
   "outputs": [],
   "source": [
    "df = df.reset_index()\n",
    "# Melt\n",
    "df = df.melt(COLUMNS_ID.keys(), COLUMNS_METRICS.keys(), \"metric\", \"value\")\n",
    "# Add columns, rename columns\n",
    "df = df.rename(columns=COLUMNS_ID)\n",
    "df = df.assign(\n",
    "    sex=df.sex.map(MAPPING_SEX),\n",
    "    age=df.metric.map({k: v[\"age\"] for k, v in COLUMNS_METRICS.items()}),\n",
    "    variant=df.variant.apply(lambda x: x.lower()),\n",
    "    location=df.location.map(country_std),\n",
    "    metric=\"deaths\",\n",
    "    value=(df.value * 1000).astype(int),\n",
    ")"
   ]
  },
  {
   "cell_type": "code",
   "execution_count": 45,
   "id": "abff4440-94ae-4130-a092-4c69869f8262",
   "metadata": {},
   "outputs": [
    {
     "data": {
      "text/plain": [
       "location    187254\n",
       "year             0\n",
       "variant          0\n",
       "sex              0\n",
       "metric           0\n",
       "value            0\n",
       "age              0\n",
       "dtype: int64"
      ]
     },
     "execution_count": 45,
     "metadata": {},
     "output_type": "execute_result"
    }
   ],
   "source": [
    "df.isna().sum()"
   ]
  },
  {
   "cell_type": "code",
   "execution_count": 29,
   "id": "7ed824f3-b31f-465f-a0c1-84b5dc3f8d67",
   "metadata": {},
   "outputs": [],
   "source": [
    "df = optimize_dtypes(df, simple=True)"
   ]
  },
  {
   "cell_type": "code",
   "execution_count": 31,
   "id": "322e6b38-2a7e-42fa-bfb0-57f45ad18026",
   "metadata": {},
   "outputs": [
    {
     "data": {
      "text/plain": [
       "Index         0.000128\n",
       "location     46.650980\n",
       "year         46.626246\n",
       "variant      23.313545\n",
       "sex          23.313415\n",
       "metric       23.313294\n",
       "value       186.504984\n",
       "age          23.323242\n",
       "dtype: float64"
      ]
     },
     "execution_count": 31,
     "metadata": {},
     "output_type": "execute_result"
    }
   ],
   "source": [
    "df.memory_usage(deep=True) / 1e6"
   ]
  },
  {
   "cell_type": "code",
   "execution_count": 25,
   "id": "06c26d69-4bce-43e1-8206-cb4873826a60",
   "metadata": {},
   "outputs": [
    {
     "data": {
      "text/plain": [
       "location      object\n",
       "year          uint64\n",
       "variant     category\n",
       "sex         category\n",
       "metric        object\n",
       "value          int64\n",
       "age           object\n",
       "dtype: object"
      ]
     },
     "execution_count": 25,
     "metadata": {},
     "output_type": "execute_result"
    }
   ],
   "source": [
    "df.dtypes"
   ]
  },
  {
   "cell_type": "code",
   "execution_count": 26,
   "id": "8262df14-34b2-4d63-bbfa-64e8c193230f",
   "metadata": {},
   "outputs": [],
   "source": [
    "df_0 = df[df.age == \"0\"].copy()"
   ]
  },
  {
   "cell_type": "code",
   "execution_count": 27,
   "id": "70808f63-301e-481d-94a0-9217a9954ef9",
   "metadata": {},
   "outputs": [
    {
     "data": {
      "text/plain": [
       "Index        1.846584\n",
       "location    15.297354\n",
       "year         1.846584\n",
       "variant      0.231245\n",
       "sex          0.231115\n",
       "metric      14.541849\n",
       "value        1.846584\n",
       "age         13.387734\n",
       "dtype: float64"
      ]
     },
     "execution_count": 27,
     "metadata": {},
     "output_type": "execute_result"
    }
   ],
   "source": [
    "df_0.memory_usage(deep=True) / 1e6"
   ]
  },
  {
   "cell_type": "code",
   "execution_count": null,
   "id": "cdd305f0-897d-42a7-9029-a93eee0736b9",
   "metadata": {},
   "outputs": [],
   "source": []
  },
  {
   "cell_type": "code",
   "execution_count": null,
   "id": "aced35c2-b842-4e63-bcf3-2a8df5168d80",
   "metadata": {},
   "outputs": [],
   "source": []
  },
  {
   "cell_type": "code",
   "execution_count": null,
   "id": "a58cba52-75f8-4295-a04d-1351414b746c",
   "metadata": {},
   "outputs": [],
   "source": []
  },
  {
   "cell_type": "code",
   "execution_count": 32,
   "id": "2342da0d-140b-4818-9c43-434a51202baf",
   "metadata": {},
   "outputs": [],
   "source": [
    "df = add_age_groups(df)"
   ]
  },
  {
   "cell_type": "code",
   "execution_count": 36,
   "id": "e25f3fe4-dbb3-46b5-8f9d-56b3524d7c26",
   "metadata": {},
   "outputs": [
    {
     "data": {
      "text/html": [
       "<div>\n",
       "<style scoped>\n",
       "    .dataframe tbody tr th:only-of-type {\n",
       "        vertical-align: middle;\n",
       "    }\n",
       "\n",
       "    .dataframe tbody tr th {\n",
       "        vertical-align: top;\n",
       "    }\n",
       "\n",
       "    .dataframe thead th {\n",
       "        text-align: right;\n",
       "    }\n",
       "</style>\n",
       "<table border=\"1\" class=\"dataframe\">\n",
       "  <thead>\n",
       "    <tr style=\"text-align: right;\">\n",
       "      <th></th>\n",
       "      <th>location</th>\n",
       "      <th>year</th>\n",
       "      <th>metric</th>\n",
       "      <th>sex</th>\n",
       "      <th>age</th>\n",
       "      <th>variant</th>\n",
       "      <th>value</th>\n",
       "    </tr>\n",
       "  </thead>\n",
       "  <tbody>\n",
       "    <tr>\n",
       "      <th>2747772</th>\n",
       "      <td>NaN</td>\n",
       "      <td>1950</td>\n",
       "      <td>deaths</td>\n",
       "      <td>all</td>\n",
       "      <td>0</td>\n",
       "      <td>estimates</td>\n",
       "      <td>10915307</td>\n",
       "    </tr>\n",
       "    <tr>\n",
       "      <th>2747773</th>\n",
       "      <td>NaN</td>\n",
       "      <td>1951</td>\n",
       "      <td>deaths</td>\n",
       "      <td>all</td>\n",
       "      <td>0</td>\n",
       "      <td>estimates</td>\n",
       "      <td>10993599</td>\n",
       "    </tr>\n",
       "    <tr>\n",
       "      <th>2747774</th>\n",
       "      <td>NaN</td>\n",
       "      <td>1952</td>\n",
       "      <td>deaths</td>\n",
       "      <td>all</td>\n",
       "      <td>0</td>\n",
       "      <td>estimates</td>\n",
       "      <td>11209735</td>\n",
       "    </tr>\n",
       "    <tr>\n",
       "      <th>2747775</th>\n",
       "      <td>NaN</td>\n",
       "      <td>1953</td>\n",
       "      <td>deaths</td>\n",
       "      <td>all</td>\n",
       "      <td>0</td>\n",
       "      <td>estimates</td>\n",
       "      <td>11158563</td>\n",
       "    </tr>\n",
       "    <tr>\n",
       "      <th>2747776</th>\n",
       "      <td>NaN</td>\n",
       "      <td>1954</td>\n",
       "      <td>deaths</td>\n",
       "      <td>all</td>\n",
       "      <td>0</td>\n",
       "      <td>estimates</td>\n",
       "      <td>11206141</td>\n",
       "    </tr>\n",
       "    <tr>\n",
       "      <th>...</th>\n",
       "      <td>...</td>\n",
       "      <td>...</td>\n",
       "      <td>...</td>\n",
       "      <td>...</td>\n",
       "      <td>...</td>\n",
       "      <td>...</td>\n",
       "      <td>...</td>\n",
       "    </tr>\n",
       "    <tr>\n",
       "      <th>2959328</th>\n",
       "      <td>NaN</td>\n",
       "      <td>2096</td>\n",
       "      <td>deaths</td>\n",
       "      <td>female</td>\n",
       "      <td>0</td>\n",
       "      <td>low</td>\n",
       "      <td>176</td>\n",
       "    </tr>\n",
       "    <tr>\n",
       "      <th>2959329</th>\n",
       "      <td>NaN</td>\n",
       "      <td>2097</td>\n",
       "      <td>deaths</td>\n",
       "      <td>female</td>\n",
       "      <td>0</td>\n",
       "      <td>low</td>\n",
       "      <td>171</td>\n",
       "    </tr>\n",
       "    <tr>\n",
       "      <th>2959330</th>\n",
       "      <td>NaN</td>\n",
       "      <td>2098</td>\n",
       "      <td>deaths</td>\n",
       "      <td>female</td>\n",
       "      <td>0</td>\n",
       "      <td>low</td>\n",
       "      <td>166</td>\n",
       "    </tr>\n",
       "    <tr>\n",
       "      <th>2959331</th>\n",
       "      <td>NaN</td>\n",
       "      <td>2099</td>\n",
       "      <td>deaths</td>\n",
       "      <td>female</td>\n",
       "      <td>0</td>\n",
       "      <td>low</td>\n",
       "      <td>161</td>\n",
       "    </tr>\n",
       "    <tr>\n",
       "      <th>2959332</th>\n",
       "      <td>NaN</td>\n",
       "      <td>2100</td>\n",
       "      <td>deaths</td>\n",
       "      <td>female</td>\n",
       "      <td>0</td>\n",
       "      <td>low</td>\n",
       "      <td>156</td>\n",
       "    </tr>\n",
       "  </tbody>\n",
       "</table>\n",
       "<p>1854 rows × 7 columns</p>\n",
       "</div>"
      ],
      "text/plain": [
       "        location  year  metric     sex age    variant     value\n",
       "2747772      NaN  1950  deaths     all   0  estimates  10915307\n",
       "2747773      NaN  1951  deaths     all   0  estimates  10993599\n",
       "2747774      NaN  1952  deaths     all   0  estimates  11209735\n",
       "2747775      NaN  1953  deaths     all   0  estimates  11158563\n",
       "2747776      NaN  1954  deaths     all   0  estimates  11206141\n",
       "...          ...   ...     ...     ...  ..        ...       ...\n",
       "2959328      NaN  2096  deaths  female   0        low       176\n",
       "2959329      NaN  2097  deaths  female   0        low       171\n",
       "2959330      NaN  2098  deaths  female   0        low       166\n",
       "2959331      NaN  2099  deaths  female   0        low       161\n",
       "2959332      NaN  2100  deaths  female   0        low       156\n",
       "\n",
       "[1854 rows x 7 columns]"
      ]
     },
     "execution_count": 36,
     "metadata": {},
     "output_type": "execute_result"
    }
   ],
   "source": [
    "df[df.location.isna()]"
   ]
  },
  {
   "cell_type": "code",
   "execution_count": 14,
   "id": "4ae0ca6d-e7d2-4b9e-abc0-87dbfb16af97",
   "metadata": {},
   "outputs": [
    {
     "data": {
      "text/plain": [
       "location      object\n",
       "year          uint64\n",
       "metric        object\n",
       "sex         category\n",
       "age           object\n",
       "variant     category\n",
       "value          int64\n",
       "dtype: object"
      ]
     },
     "execution_count": 14,
     "metadata": {},
     "output_type": "execute_result"
    }
   ],
   "source": [
    "df.dtypes"
   ]
  },
  {
   "cell_type": "code",
   "execution_count": 8,
   "id": "40f658a8-e9e2-4c8d-9622-53b719cad1e7",
   "metadata": {},
   "outputs": [
    {
     "data": {
      "text/plain": [
       "location    0\n",
       "year        0\n",
       "metric      0\n",
       "sex         0\n",
       "age         0\n",
       "variant     0\n",
       "value       0\n",
       "dtype: int64"
      ]
     },
     "execution_count": 8,
     "metadata": {},
     "output_type": "execute_result"
    }
   ],
   "source": [
    "df_deaths.isna().sum()"
   ]
  },
  {
   "cell_type": "code",
   "execution_count": 9,
   "id": "e081f6c2-5f5c-477a-8b2b-a97f0fd795ee",
   "metadata": {},
   "outputs": [
    {
     "data": {
      "text/plain": [
       "['estimates', 'medium', 'high', 'low']\n",
       "Categories (11, object): ['estimates', 'medium', 'high', 'low', ..., 'constant mortality', 'no change', 'momentum', 'instant replacement zero migration']"
      ]
     },
     "execution_count": 9,
     "metadata": {},
     "output_type": "execute_result"
    }
   ],
   "source": [
    "df_deaths.variant.unique()"
   ]
  },
  {
   "cell_type": "markdown",
   "id": "285d5bed-c639-4fd7-8078-6d66f0a6dcae",
   "metadata": {},
   "source": [
    "## demographics"
   ]
  },
  {
   "cell_type": "code",
   "execution_count": 10,
   "id": "1ff415dc-72e6-4807-81b2-fd0207920c41",
   "metadata": {},
   "outputs": [],
   "source": [
    "df_demographics = process_demographics(ds[\"demographics\"], country_std)"
   ]
  },
  {
   "cell_type": "code",
   "execution_count": 11,
   "id": "6f664520-c455-4b24-8f01-931c7227df50",
   "metadata": {},
   "outputs": [
    {
     "data": {
      "text/plain": [
       "127.198849"
      ]
     },
     "execution_count": 11,
     "metadata": {},
     "output_type": "execute_result"
    }
   ],
   "source": [
    "df_demographics.memory_usage(deep=True).sum() / 1e6"
   ]
  },
  {
   "cell_type": "code",
   "execution_count": 12,
   "id": "5e8e524f-e6d9-4017-b5a7-5b98e1a0deef",
   "metadata": {},
   "outputs": [
    {
     "data": {
      "text/plain": [
       "location        0\n",
       "year            0\n",
       "metric          0\n",
       "sex             0\n",
       "age             0\n",
       "variant         0\n",
       "value       69440\n",
       "dtype: int64"
      ]
     },
     "execution_count": 12,
     "metadata": {},
     "output_type": "execute_result"
    }
   ],
   "source": [
    "df_demographics.isna().sum()"
   ]
  },
  {
   "cell_type": "markdown",
   "id": "294db2ef-63b1-48c3-bac6-0cb4e7069869",
   "metadata": {
    "tags": []
   },
   "source": [
    "## fertility"
   ]
  },
  {
   "cell_type": "code",
   "execution_count": 13,
   "id": "20d9b277-69e6-4a39-b7d3-90152fccd395",
   "metadata": {},
   "outputs": [],
   "source": [
    "df_fertility = process_fertility(ds[\"fertility\"], country_std)"
   ]
  },
  {
   "cell_type": "code",
   "execution_count": 14,
   "id": "5e5326c1-9293-4f14-9e0c-7dc37cd72077",
   "metadata": {},
   "outputs": [
    {
     "data": {
      "text/plain": [
       "73.145899"
      ]
     },
     "execution_count": 14,
     "metadata": {},
     "output_type": "execute_result"
    }
   ],
   "source": [
    "df_fertility.memory_usage(deep=True).sum() / 1e6"
   ]
  },
  {
   "cell_type": "code",
   "execution_count": 15,
   "id": "e2ecf4c0-2a13-403f-9bee-28c735a9ad17",
   "metadata": {},
   "outputs": [
    {
     "data": {
      "text/plain": [
       "location    0\n",
       "year        0\n",
       "metric      0\n",
       "sex         0\n",
       "age         0\n",
       "variant     0\n",
       "value       0\n",
       "dtype: int64"
      ]
     },
     "execution_count": 15,
     "metadata": {},
     "output_type": "execute_result"
    }
   ],
   "source": [
    "df_fertility.isna().sum()"
   ]
  },
  {
   "cell_type": "markdown",
   "id": "2d5ad954-d3ce-4892-9c23-51a5b3ceef4d",
   "metadata": {},
   "source": [
    "## dep ratio"
   ]
  },
  {
   "cell_type": "code",
   "execution_count": 16,
   "id": "71c8359d-bcca-4b1b-b5d8-823bf5d9fb45",
   "metadata": {},
   "outputs": [],
   "source": [
    "df_depratio = process_depratio(ds[\"dependency_ratio\"], country_std)"
   ]
  },
  {
   "cell_type": "code",
   "execution_count": 17,
   "id": "acef8db9-8235-4230-bc81-78bc64614a41",
   "metadata": {},
   "outputs": [
    {
     "data": {
      "text/plain": [
       "17.212996"
      ]
     },
     "execution_count": 17,
     "metadata": {},
     "output_type": "execute_result"
    }
   ],
   "source": [
    "df_depratio.memory_usage(deep=True).sum() / 1e6"
   ]
  },
  {
   "cell_type": "code",
   "execution_count": 18,
   "id": "95a07518-78f0-4d6d-b03e-67c36152b3be",
   "metadata": {},
   "outputs": [
    {
     "data": {
      "text/plain": [
       "location    0\n",
       "year        0\n",
       "metric      0\n",
       "sex         0\n",
       "age         0\n",
       "variant     0\n",
       "value       0\n",
       "dtype: int64"
      ]
     },
     "execution_count": 18,
     "metadata": {},
     "output_type": "execute_result"
    }
   ],
   "source": [
    "df_depratio.isna().sum()"
   ]
  },
  {
   "cell_type": "markdown",
   "id": "554bd9d4-3157-4cc3-8ae7-035e8de39d06",
   "metadata": {},
   "source": [
    "## population"
   ]
  },
  {
   "cell_type": "code",
   "execution_count": 19,
   "id": "4e8132e2-f20f-4143-a98d-d0fb040ce180",
   "metadata": {},
   "outputs": [],
   "source": [
    "df_population = process_population(ds[\"population\"], country_std)"
   ]
  },
  {
   "cell_type": "code",
   "execution_count": 20,
   "id": "1061ff56-38e2-4e5a-ad54-0d28702132d3",
   "metadata": {},
   "outputs": [
    {
     "data": {
      "text/plain": [
       "120.626343"
      ]
     },
     "execution_count": 20,
     "metadata": {},
     "output_type": "execute_result"
    }
   ],
   "source": [
    "df_population.memory_usage(deep=True).sum() / 1e6"
   ]
  },
  {
   "cell_type": "code",
   "execution_count": 21,
   "id": "7c3b4d19-d025-4f6c-883f-83beeaf48b0b",
   "metadata": {},
   "outputs": [
    {
     "data": {
      "text/plain": [
       "location       0\n",
       "year           0\n",
       "metric         0\n",
       "sex            0\n",
       "age            0\n",
       "variant        0\n",
       "value       7202\n",
       "dtype: int64"
      ]
     },
     "execution_count": 21,
     "metadata": {},
     "output_type": "execute_result"
    }
   ],
   "source": [
    "df_population.isna().sum()"
   ]
  },
  {
   "cell_type": "markdown",
   "id": "7e112a6b-8cb8-439a-b532-a2a09cda15c5",
   "metadata": {},
   "source": [
    "## merge"
   ]
  },
  {
   "cell_type": "code",
   "execution_count": 22,
   "id": "57b5e77f-f32a-4c3a-aeec-f01dae071041",
   "metadata": {
    "tags": []
   },
   "outputs": [
    {
     "name": "stdout",
     "output_type": "stream",
     "text": [
      "41\n",
      "42\n",
      "46\n"
     ]
    }
   ],
   "source": [
    "# merge\n",
    "df = merge_dfs([df_population, df_fertility, df_demographics, df_depratio, df_deaths])"
   ]
  },
  {
   "cell_type": "code",
   "execution_count": 39,
   "id": "81b5a752-6a2f-4fc6-bc45-86551774177b",
   "metadata": {},
   "outputs": [],
   "source": [
    "table_long = df_to_table(\n",
    "    df,\n",
    "    short_name=\"long\",\n",
    "    description=(\n",
    "        \"Main UN WPP dataset by OWID. It comes in 'long' format, i.e. column\"\n",
    "        \" 'metric' gives the metric name and column 'value' its corresponding\"\n",
    "        \" value.\"\n",
    "    ),\n",
    ")"
   ]
  },
  {
   "cell_type": "code",
   "execution_count": 41,
   "id": "3e171f0c-e1b6-4db8-b0b9-7ce9d1063587",
   "metadata": {},
   "outputs": [],
   "source": [
    "metric_categories = {\n",
    "    \"migration\": [\n",
    "        \"net_migration\",\n",
    "        \"net_migration_rate\",\n",
    "    ],\n",
    "    \"fertility\": [\n",
    "        \"fertility_rate\",\n",
    "        \"births\",\n",
    "        \"birth_rate\",\n",
    "    ],\n",
    "    \"population\": [\n",
    "        \"population\",\n",
    "        \"population_density\",\n",
    "        \"population_change\",\n",
    "        \"population_broad\",\n",
    "    ],\n",
    "    \"mortality\": [\n",
    "        \"deaths\",\n",
    "        \"death_rate\",\n",
    "        \"life_expectancy\",\n",
    "        \"child_mortality_rate\",\n",
    "        \"infant_mortality_rate\",\n",
    "    ],\n",
    "    \"demographic\": [\n",
    "        \"median_age\",\n",
    "        \"growth_natural_rate\",\n",
    "        \"growth_rate\",\n",
    "        \"sex_ratio\",\n",
    "    ],\n",
    "}"
   ]
  },
  {
   "cell_type": "code",
   "execution_count": 42,
   "id": "bd72367e-f02b-4354-8974-02542ac0518f",
   "metadata": {},
   "outputs": [
    {
     "name": "stdout",
     "output_type": "stream",
     "text": [
      "migration\n",
      "fertility\n",
      "population\n",
      "mortality\n",
      "demographic\n"
     ]
    }
   ],
   "source": [
    "tables = []\n",
    "for category, metrics in metric_categories.items():\n",
    "    print(category)\n",
    "    df_c = df.query(f\"metric in {metrics}\")\n",
    "    tables.append(\n",
    "        df_to_table(\n",
    "            df_c,\n",
    "            short_name=category,\n",
    "            description=(\n",
    "                \"UN WPP dataset by OWID. Contains only metrics corresponding to\"\n",
    "                f\" sub-group {category}\"\n",
    "            ),\n",
    "        )\n",
    "    )"
   ]
  },
  {
   "cell_type": "code",
   "execution_count": 43,
   "id": "063dbb21-762b-44b2-9b37-51ef134c9e87",
   "metadata": {},
   "outputs": [],
   "source": [
    "tables += [table_long]"
   ]
  },
  {
   "cell_type": "code",
   "execution_count": 45,
   "id": "1ad88f90-46eb-4730-8a6f-ba386f043beb",
   "metadata": {},
   "outputs": [],
   "source": [
    "dataset_to_garden(tables, ds.metadata, \"./test\")"
   ]
  },
  {
   "cell_type": "code",
   "execution_count": 31,
   "id": "b713321d-f8e7-437a-a41d-dc00db4d77b5",
   "metadata": {},
   "outputs": [],
   "source": [
    "c = [\n",
    "    \"net_migration\",\n",
    "    \"net_migration_rate\",\n",
    "]"
   ]
  },
  {
   "cell_type": "code",
   "execution_count": 37,
   "id": "f9c23ebd-0e32-4043-b27c-12aea803d232",
   "metadata": {},
   "outputs": [
    {
     "data": {
      "text/plain": [
       "\"metric in ['net_migration', 'net_migration_rate']\""
      ]
     },
     "execution_count": 37,
     "metadata": {},
     "output_type": "execute_result"
    }
   ],
   "source": [
    "f\"metric in {c}\""
   ]
  },
  {
   "cell_type": "code",
   "execution_count": 38,
   "id": "dd75ee54-350e-4ee2-85cb-f4bb41506383",
   "metadata": {},
   "outputs": [
    {
     "data": {
      "text/html": [
       "<div>\n",
       "<style scoped>\n",
       "    .dataframe tbody tr th:only-of-type {\n",
       "        vertical-align: middle;\n",
       "    }\n",
       "\n",
       "    .dataframe tbody tr th {\n",
       "        vertical-align: top;\n",
       "    }\n",
       "\n",
       "    .dataframe thead th {\n",
       "        text-align: right;\n",
       "    }\n",
       "</style>\n",
       "<table border=\"1\" class=\"dataframe\">\n",
       "  <thead>\n",
       "    <tr style=\"text-align: right;\">\n",
       "      <th></th>\n",
       "      <th></th>\n",
       "      <th></th>\n",
       "      <th></th>\n",
       "      <th></th>\n",
       "      <th></th>\n",
       "      <th>value</th>\n",
       "    </tr>\n",
       "    <tr>\n",
       "      <th>location</th>\n",
       "      <th>year</th>\n",
       "      <th>metric</th>\n",
       "      <th>sex</th>\n",
       "      <th>age</th>\n",
       "      <th>variant</th>\n",
       "      <th></th>\n",
       "    </tr>\n",
       "  </thead>\n",
       "  <tbody>\n",
       "    <tr>\n",
       "      <th rowspan=\"5\" valign=\"top\">World</th>\n",
       "      <th>1950</th>\n",
       "      <th>net_migration</th>\n",
       "      <th>all</th>\n",
       "      <th>all</th>\n",
       "      <th>estimates</th>\n",
       "      <td>0.0</td>\n",
       "    </tr>\n",
       "    <tr>\n",
       "      <th>1951</th>\n",
       "      <th>net_migration</th>\n",
       "      <th>all</th>\n",
       "      <th>all</th>\n",
       "      <th>estimates</th>\n",
       "      <td>0.0</td>\n",
       "    </tr>\n",
       "    <tr>\n",
       "      <th>1952</th>\n",
       "      <th>net_migration</th>\n",
       "      <th>all</th>\n",
       "      <th>all</th>\n",
       "      <th>estimates</th>\n",
       "      <td>0.0</td>\n",
       "    </tr>\n",
       "    <tr>\n",
       "      <th>1953</th>\n",
       "      <th>net_migration</th>\n",
       "      <th>all</th>\n",
       "      <th>all</th>\n",
       "      <th>estimates</th>\n",
       "      <td>0.0</td>\n",
       "    </tr>\n",
       "    <tr>\n",
       "      <th>1954</th>\n",
       "      <th>net_migration</th>\n",
       "      <th>all</th>\n",
       "      <th>all</th>\n",
       "      <th>estimates</th>\n",
       "      <td>0.0</td>\n",
       "    </tr>\n",
       "    <tr>\n",
       "      <th>...</th>\n",
       "      <th>...</th>\n",
       "      <th>...</th>\n",
       "      <th>...</th>\n",
       "      <th>...</th>\n",
       "      <th>...</th>\n",
       "      <td>...</td>\n",
       "    </tr>\n",
       "    <tr>\n",
       "      <th rowspan=\"5\" valign=\"top\">Wallis and Futuna</th>\n",
       "      <th>2096</th>\n",
       "      <th>net_migration_rate</th>\n",
       "      <th>all</th>\n",
       "      <th>all</th>\n",
       "      <th>instant replacement zero migration</th>\n",
       "      <td>0.0</td>\n",
       "    </tr>\n",
       "    <tr>\n",
       "      <th>2097</th>\n",
       "      <th>net_migration_rate</th>\n",
       "      <th>all</th>\n",
       "      <th>all</th>\n",
       "      <th>instant replacement zero migration</th>\n",
       "      <td>0.0</td>\n",
       "    </tr>\n",
       "    <tr>\n",
       "      <th>2098</th>\n",
       "      <th>net_migration_rate</th>\n",
       "      <th>all</th>\n",
       "      <th>all</th>\n",
       "      <th>instant replacement zero migration</th>\n",
       "      <td>0.0</td>\n",
       "    </tr>\n",
       "    <tr>\n",
       "      <th>2099</th>\n",
       "      <th>net_migration_rate</th>\n",
       "      <th>all</th>\n",
       "      <th>all</th>\n",
       "      <th>instant replacement zero migration</th>\n",
       "      <td>0.0</td>\n",
       "    </tr>\n",
       "    <tr>\n",
       "      <th>2100</th>\n",
       "      <th>net_migration_rate</th>\n",
       "      <th>all</th>\n",
       "      <th>all</th>\n",
       "      <th>instant replacement zero migration</th>\n",
       "      <td>0.0</td>\n",
       "    </tr>\n",
       "  </tbody>\n",
       "</table>\n",
       "<p>427552 rows × 1 columns</p>\n",
       "</div>"
      ],
      "text/plain": [
       "                                                                                      value\n",
       "location          year metric             sex age variant                                  \n",
       "World             1950 net_migration      all all estimates                             0.0\n",
       "                  1951 net_migration      all all estimates                             0.0\n",
       "                  1952 net_migration      all all estimates                             0.0\n",
       "                  1953 net_migration      all all estimates                             0.0\n",
       "                  1954 net_migration      all all estimates                             0.0\n",
       "...                                                                                     ...\n",
       "Wallis and Futuna 2096 net_migration_rate all all instant replacement zero migration    0.0\n",
       "                  2097 net_migration_rate all all instant replacement zero migration    0.0\n",
       "                  2098 net_migration_rate all all instant replacement zero migration    0.0\n",
       "                  2099 net_migration_rate all all instant replacement zero migration    0.0\n",
       "                  2100 net_migration_rate all all instant replacement zero migration    0.0\n",
       "\n",
       "[427552 rows x 1 columns]"
      ]
     },
     "execution_count": 38,
     "metadata": {},
     "output_type": "execute_result"
    }
   ],
   "source": [
    "df.query(f\"metric in {c}\")"
   ]
  },
  {
   "cell_type": "code",
   "execution_count": 23,
   "id": "e9f7a43b-0bd6-4d16-adc3-01e9731c09bf",
   "metadata": {},
   "outputs": [],
   "source": [
    "df_wide = get_wide_df(df)"
   ]
  },
  {
   "cell_type": "code",
   "execution_count": 89,
   "id": "6226363d-d135-45ca-89c4-a5961a610559",
   "metadata": {},
   "outputs": [],
   "source": [
    "dfs = [df_population, df_fertility, df_demographics, df_depratio, df_deaths]"
   ]
  },
  {
   "cell_type": "code",
   "execution_count": 90,
   "id": "bdc7891c-a07b-45d4-bfd4-9a03a9dcd619",
   "metadata": {},
   "outputs": [],
   "source": [
    "df = pd.concat(dfs, ignore_index=True)"
   ]
  },
  {
   "cell_type": "code",
   "execution_count": 91,
   "id": "fa91e1ee-ade5-4ac2-a823-878d120d768e",
   "metadata": {},
   "outputs": [
    {
     "data": {
      "text/plain": [
       "724.665449"
      ]
     },
     "execution_count": 91,
     "metadata": {},
     "output_type": "execute_result"
    }
   ],
   "source": [
    "df.memory_usage(deep=True).sum() / 1e6"
   ]
  },
  {
   "cell_type": "code",
   "execution_count": 29,
   "id": "98033663-13e2-4098-9220-700b75204545",
   "metadata": {},
   "outputs": [
    {
     "data": {
      "text/plain": [
       "['sex_ratio',\n",
       " 'population',\n",
       " 'population_broad',\n",
       " 'population_change',\n",
       " 'fertility_rate',\n",
       " 'births',\n",
       " 'population_density',\n",
       " 'growth_rate',\n",
       " 'growth_natural_rate',\n",
       " 'birth_rate',\n",
       " 'deaths',\n",
       " 'death_rate',\n",
       " 'median_age',\n",
       " 'life_expectancy',\n",
       " 'net_migration',\n",
       " 'net_migration_rate',\n",
       " 'infant_mortality_rate',\n",
       " 'child_mortality_rate',\n",
       " 'dependency_ratio_total',\n",
       " 'dependency_ratio_child',\n",
       " 'dependency_ratio_old']"
      ]
     },
     "execution_count": 29,
     "metadata": {},
     "output_type": "execute_result"
    }
   ],
   "source": [
    "df.reset_index().metric.unique().tolist()"
   ]
  },
  {
   "cell_type": "code",
   "execution_count": 92,
   "id": "0799db0e-e0e9-4820-86ee-68de9db5767b",
   "metadata": {},
   "outputs": [],
   "source": [
    "df.loc[df.year < YEAR_SPLIT, \"variant\"] = \"estimates\""
   ]
  },
  {
   "cell_type": "code",
   "execution_count": 87,
   "id": "ac5d8271-063a-47c1-a2e8-d2826ca5b8b1",
   "metadata": {},
   "outputs": [],
   "source": [
    "df = df.set_index([\"location\", \"year\", \"metric\", \"sex\", \"age\", \"variant\"])"
   ]
  },
  {
   "cell_type": "code",
   "execution_count": 72,
   "id": "cfc98b36-ef48-4c60-b351-20501bd178e4",
   "metadata": {},
   "outputs": [
    {
     "data": {
      "text/plain": [
       "724.671824"
      ]
     },
     "execution_count": 72,
     "metadata": {},
     "output_type": "execute_result"
    }
   ],
   "source": [
    "df.memory_usage(deep=True).sum() / 1e6"
   ]
  },
  {
   "cell_type": "code",
   "execution_count": 73,
   "id": "1d6ab99e-f1d4-4129-bbe8-2679a8529ff7",
   "metadata": {},
   "outputs": [],
   "source": [
    "df = df.dropna(subset=[\"value\"])"
   ]
  },
  {
   "cell_type": "code",
   "execution_count": 74,
   "id": "08aba22f-bc95-468e-81d3-bb641db5a66b",
   "metadata": {},
   "outputs": [
    {
     "data": {
      "text/plain": [
       "723.36891"
      ]
     },
     "execution_count": 74,
     "metadata": {},
     "output_type": "execute_result"
    }
   ],
   "source": [
    "df.memory_usage(deep=True).sum() / 1e6"
   ]
  },
  {
   "cell_type": "code",
   "execution_count": 66,
   "id": "548e9251-f006-4b19-8047-b7833015bb36",
   "metadata": {},
   "outputs": [
    {
     "data": {
      "text/plain": [
       "723.368902"
      ]
     },
     "execution_count": 66,
     "metadata": {},
     "output_type": "execute_result"
    }
   ],
   "source": [
    "df.memory_usage(deep=True).sum() / 1e6"
   ]
  },
  {
   "cell_type": "markdown",
   "id": "df0c77e1-9e78-495b-b993-b4b3e47e91f4",
   "metadata": {},
   "source": [
    "---"
   ]
  },
  {
   "cell_type": "code",
   "execution_count": 15,
   "id": "37982ef2-4365-4c65-9f0c-b0f7981f930f",
   "metadata": {},
   "outputs": [],
   "source": [
    "from population import *\n",
    "from population import (\n",
    "    _add_metric_sexratio,\n",
    "    _add_metric_population,\n",
    "    _add_metric_population_change,\n",
    ")"
   ]
  },
  {
   "cell_type": "code",
   "execution_count": 16,
   "id": "57c85c91-efde-4ebf-8d9a-259cf85926ea",
   "metadata": {},
   "outputs": [],
   "source": [
    "df = pd.DataFrame(ds[\"population\"])\n",
    "df = df.reset_index()\n",
    "df = df.assign(location=df.location.map(country_std).astype(\"category\"))\n",
    "# Discard unmapped regions\n",
    "df = df.dropna(subset=[\"location\"])\n",
    "# Estimate sex_ratio\n",
    "df = df.assign(sex_ratio=(100 * df.popmale / df.popfemale).round(2))\n",
    "# Unpivot\n",
    "df = df.melt(COLUMNS_ID.keys(), COLUMNS_METRICS.keys(), \"metric\", \"value\")\n",
    "# Rename columns\n",
    "df = df.rename(columns=COLUMNS_ID)\n",
    "# dtypes\n",
    "df = df.astype({\"metric\": \"category\", \"year\": \"uint16\"})\n",
    "# Scale units\n",
    "ops = {k: v.get(\"operation\", lambda x: x) for k, v in COLUMNS_METRICS.items()}\n",
    "for m in df.metric.unique():\n",
    "    df.loc[df.metric == m, \"value\"] = ops[m](df.loc[df.metric == m, \"value\"])\n",
    "# Column value mappings\n",
    "df = df.assign(\n",
    "    metric=df.metric.map({k: v[\"name\"] for k, v in COLUMNS_METRICS.items()}).astype(\n",
    "        \"category\"\n",
    "    ),\n",
    "    sex=df.metric.map({k: v[\"sex\"] for k, v in COLUMNS_METRICS.items()}).astype(\n",
    "        \"category\"\n",
    "    ),\n",
    "    variant=df.variant.apply(lambda x: x.lower()).astype(\"category\"),\n",
    ")\n",
    "# Column order\n",
    "df = df[COLUMNS_ORDER]"
   ]
  },
  {
   "cell_type": "code",
   "execution_count": 17,
   "id": "a8712fb4-2b42-459a-994f-a8c851258d36",
   "metadata": {},
   "outputs": [
    {
     "data": {
      "text/plain": [
       "370.049835"
      ]
     },
     "execution_count": 17,
     "metadata": {},
     "output_type": "execute_result"
    }
   ],
   "source": [
    "df.memory_usage(deep=True).sum() / 1e6"
   ]
  },
  {
   "cell_type": "code",
   "execution_count": 18,
   "id": "2d1395c5-1d53-418a-9b94-5efe2c6e24e8",
   "metadata": {},
   "outputs": [
    {
     "data": {
      "text/plain": [
       "location    category\n",
       "year          uint16\n",
       "metric      category\n",
       "sex         category\n",
       "age         category\n",
       "variant     category\n",
       "value        float32\n",
       "dtype: object"
      ]
     },
     "execution_count": 18,
     "metadata": {},
     "output_type": "execute_result"
    }
   ],
   "source": [
    "df.dtypes"
   ]
  },
  {
   "cell_type": "code",
   "execution_count": 19,
   "id": "61494d0f-b73a-4767-8017-bf1102fbe4d2",
   "metadata": {},
   "outputs": [],
   "source": [
    "from dtypes import optimize_dtypes"
   ]
  },
  {
   "cell_type": "code",
   "execution_count": 20,
   "id": "74c06057-55d9-46cd-bc38-332bf2d746f3",
   "metadata": {},
   "outputs": [],
   "source": [
    "df_sr = _add_metric_sexratio(df)\n",
    "df_p_granular, df_p_broad = _add_metric_population(df)\n",
    "df_p_diff = _add_metric_population_change(df_p_granular)"
   ]
  },
  {
   "cell_type": "code",
   "execution_count": 23,
   "id": "7d6769ea-d091-44a1-82d2-086390948c2c",
   "metadata": {},
   "outputs": [],
   "source": [
    "df_sr = optimize_dtypes(df_sr)\n",
    "df_p_granular = optimize_dtypes(df_p_granular)\n",
    "df_p_broad = optimize_dtypes(df_p_broad)\n",
    "df_p_diff = optimize_dtypes(df_p_diff)"
   ]
  },
  {
   "cell_type": "code",
   "execution_count": 25,
   "id": "599a7aa6-e55f-4c7f-ba52-4c8603ac0f13",
   "metadata": {},
   "outputs": [
    {
     "data": {
      "text/plain": [
       "17.670934"
      ]
     },
     "execution_count": 25,
     "metadata": {},
     "output_type": "execute_result"
    }
   ],
   "source": [
    "df_sr.memory_usage(deep=True).sum() / 1e6"
   ]
  },
  {
   "cell_type": "code",
   "execution_count": 26,
   "id": "1bd8f6f7-cc4a-4734-b569-8c45e67c2458",
   "metadata": {},
   "outputs": [
    {
     "data": {
      "text/plain": [
       "47.666001"
      ]
     },
     "execution_count": 26,
     "metadata": {},
     "output_type": "execute_result"
    }
   ],
   "source": [
    "df_p_granular.memory_usage(deep=True).sum() / 1e6"
   ]
  },
  {
   "cell_type": "code",
   "execution_count": 27,
   "id": "2af4ef1b-a4f1-470e-934e-9daeae2a490d",
   "metadata": {},
   "outputs": [
    {
     "data": {
      "text/plain": [
       "14.923434"
      ]
     },
     "execution_count": 27,
     "metadata": {},
     "output_type": "execute_result"
    }
   ],
   "source": [
    "df_p_broad.memory_usage(deep=True).sum() / 1e6"
   ]
  },
  {
   "cell_type": "code",
   "execution_count": 28,
   "id": "525552b6-27da-4e07-96f5-f2f7d9299337",
   "metadata": {},
   "outputs": [
    {
     "data": {
      "text/plain": [
       "76.226977"
      ]
     },
     "execution_count": 28,
     "metadata": {},
     "output_type": "execute_result"
    }
   ],
   "source": [
    "df_p_diff.memory_usage(deep=True).sum() / 1e6"
   ]
  },
  {
   "cell_type": "code",
   "execution_count": 29,
   "id": "270b6bb8-6661-4996-a23e-b7d3e882c6b3",
   "metadata": {},
   "outputs": [],
   "source": [
    "x = pd.concat([df_sr, df_p_granular, df_p_broad, df_p_diff], ignore_index=True)"
   ]
  },
  {
   "cell_type": "code",
   "execution_count": 31,
   "id": "61c23505-fad3-4925-bc77-e60bf6ea56bd",
   "metadata": {},
   "outputs": [
    {
     "data": {
      "text/plain": [
       "120.626343"
      ]
     },
     "execution_count": 31,
     "metadata": {},
     "output_type": "execute_result"
    }
   ],
   "source": [
    "x.memory_usage(deep=True).sum() / 1e6"
   ]
  },
  {
   "cell_type": "code",
   "execution_count": 37,
   "id": "669f90cf-a73b-4d38-a71b-53e9fe733b2f",
   "metadata": {},
   "outputs": [
    {
     "data": {
      "text/plain": [
       "(3663504, 7)"
      ]
     },
     "execution_count": 37,
     "metadata": {},
     "output_type": "execute_result"
    }
   ],
   "source": [
    "df_p_granular.shape"
   ]
  },
  {
   "cell_type": "code",
   "execution_count": 42,
   "id": "912a415c-e8d8-46dc-8298-eb1949b9a9aa",
   "metadata": {},
   "outputs": [],
   "source": [
    "pop_diff = (\n",
    "    df_p_granular.sort_values(\"year\")\n",
    "    .groupby([\"location\", \"sex\", \"age\", \"variant\"])[[\"value\"]]\n",
    "    .diff()\n",
    "    .assign(metric=\"population_change\")\n",
    "    .astype({\"metric\": \"category\"})\n",
    ")"
   ]
  },
  {
   "cell_type": "code",
   "execution_count": 46,
   "id": "bba3dd01-655a-4296-b32d-e8498d438a6c",
   "metadata": {},
   "outputs": [
    {
     "data": {
      "text/plain": [
       "(3663504, 2)"
      ]
     },
     "execution_count": 46,
     "metadata": {},
     "output_type": "execute_result"
    }
   ],
   "source": [
    "pop_diff.shape"
   ]
  },
  {
   "cell_type": "code",
   "execution_count": 47,
   "id": "86e3c558-fe6f-4311-b34d-e16a7e63ac3c",
   "metadata": {},
   "outputs": [
    {
     "data": {
      "text/plain": [
       "(3663504, 7)"
      ]
     },
     "execution_count": 47,
     "metadata": {},
     "output_type": "execute_result"
    }
   ],
   "source": [
    "df_p_granular.shape"
   ]
  },
  {
   "cell_type": "code",
   "execution_count": 48,
   "id": "36f87cd4-335f-4432-a87c-9385207cf0bf",
   "metadata": {},
   "outputs": [],
   "source": [
    "df_p_diff = pd.concat(\n",
    "    [\n",
    "        df_p_granular[\n",
    "            [col for col in df_p_granular.columns if col not in [\"value\", \"metric\"]]\n",
    "        ],\n",
    "        pop_diff,\n",
    "    ],\n",
    "    axis=1,\n",
    ").dropna(subset=\"value\")"
   ]
  },
  {
   "cell_type": "code",
   "execution_count": 49,
   "id": "935f25f4-81ee-4ab9-9e18-c9a0ce9538fe",
   "metadata": {},
   "outputs": [
    {
     "data": {
      "text/plain": [
       "(3627936, 7)"
      ]
     },
     "execution_count": 49,
     "metadata": {},
     "output_type": "execute_result"
    }
   ],
   "source": [
    "df_p_diff.shape"
   ]
  },
  {
   "cell_type": "code",
   "execution_count": 50,
   "id": "8311f567-1e20-4a62-824d-d36c3492e405",
   "metadata": {},
   "outputs": [
    {
     "data": {
      "text/plain": [
       "72.58588"
      ]
     },
     "execution_count": 50,
     "metadata": {},
     "output_type": "execute_result"
    }
   ],
   "source": [
    "df_p_diff.memory_usage(deep=True).sum() / 1e6"
   ]
  },
  {
   "cell_type": "markdown",
   "id": "65c3d5ff-d95e-4839-a3f9-cd5af9f6909e",
   "metadata": {},
   "source": [
    "---"
   ]
  },
  {
   "cell_type": "code",
   "execution_count": 6,
   "id": "47399d48-ee69-4d36-85c6-ca3c8dae6bf4",
   "metadata": {},
   "outputs": [],
   "source": [
    "from population import *\n",
    "from population import (\n",
    "    _add_metric_sexratio,\n",
    "    _add_metric_population,\n",
    "    _add_metric_population_change,\n",
    ")"
   ]
  },
  {
   "cell_type": "code",
   "execution_count": 7,
   "id": "297fc7a2-b64d-45eb-af98-4bbdeb847e32",
   "metadata": {},
   "outputs": [],
   "source": [
    "df = ds[\"population\"]"
   ]
  },
  {
   "cell_type": "code",
   "execution_count": 8,
   "id": "a5cb616e-0f71-4a46-89ce-fe99808607c3",
   "metadata": {},
   "outputs": [
    {
     "data": {
      "text/plain": [
       "287.701873"
      ]
     },
     "execution_count": 8,
     "metadata": {},
     "output_type": "execute_result"
    }
   ],
   "source": [
    "df.memory_usage(deep=True).sum() / 1e6"
   ]
  },
  {
   "cell_type": "code",
   "execution_count": 9,
   "id": "644f6d80-c578-49a2-ab0d-61abe509ad9b",
   "metadata": {},
   "outputs": [],
   "source": [
    "df = pd.DataFrame(df)\n",
    "df = df.reset_index()\n",
    "df = df.assign(location=df.location.map(country_std).astype(\"category\"))\n",
    "df = df.dropna(subset=[\"location\"]).reset_index(drop=True)"
   ]
  },
  {
   "cell_type": "code",
   "execution_count": 10,
   "id": "6194cf39-4cad-400c-ab55-d8cdff5d42ce",
   "metadata": {},
   "outputs": [
    {
     "data": {
      "text/plain": [
       "331.63476"
      ]
     },
     "execution_count": 10,
     "metadata": {},
     "output_type": "execute_result"
    }
   ],
   "source": [
    "df.memory_usage(deep=True).sum() / 1e6"
   ]
  },
  {
   "cell_type": "code",
   "execution_count": 11,
   "id": "c7bc5a07-9ef2-4bc9-8736-a2698d6d8d39",
   "metadata": {
    "tags": []
   },
   "outputs": [],
   "source": [
    "# Estimate sex_ratio\n",
    "df = df.assign(sex_ratio=(100 * df.popmale / df.popfemale).round(2))\n",
    "# Unpivot\n",
    "df = df.melt(COLUMNS_ID.keys(), COLUMNS_METRICS.keys(), \"metric\", \"value\")"
   ]
  },
  {
   "cell_type": "code",
   "execution_count": 12,
   "id": "01e1bd35-d6ee-4817-9c03-d04f7ce33f72",
   "metadata": {},
   "outputs": [],
   "source": [
    "df = df.rename(columns=COLUMNS_ID)"
   ]
  },
  {
   "cell_type": "code",
   "execution_count": 13,
   "id": "c6838387-a8d3-4bad-ab3a-fdac12c6a3f7",
   "metadata": {},
   "outputs": [],
   "source": [
    "df = df.astype({\"metric\": \"category\", \"year\": \"uint16\"})"
   ]
  },
  {
   "cell_type": "code",
   "execution_count": 14,
   "id": "64b8f41a-0891-4373-9f91-3814de1b062e",
   "metadata": {},
   "outputs": [
    {
     "data": {
      "text/plain": [
       "339.215118"
      ]
     },
     "execution_count": 14,
     "metadata": {},
     "output_type": "execute_result"
    }
   ],
   "source": [
    "df.memory_usage(deep=True).sum() / 1e6"
   ]
  },
  {
   "cell_type": "code",
   "execution_count": 15,
   "id": "805c8b5e-a9a1-4312-951b-75426ea41e25",
   "metadata": {},
   "outputs": [],
   "source": [
    "ops = {k: v.get(\"operation\", lambda x: x) for k, v in COLUMNS_METRICS.items()}\n",
    "for m in df.metric.unique():\n",
    "    df.loc[df.metric == m, \"value\"] = ops[m](df.loc[df.metric == m, \"value\"])"
   ]
  },
  {
   "cell_type": "code",
   "execution_count": 16,
   "id": "cd6bd39a-9b74-47e4-8f05-82f226fd4d19",
   "metadata": {},
   "outputs": [
    {
     "data": {
      "text/plain": [
       "339.215118"
      ]
     },
     "execution_count": 16,
     "metadata": {},
     "output_type": "execute_result"
    }
   ],
   "source": [
    "df.memory_usage(deep=True).sum() / 1e6"
   ]
  },
  {
   "cell_type": "code",
   "execution_count": 17,
   "id": "a544b6da-639f-4551-9d65-097d2e399821",
   "metadata": {},
   "outputs": [],
   "source": [
    "df = df.assign(\n",
    "    metric=df.metric.map({k: v[\"name\"] for k, v in COLUMNS_METRICS.items()}).astype(\n",
    "        \"category\"\n",
    "    ),\n",
    "    sex=df.metric.map({k: v[\"sex\"] for k, v in COLUMNS_METRICS.items()}).astype(\n",
    "        \"category\"\n",
    "    ),\n",
    "    variant=df.variant.apply(lambda x: x.lower()).astype(\"category\"),\n",
    ")"
   ]
  },
  {
   "cell_type": "code",
   "execution_count": 18,
   "id": "8b218164-7232-4758-a496-6dcfa2b9cc5d",
   "metadata": {},
   "outputs": [
    {
     "data": {
      "text/plain": [
       "370.049835"
      ]
     },
     "execution_count": 18,
     "metadata": {},
     "output_type": "execute_result"
    }
   ],
   "source": [
    "df.memory_usage(deep=True).sum() / 1e6"
   ]
  },
  {
   "cell_type": "code",
   "execution_count": 19,
   "id": "3989a7e2-e01c-4fb4-a7b5-e73f8288ec3c",
   "metadata": {},
   "outputs": [],
   "source": [
    "df = df[COLUMNS_ORDER]"
   ]
  },
  {
   "cell_type": "code",
   "execution_count": 20,
   "id": "b9c80c42-b95b-48f3-8963-8d764d838b2b",
   "metadata": {},
   "outputs": [],
   "source": [
    "df_sr = _add_metric_sexratio(df)"
   ]
  },
  {
   "cell_type": "code",
   "execution_count": 21,
   "id": "dd3b9bd6-cfbb-4ef4-bd7d-cb008440f07e",
   "metadata": {},
   "outputs": [
    {
     "data": {
      "text/plain": [
       "16.826863"
      ]
     },
     "execution_count": 21,
     "metadata": {},
     "output_type": "execute_result"
    }
   ],
   "source": [
    "df_sr.memory_usage(deep=True).sum() / 1e6"
   ]
  },
  {
   "cell_type": "code",
   "execution_count": 67,
   "id": "29f4d5ee-4056-41f7-b24b-669965975bbe",
   "metadata": {
    "tags": []
   },
   "outputs": [],
   "source": [
    "df_p = df[df.metric == \"population\"]\n",
    "# Basic age groups\n",
    "age_map = {\n",
    "    **{str(i): f\"{i - i%5}-{i + 4 - i%5}\" for i in range(0, 20)},\n",
    "    **{str(i): f\"{i - i%10}-{i + 9 - i%10}\" for i in range(20, 100)},\n",
    "    **{\"100+\": \"100-\"},\n",
    "}\n",
    "df_p_granular = df_p.assign(age=df_p.age.map(age_map).astype(\"category\"))\n",
    "df_p_granular = df_p_granular.groupby(\n",
    "    [\"location\", \"year\", \"metric\", \"sex\", \"age\", \"variant\"],\n",
    "    as_index=False,\n",
    "    observed=True,\n",
    ").sum()\n",
    "df_p_granular = optimize_dtypes(df_p_granular, simple=True)\n",
    "# Additional age groups\n",
    "# <1\n",
    "df_p_0 = df_p[df_p.age == \"0\"].copy()\n",
    "df_p_0 = optimize_dtypes(df_p_0, simple=True)\n",
    "# 1-4\n",
    "df_p_1_4 = df_p[df_p.age.isin([\"1\", \"2\", \"3\", \"4\"])].copy()\n",
    "df_p_1_4 = (\n",
    "    df_p_1_4.groupby(\n",
    "        [\"location\", \"year\", \"metric\", \"sex\", \"variant\"],\n",
    "        as_index=False,\n",
    "        observed=True,\n",
    "    )\n",
    "    .sum()\n",
    "    .assign(age=\"1-4\")\n",
    ")\n",
    "df_p_1_4 = optimize_dtypes(df_p_1_4, simple=True)\n",
    "# all\n",
    "df_p_all = (\n",
    "    df_p.groupby(\n",
    "        [\"location\", \"year\", \"metric\", \"sex\", \"variant\"],\n",
    "        as_index=False,\n",
    "        observed=True,\n",
    "    )\n",
    "    .value.sum()\n",
    "    .assign(age=\"all\")\n",
    ")\n",
    "df_p_all = optimize_dtypes(df_p_all, simple=True)"
   ]
  },
  {
   "cell_type": "code",
   "execution_count": 23,
   "id": "e14c1970-d067-449c-ab3c-272498b8e3c7",
   "metadata": {},
   "outputs": [
    {
     "data": {
      "text/plain": [
       "4.615183"
      ]
     },
     "execution_count": 23,
     "metadata": {},
     "output_type": "execute_result"
    }
   ],
   "source": [
    "df_p_0.memory_usage(deep=True).sum() / 1e6"
   ]
  },
  {
   "cell_type": "code",
   "execution_count": 24,
   "id": "cf9a973a-9e8b-4b55-a778-40cae24b9fe1",
   "metadata": {},
   "outputs": [
    {
     "data": {
      "text/plain": [
       "location    category\n",
       "year          uint16\n",
       "metric      category\n",
       "sex         category\n",
       "age         category\n",
       "variant     category\n",
       "value        float32\n",
       "dtype: object"
      ]
     },
     "execution_count": 24,
     "metadata": {},
     "output_type": "execute_result"
    }
   ],
   "source": [
    "df_p_0.dtypes"
   ]
  },
  {
   "cell_type": "code",
   "execution_count": 25,
   "id": "5af38299-08ad-419b-844f-df5e75d281f1",
   "metadata": {},
   "outputs": [
    {
     "data": {
      "text/plain": [
       "2.773608"
      ]
     },
     "execution_count": 25,
     "metadata": {},
     "output_type": "execute_result"
    }
   ],
   "source": [
    "df_p_1_4.memory_usage(deep=True).sum() / 1e6"
   ]
  },
  {
   "cell_type": "code",
   "execution_count": 26,
   "id": "98a90cdf-6525-431d-b943-9825d495e044",
   "metadata": {},
   "outputs": [
    {
     "data": {
      "text/plain": [
       "location    category\n",
       "year          uint16\n",
       "metric      category\n",
       "sex         category\n",
       "variant     category\n",
       "value        float32\n",
       "age         category\n",
       "dtype: object"
      ]
     },
     "execution_count": 26,
     "metadata": {},
     "output_type": "execute_result"
    }
   ],
   "source": [
    "df_p_1_4.dtypes"
   ]
  },
  {
   "cell_type": "code",
   "execution_count": 28,
   "id": "61e36572-7adf-4771-899d-e4217bd730e0",
   "metadata": {},
   "outputs": [
    {
     "data": {
      "text/plain": [
       "2.773608"
      ]
     },
     "execution_count": 28,
     "metadata": {},
     "output_type": "execute_result"
    }
   ],
   "source": [
    "df_p_all.memory_usage(deep=True).sum() / 1e6"
   ]
  },
  {
   "cell_type": "code",
   "execution_count": 29,
   "id": "bd34b31c-8090-4b8b-bf73-fe89cef03ccd",
   "metadata": {},
   "outputs": [
    {
     "data": {
      "text/plain": [
       "location    category\n",
       "year          uint16\n",
       "metric      category\n",
       "sex         category\n",
       "variant     category\n",
       "value        float32\n",
       "age         category\n",
       "dtype: object"
      ]
     },
     "execution_count": 29,
     "metadata": {},
     "output_type": "execute_result"
    }
   ],
   "source": [
    "df_p_all.dtypes"
   ]
  },
  {
   "cell_type": "code",
   "execution_count": 30,
   "id": "19417c8a-17f6-4107-89b1-7954fa440967",
   "metadata": {},
   "outputs": [
    {
     "data": {
      "text/plain": [
       "35.746333"
      ]
     },
     "execution_count": 30,
     "metadata": {},
     "output_type": "execute_result"
    }
   ],
   "source": [
    "df_p_granular.memory_usage(deep=True).sum() / 1e6"
   ]
  },
  {
   "cell_type": "code",
   "execution_count": 31,
   "id": "70ab204d-dd8a-464e-bd44-ae3457792a5d",
   "metadata": {},
   "outputs": [
    {
     "data": {
      "text/plain": [
       "location    category\n",
       "year          uint16\n",
       "metric      category\n",
       "sex         category\n",
       "age         category\n",
       "variant     category\n",
       "value        float32\n",
       "dtype: object"
      ]
     },
     "execution_count": 31,
     "metadata": {},
     "output_type": "execute_result"
    }
   ],
   "source": [
    "df_p_granular.dtypes"
   ]
  },
  {
   "cell_type": "code",
   "execution_count": 68,
   "id": "99f27756-1399-46aa-853f-9ac44da4b6bd",
   "metadata": {},
   "outputs": [],
   "source": [
    "x = pd.concat([df_p_granular, df_p_0, df_p_1_4, df_p_all], ignore_index=True).astype(\n",
    "    {\"age\": \"category\"}\n",
    ")"
   ]
  },
  {
   "cell_type": "code",
   "execution_count": 37,
   "id": "afcab2a2-d28f-4135-8cf8-db92ca2619db",
   "metadata": {},
   "outputs": [
    {
     "data": {
      "text/plain": [
       "43.989395"
      ]
     },
     "execution_count": 37,
     "metadata": {},
     "output_type": "execute_result"
    }
   ],
   "source": [
    "x.memory_usage(deep=True).sum() / 1e6"
   ]
  },
  {
   "cell_type": "code",
   "execution_count": 34,
   "id": "007b01b4-da66-4b7d-959f-58002ac8df5c",
   "metadata": {},
   "outputs": [
    {
     "data": {
      "text/plain": [
       "location    category\n",
       "year          uint16\n",
       "metric      category\n",
       "sex         category\n",
       "age           object\n",
       "variant     category\n",
       "value        float32\n",
       "dtype: object"
      ]
     },
     "execution_count": 34,
     "metadata": {},
     "output_type": "execute_result"
    }
   ],
   "source": [
    "x.dtypes"
   ]
  },
  {
   "cell_type": "code",
   "execution_count": 69,
   "id": "86c4c248-f364-4dd4-859d-c2a253ad3137",
   "metadata": {},
   "outputs": [],
   "source": [
    "df_p_broad = df_p.assign(age=df_p.age.map(map_broad_age).astype(\"category\"))"
   ]
  },
  {
   "cell_type": "code",
   "execution_count": 70,
   "id": "2e09e708-b72e-409c-ab5d-1c8d179eb4a2",
   "metadata": {},
   "outputs": [],
   "source": [
    "df_p_broad = df_p_broad.groupby(\n",
    "    [\"location\", \"year\", \"metric\", \"sex\", \"age\", \"variant\"],\n",
    "    as_index=False,\n",
    "    observed=True,\n",
    ").sum()"
   ]
  },
  {
   "cell_type": "code",
   "execution_count": 71,
   "id": "0c9a9788-dc42-4821-9875-adbf11a5af43",
   "metadata": {},
   "outputs": [],
   "source": [
    "df_p_broad = df_p.assign(age=df_p.age.map(map_broad_age).astype(\"category\"))\n",
    "df_p_broad = df_p_broad.groupby(\n",
    "    [\"location\", \"year\", \"metric\", \"sex\", \"age\", \"variant\"],\n",
    "    as_index=False,\n",
    "    observed=True,\n",
    ").sum()\n",
    "df_p_broad = df_p_broad.assign(metric=\"population_broad\").astype({\"metric\": \"category\"})"
   ]
  },
  {
   "cell_type": "code",
   "execution_count": 72,
   "id": "8f5e8663-f051-41df-b8a2-e9cbff39e6c3",
   "metadata": {},
   "outputs": [
    {
     "data": {
      "text/plain": [
       "13.764369"
      ]
     },
     "execution_count": 72,
     "metadata": {},
     "output_type": "execute_result"
    }
   ],
   "source": [
    "df_p_broad.memory_usage(deep=True).sum() / 1e6"
   ]
  },
  {
   "cell_type": "code",
   "execution_count": 82,
   "id": "17b0efaa-cba0-45e6-94d0-b8a9b31dbe91",
   "metadata": {},
   "outputs": [],
   "source": [
    "pop_diff = (\n",
    "    df_p_granular.sort_values(\"year\")\n",
    "    .groupby([\"location\", \"sex\", \"age\", \"variant\"], observed=True)[[\"value\"]]\n",
    "    .diff()\n",
    "    .assign(metric=\"population_change\")\n",
    "    .astype({\"metric\": \"category\"})\n",
    ")\n",
    "# pop_diff = optimize_dtypes(pop_diff, simple=True)"
   ]
  },
  {
   "cell_type": "code",
   "execution_count": 84,
   "id": "3063f47d-5d17-4bf3-bdce-68ffb2abc92b",
   "metadata": {},
   "outputs": [],
   "source": [
    "df_p_diff = pd.concat(\n",
    "    [\n",
    "        df_p_granular[\n",
    "            [col for col in df_p_granular.columns if col not in [\"value\", \"metric\"]]\n",
    "        ],\n",
    "        pop_diff,\n",
    "    ],\n",
    "    axis=1,\n",
    ").dropna(subset=\"value\")"
   ]
  },
  {
   "cell_type": "code",
   "execution_count": 85,
   "id": "48a77c12-31bf-49ea-9159-e480c8749e40",
   "metadata": {},
   "outputs": [
    {
     "data": {
      "text/plain": [
       "58.980942"
      ]
     },
     "execution_count": 85,
     "metadata": {},
     "output_type": "execute_result"
    }
   ],
   "source": [
    "df_p_diff.memory_usage(deep=True).sum() / 1e6"
   ]
  },
  {
   "cell_type": "code",
   "execution_count": 61,
   "id": "cb414447-3ab6-4b19-be40-8271b5ebf456",
   "metadata": {},
   "outputs": [],
   "source": [
    "df_p_diff = df_p_diff.astype({\"metric\": \"category\"})"
   ]
  },
  {
   "cell_type": "code",
   "execution_count": 63,
   "id": "6718b7a8-4dee-4f76-b3a6-8b343b394c8e",
   "metadata": {},
   "outputs": [
    {
     "data": {
      "text/plain": [
       "location    category\n",
       "year          uint16\n",
       "sex         category\n",
       "age         category\n",
       "variant     category\n",
       "value        float32\n",
       "metric      category\n",
       "dtype: object"
      ]
     },
     "execution_count": 63,
     "metadata": {},
     "output_type": "execute_result"
    }
   ],
   "source": [
    "df_p_diff.dtypes"
   ]
  },
  {
   "cell_type": "code",
   "execution_count": 59,
   "id": "efd85b8b-1b90-449e-ba67-e4b5e3d31af1",
   "metadata": {},
   "outputs": [
    {
     "data": {
      "text/plain": [
       "(2976597, 7)"
      ]
     },
     "execution_count": 59,
     "metadata": {},
     "output_type": "execute_result"
    }
   ],
   "source": [
    "df_p_granular.shape"
   ]
  },
  {
   "cell_type": "code",
   "execution_count": 169,
   "id": "d298a658-0f36-4108-b78e-04841b8d324b",
   "metadata": {
    "collapsed": true,
    "jupyter": {
     "outputs_hidden": true
    },
    "tags": []
   },
   "outputs": [
    {
     "name": "stdout",
     "output_type": "stream",
     "text": [
      "['0', '1', '2', '3', '4', ..., '96', '97', '98', '99', '100+']\n",
      "Length: 101\n",
      "Categories (101, object): ['0', '1', '10', '100+', ..., '96', '97', '98', '99']\n",
      "0\n",
      "1\n",
      "10\n",
      "100+\n",
      "11\n",
      "12\n",
      "13\n",
      "14\n",
      "15\n",
      "16\n",
      "17\n",
      "18\n",
      "19\n",
      "2\n",
      "20\n",
      "21\n",
      "22\n",
      "23\n",
      "24\n",
      "25\n",
      "26\n",
      "27\n",
      "28\n",
      "29\n",
      "3\n",
      "30\n",
      "31\n",
      "32\n",
      "33\n",
      "34\n",
      "35\n",
      "36\n",
      "37\n",
      "38\n",
      "39\n",
      "4\n",
      "40\n",
      "41\n",
      "42\n",
      "43\n",
      "44\n",
      "45\n",
      "46\n",
      "47\n",
      "48\n",
      "49\n",
      "5\n",
      "50\n",
      "51\n",
      "52\n",
      "53\n",
      "54\n",
      "55\n",
      "56\n",
      "57\n",
      "58\n",
      "59\n",
      "6\n",
      "60\n",
      "61\n",
      "62\n",
      "63\n",
      "64\n",
      "65\n",
      "66\n",
      "67\n",
      "68\n",
      "69\n",
      "7\n",
      "70\n",
      "71\n",
      "72\n",
      "73\n",
      "74\n",
      "75\n",
      "76\n",
      "77\n",
      "78\n",
      "79\n",
      "8\n",
      "80\n",
      "81\n",
      "82\n",
      "83\n",
      "84\n",
      "85\n",
      "86\n",
      "87\n",
      "88\n",
      "89\n",
      "9\n",
      "90\n",
      "91\n",
      "92\n",
      "93\n",
      "94\n",
      "95\n",
      "96\n",
      "97\n",
      "98\n",
      "99\n"
     ]
    }
   ],
   "source": [
    "df_p_granular, df_p_broad = _add_metric_population(df)"
   ]
  },
  {
   "cell_type": "code",
   "execution_count": 173,
   "id": "3568c7a9-8739-49d3-ad42-8a5979e2d2a4",
   "metadata": {},
   "outputs": [],
   "source": [
    "df_p_granular = df_p_granular.astype({\"age\": \"category\"})"
   ]
  },
  {
   "cell_type": "code",
   "execution_count": 174,
   "id": "0658f29c-0fc5-483d-b07b-7407295dfb04",
   "metadata": {},
   "outputs": [
    {
     "data": {
      "text/plain": [
       "43.989395"
      ]
     },
     "execution_count": 174,
     "metadata": {},
     "output_type": "execute_result"
    }
   ],
   "source": [
    "df_p_granular.memory_usage(deep=True).sum() / 1e6"
   ]
  },
  {
   "cell_type": "code",
   "execution_count": 170,
   "id": "23b9ee5c-4b6a-47f1-b1ec-37dc59e21eb6",
   "metadata": {},
   "outputs": [
    {
     "data": {
      "text/plain": [
       "164.883251"
      ]
     },
     "execution_count": 171,
     "metadata": {},
     "output_type": "execute_result"
    }
   ],
   "source": [
    "df_p_granular.memory_usage(deep=True).sum() / 1e6"
   ]
  },
  {
   "cell_type": "code",
   "execution_count": null,
   "id": "fd8ad701-902d-43cd-8c00-a4e51da35773",
   "metadata": {},
   "outputs": [],
   "source": []
  },
  {
   "cell_type": "code",
   "execution_count": 14,
   "id": "90980850-2745-404a-9b1a-227f8d9a8a10",
   "metadata": {},
   "outputs": [],
   "source": [
    "# Scale units\n",
    "ops = {k: v.get(\"operation\", lambda x: x) for k, v in COLUMNS_METRICS.items()}\n",
    "for m in df.metric.unique():\n",
    "    df.loc[df.metric == m, \"value\"] = ops[m](df.loc[df.metric == m, \"value\"])"
   ]
  },
  {
   "cell_type": "code",
   "execution_count": 15,
   "id": "36dc578a-c9ea-494f-9d20-a538286563dc",
   "metadata": {},
   "outputs": [],
   "source": [
    "df = df.rename(columns=COLUMNS_ID)\n",
    "df = df.assign(\n",
    "    metric=df.metric.map({k: v[\"name\"] for k, v in COLUMNS_METRICS.items()}),\n",
    "    sex=df.metric.map({k: v[\"sex\"] for k, v in COLUMNS_METRICS.items()}),\n",
    "    variant=df.variant.apply(lambda x: x.lower()),\n",
    ")"
   ]
  },
  {
   "cell_type": "code",
   "execution_count": 18,
   "id": "f0d7958a-1a80-485e-b0a2-d18d9c069a86",
   "metadata": {},
   "outputs": [],
   "source": [
    "df = df[COLUMNS_ORDER]"
   ]
  },
  {
   "cell_type": "code",
   "execution_count": 19,
   "id": "70511889-965e-4de4-9d6b-90338dfd6acf",
   "metadata": {},
   "outputs": [],
   "source": [
    "df = df.dropna(subset=[\"location\"])"
   ]
  },
  {
   "cell_type": "code",
   "execution_count": 21,
   "id": "e68ed73a-3957-480d-9fc5-fa2a556abb63",
   "metadata": {},
   "outputs": [],
   "source": [
    "df_sr = _add_metric_sexratio(df)"
   ]
  },
  {
   "cell_type": "code",
   "execution_count": 23,
   "id": "fedecb6e-f3c7-4462-be72-985d56344ea0",
   "metadata": {
    "collapsed": true,
    "jupyter": {
     "outputs_hidden": true
    },
    "tags": []
   },
   "outputs": [
    {
     "name": "stdout",
     "output_type": "stream",
     "text": [
      "['0', '1', '2', '3', '4', ..., '96', '97', '98', '99', '100+']\n",
      "Length: 101\n",
      "Categories (101, object): ['0', '1', '10', '100+', ..., '96', '97', '98', '99']\n",
      "0\n",
      "1\n",
      "10\n",
      "100+\n",
      "11\n",
      "12\n",
      "13\n",
      "14\n",
      "15\n",
      "16\n",
      "17\n",
      "18\n",
      "19\n",
      "2\n",
      "20\n",
      "21\n",
      "22\n",
      "23\n",
      "24\n",
      "25\n",
      "26\n",
      "27\n",
      "28\n",
      "29\n",
      "3\n",
      "30\n",
      "31\n",
      "32\n",
      "33\n",
      "34\n",
      "35\n",
      "36\n",
      "37\n",
      "38\n",
      "39\n",
      "4\n",
      "40\n",
      "41\n",
      "42\n",
      "43\n",
      "44\n",
      "45\n",
      "46\n",
      "47\n",
      "48\n",
      "49\n",
      "5\n",
      "50\n",
      "51\n",
      "52\n",
      "53\n",
      "54\n",
      "55\n",
      "56\n",
      "57\n",
      "58\n",
      "59\n",
      "6\n",
      "60\n",
      "61\n",
      "62\n",
      "63\n",
      "64\n",
      "65\n",
      "66\n",
      "67\n",
      "68\n",
      "69\n",
      "7\n",
      "70\n",
      "71\n",
      "72\n",
      "73\n",
      "74\n",
      "75\n",
      "76\n",
      "77\n",
      "78\n",
      "79\n",
      "8\n",
      "80\n",
      "81\n",
      "82\n",
      "83\n",
      "84\n",
      "85\n",
      "86\n",
      "87\n",
      "88\n",
      "89\n",
      "9\n",
      "90\n",
      "91\n",
      "92\n",
      "93\n",
      "94\n",
      "95\n",
      "96\n",
      "97\n",
      "98\n",
      "99\n"
     ]
    }
   ],
   "source": [
    "df_p_granular, df_p_broad = _add_metric_population(df)"
   ]
  },
  {
   "cell_type": "code",
   "execution_count": 25,
   "id": "5f79c3f7-f5af-48d3-8a83-c384dfeb40a3",
   "metadata": {},
   "outputs": [
    {
     "data": {
      "text/plain": [
       "array(['0-4', '15-24', '25-64', '5-14', '65-'], dtype=object)"
      ]
     },
     "execution_count": 25,
     "metadata": {},
     "output_type": "execute_result"
    }
   ],
   "source": [
    "df_p_broad.age.unique()"
   ]
  },
  {
   "cell_type": "code",
   "execution_count": null,
   "id": "0faaa181-791a-41d2-859d-4caf6279eb64",
   "metadata": {
    "tags": []
   },
   "outputs": [
    {
     "name": "stdout",
     "output_type": "stream",
     "text": [
      "1\n"
     ]
    }
   ],
   "source": [
    "df_population = process_population(ds[\"population\"], country_std)"
   ]
  },
  {
   "cell_type": "code",
   "execution_count": null,
   "id": "06f59f7c-1231-4818-a6ac-1c186412426f",
   "metadata": {},
   "outputs": [],
   "source": [
    "df_population.memory_usage(deep=True).sum() / 1e6"
   ]
  },
  {
   "cell_type": "code",
   "execution_count": 8,
   "id": "11145f0a-6a80-4d7e-872d-6d393c2c2f20",
   "metadata": {},
   "outputs": [
    {
     "data": {
      "text/plain": [
       "location    category\n",
       "year        category\n",
       "metric        object\n",
       "sex         category\n",
       "age           object\n",
       "variant     category\n",
       "value        float32\n",
       "dtype: object"
      ]
     },
     "execution_count": 8,
     "metadata": {},
     "output_type": "execute_result"
    }
   ],
   "source": [
    "df_population.dtypes"
   ]
  },
  {
   "cell_type": "code",
   "execution_count": 9,
   "id": "2fb5b55c-787c-458d-a16f-6ae3a8fdd1b5",
   "metadata": {},
   "outputs": [
    {
     "data": {
      "text/plain": [
       "9     66871\n",
       "10    66544\n",
       "8     66290\n",
       "11    65561\n",
       "7     64867\n",
       "      ...  \n",
       "79     2692\n",
       "83     2690\n",
       "80     2598\n",
       "82     2581\n",
       "81     2545\n",
       "Name: age, Length: 101, dtype: int64"
      ]
     },
     "execution_count": 9,
     "metadata": {},
     "output_type": "execute_result"
    }
   ],
   "source": [
    "df_deaths[df_deaths.value == 0].age.value_counts()"
   ]
  },
  {
   "cell_type": "markdown",
   "id": "22e83d20-7289-4bea-a460-c3f6b1626e20",
   "metadata": {},
   "source": [
    "---"
   ]
  },
  {
   "cell_type": "code",
   "execution_count": 1,
   "id": "391a1474-078e-434b-afc5-4892fd1c3d55",
   "metadata": {},
   "outputs": [],
   "source": [
    "from typing import List\n",
    "\n",
    "\n",
    "import pandas as pd\n",
    "from etl.paths import BASE_DIR as base_path\n",
    "\n",
    "from owid import catalog\n",
    "from owid.catalog import Table\n",
    "from owid.catalog.meta import TableMeta\n",
    "\n",
    "YEAR_SPLIT = 2022"
   ]
  },
  {
   "cell_type": "code",
   "execution_count": 2,
   "id": "43168e85-2a97-4cbf-9368-bfe852946c8a",
   "metadata": {},
   "outputs": [],
   "source": [
    "from un_wpp import *"
   ]
  },
  {
   "cell_type": "code",
   "execution_count": 3,
   "id": "9a208b64-297f-4bf0-80cc-6a2264c76cd4",
   "metadata": {},
   "outputs": [
    {
     "name": "stdout",
     "output_type": "stream",
     "text": [
      "1\n"
     ]
    }
   ],
   "source": [
    "print(1)\n",
    "meadow_path = base_path / \"data/meadow/un/2022/un_wpp\"\n",
    "ds = catalog.Dataset(meadow_path)"
   ]
  },
  {
   "cell_type": "code",
   "execution_count": 42,
   "id": "f1c296ad-66da-4674-ac37-71d3eb6035e3",
   "metadata": {},
   "outputs": [
    {
     "data": {
      "text/plain": [
       "CategoricalDtype(categories=range(1950, 2101), ordered=False)"
      ]
     },
     "execution_count": 42,
     "metadata": {},
     "output_type": "execute_result"
    }
   ],
   "source": [
    "CategoricalDtype(categories=range(1950, 2102))"
   ]
  },
  {
   "cell_type": "code",
   "execution_count": 4,
   "id": "21918e74-a5f5-457a-a3ee-29cc9ef56990",
   "metadata": {},
   "outputs": [],
   "source": [
    "country_std = load_country_mapping()"
   ]
  },
  {
   "cell_type": "code",
   "execution_count": 12,
   "id": "04c1129a-e867-47c8-9596-8c4f769094f4",
   "metadata": {},
   "outputs": [
    {
     "name": "stdout",
     "output_type": "stream",
     "text": [
      "deaths 107.438333\n",
      "demographics 51.612832\n",
      "dependency_ratio 32.651681\n",
      "fertility 68.598587\n",
      "population 287.701873\n"
     ]
    }
   ],
   "source": [
    "for t in ds.table_names:\n",
    "    print(t, ds[t].memory_usage(deep=True).sum() / 1e6)"
   ]
  },
  {
   "cell_type": "markdown",
   "id": "ee82c547-7ee4-4361-a8f0-8b9610fcd033",
   "metadata": {},
   "source": [
    "## deaths"
   ]
  },
  {
   "cell_type": "code",
   "execution_count": 15,
   "id": "f70bb2c8-86f5-4010-b7f2-96789a23e8aa",
   "metadata": {},
   "outputs": [],
   "source": [
    "from deaths import process as process_deaths"
   ]
  },
  {
   "cell_type": "code",
   "execution_count": 19,
   "id": "ee4065b5-9eac-498d-92c1-259a3ad0a7e7",
   "metadata": {},
   "outputs": [
    {
     "data": {
      "text/plain": [
       "107.438333"
      ]
     },
     "execution_count": 19,
     "metadata": {},
     "output_type": "execute_result"
    }
   ],
   "source": [
    "ds[\"deaths\"].memory_usage(deep=True).sum() / 1e6"
   ]
  },
  {
   "cell_type": "code",
   "execution_count": 21,
   "id": "6e9ae42c-e8e0-4ec5-9ecf-d17d17fd3d6c",
   "metadata": {},
   "outputs": [],
   "source": [
    "df_deaths = process_deaths(ds[\"deaths\"], country_std)"
   ]
  },
  {
   "cell_type": "code",
   "execution_count": 22,
   "id": "a883f944-e0c4-482d-9661-dfa68215b726",
   "metadata": {},
   "outputs": [
    {
     "data": {
      "text/plain": [
       "4959.8382"
      ]
     },
     "execution_count": 22,
     "metadata": {},
     "output_type": "execute_result"
    }
   ],
   "source": [
    "df_deaths.memory_usage(deep=True).sum() / 1e6"
   ]
  },
  {
   "cell_type": "code",
   "execution_count": 23,
   "id": "a674deb1-3574-48ae-97f3-2786fd7e4144",
   "metadata": {},
   "outputs": [
    {
     "data": {
      "text/plain": [
       "(230823, 108)"
      ]
     },
     "execution_count": 23,
     "metadata": {},
     "output_type": "execute_result"
    }
   ],
   "source": [
    "ds[\"deaths\"].shape"
   ]
  },
  {
   "cell_type": "code",
   "execution_count": 24,
   "id": "1a69fefe-c09b-42a3-bba6-5ba497570980",
   "metadata": {},
   "outputs": [
    {
     "data": {
      "text/plain": [
       "(23125869, 7)"
      ]
     },
     "execution_count": 24,
     "metadata": {},
     "output_type": "execute_result"
    }
   ],
   "source": [
    "df_deaths.shape"
   ]
  },
  {
   "cell_type": "code",
   "execution_count": 33,
   "id": "ed0d0186-0816-49ee-a0ee-91a30b0862fa",
   "metadata": {},
   "outputs": [],
   "source": [
    "df_deaths = df_deaths.astype(\n",
    "    {\n",
    "        \"location\": \"category\",\n",
    "        \"metric\": \"category\",\n",
    "        \"age\": \"category\",\n",
    "        \"year\": \"category\",\n",
    "    }\n",
    ")"
   ]
  },
  {
   "cell_type": "code",
   "execution_count": 34,
   "id": "ca097274-b20b-4db4-ab19-88ae783ea630",
   "metadata": {},
   "outputs": [
    {
     "data": {
      "text/plain": [
       "555.06197"
      ]
     },
     "execution_count": 34,
     "metadata": {},
     "output_type": "execute_result"
    }
   ],
   "source": [
    "df_deaths.memory_usage(deep=True).sum() / 1e6"
   ]
  },
  {
   "cell_type": "code",
   "execution_count": 36,
   "id": "b15c8430-8d1a-4b65-88f2-3f17c5b7bd35",
   "metadata": {},
   "outputs": [
    {
     "data": {
      "text/plain": [
       "0           13109145\n",
       "1           13086528\n",
       "2           13215704\n",
       "3           13117346\n",
       "4           13122414\n",
       "              ...   \n",
       "23313118           9\n",
       "23313119           9\n",
       "23313120           8\n",
       "23313121           8\n",
       "23313122           8\n",
       "Name: value, Length: 23125869, dtype: int64"
      ]
     },
     "execution_count": 36,
     "metadata": {},
     "output_type": "execute_result"
    }
   ],
   "source": [
    "df_deaths.value"
   ]
  },
  {
   "cell_type": "markdown",
   "id": "a889d5e9-ba28-4842-82a3-b8e62c0b540d",
   "metadata": {},
   "source": [
    "## fertility"
   ]
  },
  {
   "cell_type": "code",
   "execution_count": null,
   "id": "fdc5a184-77e8-415a-9672-aaada8ba3086",
   "metadata": {},
   "outputs": [],
   "source": [
    "# df_fertility = process_fertility(ds[\"fertility\"], country_std)"
   ]
  },
  {
   "cell_type": "code",
   "execution_count": 8,
   "id": "0bf4a376-ce49-4f43-94a6-41854d6195d8",
   "metadata": {},
   "outputs": [],
   "source": [
    "import pandas as pd\n",
    "from typing import Dict, List, Any\n",
    "\n",
    "\n",
    "# rename columns\n",
    "COLUMNS_ID: Dict[str, str] = {\n",
    "    \"location\": \"location\",\n",
    "    \"time\": \"year\",\n",
    "    \"variant\": \"variant\",\n",
    "    \"agegrp\": \"age\",\n",
    "}\n",
    "COLUMNS_METRICS: Dict[str, Dict[str, Any]] = {\n",
    "    \"asfr\": {\n",
    "        \"name\": \"fertility_rate\",\n",
    "        \"sex\": \"all\",\n",
    "        \"operation\": lambda x: x,  # (x).round(2),\n",
    "    },\n",
    "    \"births\": {\n",
    "        \"name\": \"births\",\n",
    "        \"sex\": \"all\",\n",
    "        \"operation\": lambda x: (x * 1000),\n",
    "    },\n",
    "}\n",
    "COLUMNS_ORDER: List[str] = [\n",
    "    \"location\",\n",
    "    \"year\",\n",
    "    \"metric\",\n",
    "    \"sex\",\n",
    "    \"age\",\n",
    "    \"variant\",\n",
    "    \"value\",\n",
    "]"
   ]
  },
  {
   "cell_type": "code",
   "execution_count": 9,
   "id": "819fa7cf-b9ba-4e04-8706-6562a4d506a5",
   "metadata": {},
   "outputs": [],
   "source": [
    "df = ds[\"fertility\"]"
   ]
  },
  {
   "cell_type": "code",
   "execution_count": 63,
   "id": "d28a5155-8d37-4337-9b2d-66460f32614f",
   "metadata": {},
   "outputs": [
    {
     "data": {
      "text/html": [
       "<div>\n",
       "<style scoped>\n",
       "    .dataframe tbody tr th:only-of-type {\n",
       "        vertical-align: middle;\n",
       "    }\n",
       "\n",
       "    .dataframe tbody tr th {\n",
       "        vertical-align: top;\n",
       "    }\n",
       "\n",
       "    .dataframe thead th {\n",
       "        text-align: right;\n",
       "    }\n",
       "</style>\n",
       "<table border=\"1\" class=\"dataframe\">\n",
       "  <thead>\n",
       "    <tr style=\"text-align: right;\">\n",
       "      <th></th>\n",
       "      <th></th>\n",
       "      <th></th>\n",
       "      <th></th>\n",
       "      <th>notes</th>\n",
       "      <th>locid</th>\n",
       "      <th>iso3_code</th>\n",
       "      <th>iso2_code</th>\n",
       "      <th>sdmx_code</th>\n",
       "      <th>loctypename</th>\n",
       "      <th>parentid</th>\n",
       "      <th>_0</th>\n",
       "      <th>_1</th>\n",
       "      <th>_2</th>\n",
       "      <th>...</th>\n",
       "      <th>_91</th>\n",
       "      <th>_92</th>\n",
       "      <th>_93</th>\n",
       "      <th>_94</th>\n",
       "      <th>_95</th>\n",
       "      <th>_96</th>\n",
       "      <th>_97</th>\n",
       "      <th>_98</th>\n",
       "      <th>_99</th>\n",
       "      <th>_100plus</th>\n",
       "    </tr>\n",
       "    <tr>\n",
       "      <th>location</th>\n",
       "      <th>time</th>\n",
       "      <th>variant</th>\n",
       "      <th>sex</th>\n",
       "      <th></th>\n",
       "      <th></th>\n",
       "      <th></th>\n",
       "      <th></th>\n",
       "      <th></th>\n",
       "      <th></th>\n",
       "      <th></th>\n",
       "      <th></th>\n",
       "      <th></th>\n",
       "      <th></th>\n",
       "      <th></th>\n",
       "      <th></th>\n",
       "      <th></th>\n",
       "      <th></th>\n",
       "      <th></th>\n",
       "      <th></th>\n",
       "      <th></th>\n",
       "      <th></th>\n",
       "      <th></th>\n",
       "      <th></th>\n",
       "      <th></th>\n",
       "    </tr>\n",
       "  </thead>\n",
       "  <tbody>\n",
       "    <tr>\n",
       "      <th rowspan=\"5\" valign=\"top\">WORLD</th>\n",
       "      <th>1950</th>\n",
       "      <th>Estimates</th>\n",
       "      <th>Both</th>\n",
       "      <td>&lt;NA&gt;</td>\n",
       "      <td>900</td>\n",
       "      <td>NaN</td>\n",
       "      <td>NaN</td>\n",
       "      <td>1.0</td>\n",
       "      <td>World</td>\n",
       "      <td>0</td>\n",
       "      <td>13109.144531</td>\n",
       "      <td>3167.165039</td>\n",
       "      <td>1712.212036</td>\n",
       "      <td>...</td>\n",
       "      <td>80.033997</td>\n",
       "      <td>63.948002</td>\n",
       "      <td>48.561001</td>\n",
       "      <td>33.875000</td>\n",
       "      <td>23.332001</td>\n",
       "      <td>18.841000</td>\n",
       "      <td>14.687</td>\n",
       "      <td>10.589</td>\n",
       "      <td>6.988</td>\n",
       "      <td>8.169</td>\n",
       "    </tr>\n",
       "    <tr>\n",
       "      <th>1951</th>\n",
       "      <th>Estimates</th>\n",
       "      <th>Both</th>\n",
       "      <td>&lt;NA&gt;</td>\n",
       "      <td>900</td>\n",
       "      <td>NaN</td>\n",
       "      <td>NaN</td>\n",
       "      <td>1.0</td>\n",
       "      <td>World</td>\n",
       "      <td>0</td>\n",
       "      <td>13086.528320</td>\n",
       "      <td>3165.274902</td>\n",
       "      <td>1755.954956</td>\n",
       "      <td>...</td>\n",
       "      <td>80.968002</td>\n",
       "      <td>61.313000</td>\n",
       "      <td>46.824001</td>\n",
       "      <td>34.838001</td>\n",
       "      <td>23.205999</td>\n",
       "      <td>15.894000</td>\n",
       "      <td>12.341</td>\n",
       "      <td>9.258</td>\n",
       "      <td>6.472</td>\n",
       "      <td>8.814</td>\n",
       "    </tr>\n",
       "    <tr>\n",
       "      <th>1952</th>\n",
       "      <th>Estimates</th>\n",
       "      <th>Both</th>\n",
       "      <td>&lt;NA&gt;</td>\n",
       "      <td>900</td>\n",
       "      <td>NaN</td>\n",
       "      <td>NaN</td>\n",
       "      <td>1.0</td>\n",
       "      <td>World</td>\n",
       "      <td>0</td>\n",
       "      <td>13215.704102</td>\n",
       "      <td>3110.709961</td>\n",
       "      <td>1723.560059</td>\n",
       "      <td>...</td>\n",
       "      <td>78.932999</td>\n",
       "      <td>60.748001</td>\n",
       "      <td>44.159000</td>\n",
       "      <td>32.875999</td>\n",
       "      <td>23.612000</td>\n",
       "      <td>15.530000</td>\n",
       "      <td>10.346</td>\n",
       "      <td>7.746</td>\n",
       "      <td>5.634</td>\n",
       "      <td>8.841</td>\n",
       "    </tr>\n",
       "    <tr>\n",
       "      <th>1953</th>\n",
       "      <th>Estimates</th>\n",
       "      <th>Both</th>\n",
       "      <td>&lt;NA&gt;</td>\n",
       "      <td>900</td>\n",
       "      <td>NaN</td>\n",
       "      <td>NaN</td>\n",
       "      <td>1.0</td>\n",
       "      <td>World</td>\n",
       "      <td>0</td>\n",
       "      <td>13117.345703</td>\n",
       "      <td>3111.235107</td>\n",
       "      <td>1718.802002</td>\n",
       "      <td>...</td>\n",
       "      <td>78.752998</td>\n",
       "      <td>61.493000</td>\n",
       "      <td>45.933998</td>\n",
       "      <td>32.474998</td>\n",
       "      <td>23.461000</td>\n",
       "      <td>16.488001</td>\n",
       "      <td>10.610</td>\n",
       "      <td>6.896</td>\n",
       "      <td>4.991</td>\n",
       "      <td>8.757</td>\n",
       "    </tr>\n",
       "    <tr>\n",
       "      <th>1954</th>\n",
       "      <th>Estimates</th>\n",
       "      <th>Both</th>\n",
       "      <td>&lt;NA&gt;</td>\n",
       "      <td>900</td>\n",
       "      <td>NaN</td>\n",
       "      <td>NaN</td>\n",
       "      <td>1.0</td>\n",
       "      <td>World</td>\n",
       "      <td>0</td>\n",
       "      <td>13122.414062</td>\n",
       "      <td>3110.542969</td>\n",
       "      <td>1723.839966</td>\n",
       "      <td>...</td>\n",
       "      <td>77.755997</td>\n",
       "      <td>60.405998</td>\n",
       "      <td>45.574001</td>\n",
       "      <td>33.095001</td>\n",
       "      <td>22.931999</td>\n",
       "      <td>16.193001</td>\n",
       "      <td>11.073</td>\n",
       "      <td>6.991</td>\n",
       "      <td>4.446</td>\n",
       "      <td>8.318</td>\n",
       "    </tr>\n",
       "    <tr>\n",
       "      <th>...</th>\n",
       "      <th>...</th>\n",
       "      <th>...</th>\n",
       "      <th>...</th>\n",
       "      <td>...</td>\n",
       "      <td>...</td>\n",
       "      <td>...</td>\n",
       "      <td>...</td>\n",
       "      <td>...</td>\n",
       "      <td>...</td>\n",
       "      <td>...</td>\n",
       "      <td>...</td>\n",
       "      <td>...</td>\n",
       "      <td>...</td>\n",
       "      <td>...</td>\n",
       "      <td>...</td>\n",
       "      <td>...</td>\n",
       "      <td>...</td>\n",
       "      <td>...</td>\n",
       "      <td>...</td>\n",
       "      <td>...</td>\n",
       "      <td>...</td>\n",
       "      <td>...</td>\n",
       "      <td>...</td>\n",
       "      <td>...</td>\n",
       "    </tr>\n",
       "    <tr>\n",
       "      <th rowspan=\"5\" valign=\"top\">Wallis and Futuna Islands</th>\n",
       "      <th>2096</th>\n",
       "      <th>Low</th>\n",
       "      <th>Female</th>\n",
       "      <td>2</td>\n",
       "      <td>876</td>\n",
       "      <td>WLF</td>\n",
       "      <td>WF</td>\n",
       "      <td>876.0</td>\n",
       "      <td>Country/Area</td>\n",
       "      <td>957</td>\n",
       "      <td>0.000000</td>\n",
       "      <td>0.000000</td>\n",
       "      <td>0.000000</td>\n",
       "      <td>...</td>\n",
       "      <td>0.003000</td>\n",
       "      <td>0.003000</td>\n",
       "      <td>0.003000</td>\n",
       "      <td>0.003000</td>\n",
       "      <td>0.002000</td>\n",
       "      <td>0.002000</td>\n",
       "      <td>0.001</td>\n",
       "      <td>0.001</td>\n",
       "      <td>0.002</td>\n",
       "      <td>0.009</td>\n",
       "    </tr>\n",
       "    <tr>\n",
       "      <th>2097</th>\n",
       "      <th>Low</th>\n",
       "      <th>Female</th>\n",
       "      <td>2</td>\n",
       "      <td>876</td>\n",
       "      <td>WLF</td>\n",
       "      <td>WF</td>\n",
       "      <td>876.0</td>\n",
       "      <td>Country/Area</td>\n",
       "      <td>957</td>\n",
       "      <td>0.000000</td>\n",
       "      <td>0.000000</td>\n",
       "      <td>0.000000</td>\n",
       "      <td>...</td>\n",
       "      <td>0.003000</td>\n",
       "      <td>0.003000</td>\n",
       "      <td>0.003000</td>\n",
       "      <td>0.003000</td>\n",
       "      <td>0.003000</td>\n",
       "      <td>0.002000</td>\n",
       "      <td>0.002</td>\n",
       "      <td>0.001</td>\n",
       "      <td>0.001</td>\n",
       "      <td>0.009</td>\n",
       "    </tr>\n",
       "    <tr>\n",
       "      <th>2098</th>\n",
       "      <th>Low</th>\n",
       "      <th>Female</th>\n",
       "      <td>2</td>\n",
       "      <td>876</td>\n",
       "      <td>WLF</td>\n",
       "      <td>WF</td>\n",
       "      <td>876.0</td>\n",
       "      <td>Country/Area</td>\n",
       "      <td>957</td>\n",
       "      <td>0.000000</td>\n",
       "      <td>0.000000</td>\n",
       "      <td>0.000000</td>\n",
       "      <td>...</td>\n",
       "      <td>0.003000</td>\n",
       "      <td>0.003000</td>\n",
       "      <td>0.003000</td>\n",
       "      <td>0.003000</td>\n",
       "      <td>0.003000</td>\n",
       "      <td>0.002000</td>\n",
       "      <td>0.002</td>\n",
       "      <td>0.002</td>\n",
       "      <td>0.001</td>\n",
       "      <td>0.008</td>\n",
       "    </tr>\n",
       "    <tr>\n",
       "      <th>2099</th>\n",
       "      <th>Low</th>\n",
       "      <th>Female</th>\n",
       "      <td>2</td>\n",
       "      <td>876</td>\n",
       "      <td>WLF</td>\n",
       "      <td>WF</td>\n",
       "      <td>876.0</td>\n",
       "      <td>Country/Area</td>\n",
       "      <td>957</td>\n",
       "      <td>0.000000</td>\n",
       "      <td>0.000000</td>\n",
       "      <td>0.000000</td>\n",
       "      <td>...</td>\n",
       "      <td>0.003000</td>\n",
       "      <td>0.003000</td>\n",
       "      <td>0.003000</td>\n",
       "      <td>0.003000</td>\n",
       "      <td>0.003000</td>\n",
       "      <td>0.003000</td>\n",
       "      <td>0.002</td>\n",
       "      <td>0.002</td>\n",
       "      <td>0.002</td>\n",
       "      <td>0.008</td>\n",
       "    </tr>\n",
       "    <tr>\n",
       "      <th>2100</th>\n",
       "      <th>Low</th>\n",
       "      <th>Female</th>\n",
       "      <td>2</td>\n",
       "      <td>876</td>\n",
       "      <td>WLF</td>\n",
       "      <td>WF</td>\n",
       "      <td>876.0</td>\n",
       "      <td>Country/Area</td>\n",
       "      <td>957</td>\n",
       "      <td>0.000000</td>\n",
       "      <td>0.000000</td>\n",
       "      <td>0.000000</td>\n",
       "      <td>...</td>\n",
       "      <td>0.003000</td>\n",
       "      <td>0.003000</td>\n",
       "      <td>0.003000</td>\n",
       "      <td>0.003000</td>\n",
       "      <td>0.003000</td>\n",
       "      <td>0.003000</td>\n",
       "      <td>0.003</td>\n",
       "      <td>0.002</td>\n",
       "      <td>0.002</td>\n",
       "      <td>0.008</td>\n",
       "    </tr>\n",
       "  </tbody>\n",
       "</table>\n",
       "<p>230823 rows × 108 columns</p>\n",
       "</div>"
      ],
      "text/plain": [
       "                                                notes locid iso3_code  \\\n",
       "location                  time variant   sex                            \n",
       "WORLD                     1950 Estimates Both    <NA>   900       NaN   \n",
       "                          1951 Estimates Both    <NA>   900       NaN   \n",
       "                          1952 Estimates Both    <NA>   900       NaN   \n",
       "                          1953 Estimates Both    <NA>   900       NaN   \n",
       "                          1954 Estimates Both    <NA>   900       NaN   \n",
       "...                                               ...   ...       ...   \n",
       "Wallis and Futuna Islands 2096 Low       Female     2   876       WLF   \n",
       "                          2097 Low       Female     2   876       WLF   \n",
       "                          2098 Low       Female     2   876       WLF   \n",
       "                          2099 Low       Female     2   876       WLF   \n",
       "                          2100 Low       Female     2   876       WLF   \n",
       "\n",
       "                                                iso2_code sdmx_code  \\\n",
       "location                  time variant   sex                          \n",
       "WORLD                     1950 Estimates Both         NaN       1.0   \n",
       "                          1951 Estimates Both         NaN       1.0   \n",
       "                          1952 Estimates Both         NaN       1.0   \n",
       "                          1953 Estimates Both         NaN       1.0   \n",
       "                          1954 Estimates Both         NaN       1.0   \n",
       "...                                                   ...       ...   \n",
       "Wallis and Futuna Islands 2096 Low       Female        WF     876.0   \n",
       "                          2097 Low       Female        WF     876.0   \n",
       "                          2098 Low       Female        WF     876.0   \n",
       "                          2099 Low       Female        WF     876.0   \n",
       "                          2100 Low       Female        WF     876.0   \n",
       "\n",
       "                                                  loctypename parentid  \\\n",
       "location                  time variant   sex                             \n",
       "WORLD                     1950 Estimates Both           World        0   \n",
       "                          1951 Estimates Both           World        0   \n",
       "                          1952 Estimates Both           World        0   \n",
       "                          1953 Estimates Both           World        0   \n",
       "                          1954 Estimates Both           World        0   \n",
       "...                                                       ...      ...   \n",
       "Wallis and Futuna Islands 2096 Low       Female  Country/Area      957   \n",
       "                          2097 Low       Female  Country/Area      957   \n",
       "                          2098 Low       Female  Country/Area      957   \n",
       "                          2099 Low       Female  Country/Area      957   \n",
       "                          2100 Low       Female  Country/Area      957   \n",
       "\n",
       "                                                           _0           _1  \\\n",
       "location                  time variant   sex                                 \n",
       "WORLD                     1950 Estimates Both    13109.144531  3167.165039   \n",
       "                          1951 Estimates Both    13086.528320  3165.274902   \n",
       "                          1952 Estimates Both    13215.704102  3110.709961   \n",
       "                          1953 Estimates Both    13117.345703  3111.235107   \n",
       "                          1954 Estimates Both    13122.414062  3110.542969   \n",
       "...                                                       ...          ...   \n",
       "Wallis and Futuna Islands 2096 Low       Female      0.000000     0.000000   \n",
       "                          2097 Low       Female      0.000000     0.000000   \n",
       "                          2098 Low       Female      0.000000     0.000000   \n",
       "                          2099 Low       Female      0.000000     0.000000   \n",
       "                          2100 Low       Female      0.000000     0.000000   \n",
       "\n",
       "                                                          _2  ...        _91  \\\n",
       "location                  time variant   sex                  ...              \n",
       "WORLD                     1950 Estimates Both    1712.212036  ...  80.033997   \n",
       "                          1951 Estimates Both    1755.954956  ...  80.968002   \n",
       "                          1952 Estimates Both    1723.560059  ...  78.932999   \n",
       "                          1953 Estimates Both    1718.802002  ...  78.752998   \n",
       "                          1954 Estimates Both    1723.839966  ...  77.755997   \n",
       "...                                                      ...  ...        ...   \n",
       "Wallis and Futuna Islands 2096 Low       Female     0.000000  ...   0.003000   \n",
       "                          2097 Low       Female     0.000000  ...   0.003000   \n",
       "                          2098 Low       Female     0.000000  ...   0.003000   \n",
       "                          2099 Low       Female     0.000000  ...   0.003000   \n",
       "                          2100 Low       Female     0.000000  ...   0.003000   \n",
       "\n",
       "                                                       _92        _93  \\\n",
       "location                  time variant   sex                            \n",
       "WORLD                     1950 Estimates Both    63.948002  48.561001   \n",
       "                          1951 Estimates Both    61.313000  46.824001   \n",
       "                          1952 Estimates Both    60.748001  44.159000   \n",
       "                          1953 Estimates Both    61.493000  45.933998   \n",
       "                          1954 Estimates Both    60.405998  45.574001   \n",
       "...                                                    ...        ...   \n",
       "Wallis and Futuna Islands 2096 Low       Female   0.003000   0.003000   \n",
       "                          2097 Low       Female   0.003000   0.003000   \n",
       "                          2098 Low       Female   0.003000   0.003000   \n",
       "                          2099 Low       Female   0.003000   0.003000   \n",
       "                          2100 Low       Female   0.003000   0.003000   \n",
       "\n",
       "                                                       _94        _95  \\\n",
       "location                  time variant   sex                            \n",
       "WORLD                     1950 Estimates Both    33.875000  23.332001   \n",
       "                          1951 Estimates Both    34.838001  23.205999   \n",
       "                          1952 Estimates Both    32.875999  23.612000   \n",
       "                          1953 Estimates Both    32.474998  23.461000   \n",
       "                          1954 Estimates Both    33.095001  22.931999   \n",
       "...                                                    ...        ...   \n",
       "Wallis and Futuna Islands 2096 Low       Female   0.003000   0.002000   \n",
       "                          2097 Low       Female   0.003000   0.003000   \n",
       "                          2098 Low       Female   0.003000   0.003000   \n",
       "                          2099 Low       Female   0.003000   0.003000   \n",
       "                          2100 Low       Female   0.003000   0.003000   \n",
       "\n",
       "                                                       _96     _97     _98  \\\n",
       "location                  time variant   sex                                 \n",
       "WORLD                     1950 Estimates Both    18.841000  14.687  10.589   \n",
       "                          1951 Estimates Both    15.894000  12.341   9.258   \n",
       "                          1952 Estimates Both    15.530000  10.346   7.746   \n",
       "                          1953 Estimates Both    16.488001  10.610   6.896   \n",
       "                          1954 Estimates Both    16.193001  11.073   6.991   \n",
       "...                                                    ...     ...     ...   \n",
       "Wallis and Futuna Islands 2096 Low       Female   0.002000   0.001   0.001   \n",
       "                          2097 Low       Female   0.002000   0.002   0.001   \n",
       "                          2098 Low       Female   0.002000   0.002   0.002   \n",
       "                          2099 Low       Female   0.003000   0.002   0.002   \n",
       "                          2100 Low       Female   0.003000   0.003   0.002   \n",
       "\n",
       "                                                   _99  _100plus  \n",
       "location                  time variant   sex                      \n",
       "WORLD                     1950 Estimates Both    6.988     8.169  \n",
       "                          1951 Estimates Both    6.472     8.814  \n",
       "                          1952 Estimates Both    5.634     8.841  \n",
       "                          1953 Estimates Both    4.991     8.757  \n",
       "                          1954 Estimates Both    4.446     8.318  \n",
       "...                                                ...       ...  \n",
       "Wallis and Futuna Islands 2096 Low       Female  0.002     0.009  \n",
       "                          2097 Low       Female  0.001     0.009  \n",
       "                          2098 Low       Female  0.001     0.008  \n",
       "                          2099 Low       Female  0.002     0.008  \n",
       "                          2100 Low       Female  0.002     0.008  \n",
       "\n",
       "[230823 rows x 108 columns]"
      ]
     },
     "execution_count": 63,
     "metadata": {},
     "output_type": "execute_result"
    }
   ],
   "source": [
    "ds[\"deaths\"]"
   ]
  },
  {
   "cell_type": "code",
   "execution_count": null,
   "id": "c8e1472a-a8ee-4da8-9572-07bd48f5c4c6",
   "metadata": {},
   "outputs": [],
   "source": [
    "df_deaths = process_deaths(ds[\"deaths\"], country_std)"
   ]
  },
  {
   "cell_type": "code",
   "execution_count": 45,
   "id": "96803403-2dd7-48eb-92cb-52375c0b1bd1",
   "metadata": {},
   "outputs": [],
   "source": [
    "df_population = process_population(ds[\"population\"], country_std)\n",
    "df_fertility = process_fertility(ds[\"fertility\"], country_std)\n",
    "df_demographics = process_demographics(ds[\"demographics\"], country_std)\n",
    "df_depratio = process_depratio(ds[\"dependency_ratio\"], country_std)\n",
    "df_deaths = process_deaths(ds[\"deaths\"], country_std)"
   ]
  },
  {
   "cell_type": "code",
   "execution_count": 47,
   "id": "f10b013c-e32e-4de8-b869-f4db38abb2fc",
   "metadata": {},
   "outputs": [],
   "source": [
    "dfs = [df_population, df_fertility, df_demographics, df_deaths, df_depratio]"
   ]
  },
  {
   "cell_type": "code",
   "execution_count": 53,
   "id": "7d3a32b4-46e7-4ac2-9e14-9e64719173b8",
   "metadata": {},
   "outputs": [],
   "source": [
    "v = []\n",
    "for x in dfs:\n",
    "    # print(x.dtypes)\n",
    "    vv = x.age.unique()\n",
    "    v.extend(vv)"
   ]
  },
  {
   "cell_type": "code",
   "execution_count": 70,
   "id": "bc06444b-1b2f-4560-bc28-529d266f733d",
   "metadata": {},
   "outputs": [
    {
     "data": {
      "text/html": [
       "<div>\n",
       "<style scoped>\n",
       "    .dataframe tbody tr th:only-of-type {\n",
       "        vertical-align: middle;\n",
       "    }\n",
       "\n",
       "    .dataframe tbody tr th {\n",
       "        vertical-align: top;\n",
       "    }\n",
       "\n",
       "    .dataframe thead th {\n",
       "        text-align: right;\n",
       "    }\n",
       "</style>\n",
       "<table border=\"1\" class=\"dataframe\">\n",
       "  <thead>\n",
       "    <tr style=\"text-align: right;\">\n",
       "      <th></th>\n",
       "      <th>location</th>\n",
       "      <th>year</th>\n",
       "      <th>metric</th>\n",
       "      <th>sex</th>\n",
       "      <th>age</th>\n",
       "      <th>variant</th>\n",
       "      <th>value</th>\n",
       "    </tr>\n",
       "  </thead>\n",
       "  <tbody>\n",
       "    <tr>\n",
       "      <th>0</th>\n",
       "      <td>World</td>\n",
       "      <td>1950</td>\n",
       "      <td>fertility_rate</td>\n",
       "      <td>all</td>\n",
       "      <td>10-14</td>\n",
       "      <td>medium</td>\n",
       "      <td>4.539000</td>\n",
       "    </tr>\n",
       "    <tr>\n",
       "      <th>1</th>\n",
       "      <td>World</td>\n",
       "      <td>1950</td>\n",
       "      <td>fertility_rate</td>\n",
       "      <td>all</td>\n",
       "      <td>15-19</td>\n",
       "      <td>medium</td>\n",
       "      <td>91.083000</td>\n",
       "    </tr>\n",
       "    <tr>\n",
       "      <th>2</th>\n",
       "      <td>World</td>\n",
       "      <td>1950</td>\n",
       "      <td>fertility_rate</td>\n",
       "      <td>all</td>\n",
       "      <td>20-24</td>\n",
       "      <td>medium</td>\n",
       "      <td>229.070007</td>\n",
       "    </tr>\n",
       "    <tr>\n",
       "      <th>3</th>\n",
       "      <td>World</td>\n",
       "      <td>1950</td>\n",
       "      <td>fertility_rate</td>\n",
       "      <td>all</td>\n",
       "      <td>25-29</td>\n",
       "      <td>medium</td>\n",
       "      <td>240.572998</td>\n",
       "    </tr>\n",
       "    <tr>\n",
       "      <th>4</th>\n",
       "      <td>World</td>\n",
       "      <td>1950</td>\n",
       "      <td>fertility_rate</td>\n",
       "      <td>all</td>\n",
       "      <td>30-34</td>\n",
       "      <td>medium</td>\n",
       "      <td>195.835999</td>\n",
       "    </tr>\n",
       "    <tr>\n",
       "      <th>...</th>\n",
       "      <td>...</td>\n",
       "      <td>...</td>\n",
       "      <td>...</td>\n",
       "      <td>...</td>\n",
       "      <td>...</td>\n",
       "      <td>...</td>\n",
       "      <td>...</td>\n",
       "    </tr>\n",
       "    <tr>\n",
       "      <th>3509401</th>\n",
       "      <td>Wallis and Futuna</td>\n",
       "      <td>2100</td>\n",
       "      <td>births</td>\n",
       "      <td>all</td>\n",
       "      <td>30-34</td>\n",
       "      <td>momentum</td>\n",
       "      <td>54.000000</td>\n",
       "    </tr>\n",
       "    <tr>\n",
       "      <th>3509402</th>\n",
       "      <td>Wallis and Futuna</td>\n",
       "      <td>2100</td>\n",
       "      <td>births</td>\n",
       "      <td>all</td>\n",
       "      <td>35-39</td>\n",
       "      <td>momentum</td>\n",
       "      <td>30.000000</td>\n",
       "    </tr>\n",
       "    <tr>\n",
       "      <th>3509403</th>\n",
       "      <td>Wallis and Futuna</td>\n",
       "      <td>2100</td>\n",
       "      <td>births</td>\n",
       "      <td>all</td>\n",
       "      <td>40-44</td>\n",
       "      <td>momentum</td>\n",
       "      <td>8.000000</td>\n",
       "    </tr>\n",
       "    <tr>\n",
       "      <th>3509404</th>\n",
       "      <td>Wallis and Futuna</td>\n",
       "      <td>2100</td>\n",
       "      <td>births</td>\n",
       "      <td>all</td>\n",
       "      <td>45-49</td>\n",
       "      <td>momentum</td>\n",
       "      <td>0.000000</td>\n",
       "    </tr>\n",
       "    <tr>\n",
       "      <th>3509405</th>\n",
       "      <td>Wallis and Futuna</td>\n",
       "      <td>2100</td>\n",
       "      <td>births</td>\n",
       "      <td>all</td>\n",
       "      <td>50-54</td>\n",
       "      <td>momentum</td>\n",
       "      <td>0.000000</td>\n",
       "    </tr>\n",
       "  </tbody>\n",
       "</table>\n",
       "<p>3481218 rows × 7 columns</p>\n",
       "</div>"
      ],
      "text/plain": [
       "                  location  year          metric  sex    age   variant  \\\n",
       "0                    World  1950  fertility_rate  all  10-14    medium   \n",
       "1                    World  1950  fertility_rate  all  15-19    medium   \n",
       "2                    World  1950  fertility_rate  all  20-24    medium   \n",
       "3                    World  1950  fertility_rate  all  25-29    medium   \n",
       "4                    World  1950  fertility_rate  all  30-34    medium   \n",
       "...                    ...   ...             ...  ...    ...       ...   \n",
       "3509401  Wallis and Futuna  2100          births  all  30-34  momentum   \n",
       "3509402  Wallis and Futuna  2100          births  all  35-39  momentum   \n",
       "3509403  Wallis and Futuna  2100          births  all  40-44  momentum   \n",
       "3509404  Wallis and Futuna  2100          births  all  45-49  momentum   \n",
       "3509405  Wallis and Futuna  2100          births  all  50-54  momentum   \n",
       "\n",
       "              value  \n",
       "0          4.539000  \n",
       "1         91.083000  \n",
       "2        229.070007  \n",
       "3        240.572998  \n",
       "4        195.835999  \n",
       "...             ...  \n",
       "3509401   54.000000  \n",
       "3509402   30.000000  \n",
       "3509403    8.000000  \n",
       "3509404    0.000000  \n",
       "3509405    0.000000  \n",
       "\n",
       "[3481218 rows x 7 columns]"
      ]
     },
     "execution_count": 70,
     "metadata": {},
     "output_type": "execute_result"
    }
   ],
   "source": [
    "df_fertility"
   ]
  },
  {
   "cell_type": "code",
   "execution_count": 56,
   "id": "4d5bfedb-541a-4973-914e-aa7525585379",
   "metadata": {
    "collapsed": true,
    "jupyter": {
     "outputs_hidden": true
    },
    "tags": []
   },
   "outputs": [
    {
     "data": {
      "text/plain": [
       "{'0',\n",
       " '1',\n",
       " '10',\n",
       " '11',\n",
       " '12',\n",
       " '13',\n",
       " '14',\n",
       " '15',\n",
       " '16',\n",
       " '17',\n",
       " '18',\n",
       " '19',\n",
       " '2',\n",
       " '20',\n",
       " '21',\n",
       " '22',\n",
       " '23',\n",
       " '24',\n",
       " '25',\n",
       " '26',\n",
       " '27',\n",
       " '28',\n",
       " '29',\n",
       " '3',\n",
       " '30',\n",
       " '31',\n",
       " '32',\n",
       " '33',\n",
       " '34',\n",
       " '35',\n",
       " '36',\n",
       " '37',\n",
       " '38',\n",
       " '39',\n",
       " '4',\n",
       " '40',\n",
       " '41',\n",
       " '42',\n",
       " '43',\n",
       " '44',\n",
       " '45',\n",
       " '46',\n",
       " '47',\n",
       " '48',\n",
       " '49',\n",
       " '5',\n",
       " '50',\n",
       " '51',\n",
       " '52',\n",
       " '53',\n",
       " '54',\n",
       " '55',\n",
       " '56',\n",
       " '57',\n",
       " '58',\n",
       " '59',\n",
       " '6',\n",
       " '60',\n",
       " '61',\n",
       " '62',\n",
       " '63',\n",
       " '64',\n",
       " '65',\n",
       " '66',\n",
       " '67',\n",
       " '68',\n",
       " '69',\n",
       " '7',\n",
       " '70',\n",
       " '71',\n",
       " '72',\n",
       " '73',\n",
       " '74',\n",
       " '75',\n",
       " '76',\n",
       " '77',\n",
       " '78',\n",
       " '79',\n",
       " '8',\n",
       " '80',\n",
       " '81',\n",
       " '82',\n",
       " '83',\n",
       " '84',\n",
       " '85',\n",
       " '86',\n",
       " '87',\n",
       " '88',\n",
       " '89',\n",
       " '9',\n",
       " '90',\n",
       " '91',\n",
       " '92',\n",
       " '93',\n",
       " '94',\n",
       " '95',\n",
       " '96',\n",
       " '97',\n",
       " '98',\n",
       " '99'}"
      ]
     },
     "execution_count": 56,
     "metadata": {},
     "output_type": "execute_result"
    }
   ],
   "source": [
    "{\n",
    "    **{str(v) for v in range(100)},\n",
    "    **{\n",
    "        \"10-14\",\n",
    "        \"15-19\",\n",
    "        \"20-24\",\n",
    "        \"25-29\",\n",
    "        \"30-34\",\n",
    "        \"35-39\",\n",
    "        \"40-44\",\n",
    "        \"45-49\",\n",
    "        \"50-54\",\n",
    "    },\n",
    "    **{\n",
    "        \"0-4\",\n",
    "        \"1-4\",\n",
    "        \"5-14\",\n",
    "        \"15-24\",\n",
    "        \"20-29\",\n",
    "        \"25-64\",\n",
    "        \"30-39\",\n",
    "        \"40-49\",\n",
    "        \"50-59\",\n",
    "        \"60-69\",\n",
    "        \"65-\",\n",
    "        \"70-79\",\n",
    "        \"80-89\",\n",
    "        \"90-99\",\n",
    "        \"100-\",\n",
    "        \"100+\",  # borrar\n",
    "    },\n",
    "    **{\"all\", \"at birth\", \"15\", \"65\", \"80\"},\n",
    "    **{\n",
    "        \"none\",\n",
    "    },\n",
    "}"
   ]
  },
  {
   "cell_type": "code",
   "execution_count": 54,
   "id": "41ab3b42-f84c-4399-b217-1b07c4b3b7d9",
   "metadata": {},
   "outputs": [
    {
     "data": {
      "text/plain": [
       "{'0',\n",
       " '0-4',\n",
       " '1',\n",
       " '1-4',\n",
       " '10',\n",
       " '10-14',\n",
       " '100+',\n",
       " '100-',\n",
       " '11',\n",
       " '12',\n",
       " '13',\n",
       " '14',\n",
       " '15',\n",
       " '15-19',\n",
       " '15-24',\n",
       " '16',\n",
       " '17',\n",
       " '18',\n",
       " '19',\n",
       " '2',\n",
       " '20',\n",
       " '20-24',\n",
       " '20-29',\n",
       " '21',\n",
       " '22',\n",
       " '23',\n",
       " '24',\n",
       " '25',\n",
       " '25-29',\n",
       " '25-64',\n",
       " '26',\n",
       " '27',\n",
       " '28',\n",
       " '29',\n",
       " '3',\n",
       " '30',\n",
       " '30-34',\n",
       " '30-39',\n",
       " '31',\n",
       " '32',\n",
       " '33',\n",
       " '34',\n",
       " '35',\n",
       " '35-39',\n",
       " '36',\n",
       " '37',\n",
       " '38',\n",
       " '39',\n",
       " '4',\n",
       " '40',\n",
       " '40-44',\n",
       " '40-49',\n",
       " '41',\n",
       " '42',\n",
       " '43',\n",
       " '44',\n",
       " '45',\n",
       " '45-49',\n",
       " '46',\n",
       " '47',\n",
       " '48',\n",
       " '49',\n",
       " '5',\n",
       " '5-14',\n",
       " '5-9',\n",
       " '50',\n",
       " '50-54',\n",
       " '50-59',\n",
       " '51',\n",
       " '52',\n",
       " '53',\n",
       " '54',\n",
       " '55',\n",
       " '56',\n",
       " '57',\n",
       " '58',\n",
       " '59',\n",
       " '6',\n",
       " '60',\n",
       " '60-69',\n",
       " '61',\n",
       " '62',\n",
       " '63',\n",
       " '64',\n",
       " '65',\n",
       " '65-',\n",
       " '66',\n",
       " '67',\n",
       " '68',\n",
       " '69',\n",
       " '7',\n",
       " '70',\n",
       " '70-79',\n",
       " '71',\n",
       " '72',\n",
       " '73',\n",
       " '74',\n",
       " '75',\n",
       " '76',\n",
       " '77',\n",
       " '78',\n",
       " '79',\n",
       " '8',\n",
       " '80',\n",
       " '80-89',\n",
       " '81',\n",
       " '82',\n",
       " '83',\n",
       " '84',\n",
       " '85',\n",
       " '86',\n",
       " '87',\n",
       " '88',\n",
       " '89',\n",
       " '9',\n",
       " '90',\n",
       " '90-99',\n",
       " '91',\n",
       " '92',\n",
       " '93',\n",
       " '94',\n",
       " '95',\n",
       " '96',\n",
       " '97',\n",
       " '98',\n",
       " '99',\n",
       " 'all',\n",
       " 'at birth',\n",
       " 'none'}"
      ]
     },
     "execution_count": 54,
     "metadata": {},
     "output_type": "execute_result"
    }
   ],
   "source": [
    "set(v)"
   ]
  },
  {
   "cell_type": "code",
   "execution_count": 3,
   "id": "d3d0771b-6744-484b-a418-6613749297d3",
   "metadata": {},
   "outputs": [
    {
     "name": "stdout",
     "output_type": "stream",
     "text": [
      "1\n",
      "2\n",
      "3\n",
      "41\n",
      "42\n",
      "43\n",
      "44\n",
      "45\n",
      "46\n"
     ]
    }
   ],
   "source": [
    "print(1)\n",
    "meadow_path = base_path / \"data/meadow/un/2022/un_wpp\"\n",
    "ds = catalog.Dataset(meadow_path)\n",
    "# country rename\n",
    "country_std = load_country_mapping()\n",
    "print(2)\n",
    "# pocess\n",
    "df_population = process_population(ds[\"population\"], country_std)\n",
    "df_fertility = process_fertility(ds[\"fertility\"], country_std)\n",
    "df_demographics = process_demographics(ds[\"demographics\"], country_std)\n",
    "df_depratio = process_depratio(ds[\"dependency_ratio\"], country_std)\n",
    "df_deaths = process_deaths(ds[\"deaths\"], country_std)\n",
    "print(3)\n",
    "# merge\n",
    "df = merge_dfs([df_population, df_fertility, df_demographics, df_depratio, df_deaths])"
   ]
  },
  {
   "cell_type": "code",
   "execution_count": null,
   "id": "a5590299-e376-48ce-9bb5-2be257d1a22b",
   "metadata": {},
   "outputs": [
    {
     "name": "stdout",
     "output_type": "stream",
     "text": [
      "4\n"
     ]
    }
   ],
   "source": [
    "print(4)\n",
    "# wide format\n",
    "df_wide = get_wide_df(df)"
   ]
  },
  {
   "cell_type": "code",
   "execution_count": 7,
   "id": "46854070-0102-42d7-8241-03e9ce11a698",
   "metadata": {},
   "outputs": [
    {
     "data": {
      "text/plain": [
       "location      object\n",
       "year          uint64\n",
       "metric        object\n",
       "sex         category\n",
       "age           object\n",
       "variant     category\n",
       "value        float64\n",
       "dtype: object"
      ]
     },
     "execution_count": 7,
     "metadata": {},
     "output_type": "execute_result"
    }
   ],
   "source": [
    "df_depratio.dtypes"
   ]
  },
  {
   "cell_type": "code",
   "execution_count": 44,
   "id": "76823efe-6f1d-4df2-bb0d-f4440b349c99",
   "metadata": {},
   "outputs": [
    {
     "ename": "NameError",
     "evalue": "name 'df_fertility' is not defined",
     "output_type": "error",
     "traceback": [
      "\u001b[0;31m---------------------------------------------------------------------------\u001b[0m",
      "\u001b[0;31mNameError\u001b[0m                                 Traceback (most recent call last)",
      "\u001b[0;32m/tmp/ipykernel_2657696/389691628.py\u001b[0m in \u001b[0;36m<cell line: 1>\u001b[0;34m()\u001b[0m\n\u001b[0;32m----> 1\u001b[0;31m \u001b[0mdf_fertility\u001b[0m\u001b[0;34m\u001b[0m\u001b[0;34m\u001b[0m\u001b[0m\n\u001b[0m",
      "\u001b[0;31mNameError\u001b[0m: name 'df_fertility' is not defined"
     ]
    }
   ],
   "source": [
    "df_fertility"
   ]
  },
  {
   "cell_type": "code",
   "execution_count": null,
   "id": "6b8006b4-7f96-428f-9cf4-845a23bac47b",
   "metadata": {},
   "outputs": [],
   "source": []
  }
 ],
 "metadata": {
  "kernelspec": {
   "display_name": "Python 3",
   "language": "python",
   "name": "python3"
  },
  "language_info": {
   "codemirror_mode": {
    "name": "ipython",
    "version": 3
   },
   "file_extension": ".py",
   "mimetype": "text/x-python",
   "name": "python",
   "nbconvert_exporter": "python",
   "pygments_lexer": "ipython3",
   "version": "3.9.5"
  }
 },
 "nbformat": 4,
 "nbformat_minor": 5
}
