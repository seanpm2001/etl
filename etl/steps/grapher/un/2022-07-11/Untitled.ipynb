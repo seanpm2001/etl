{
 "cells": [
  {
   "cell_type": "code",
   "execution_count": 1,
   "id": "8ac10dfb-202b-4d6f-9fc1-e9c194a0140c",
   "metadata": {},
   "outputs": [],
   "source": [
    "from typing import Iterable\n",
    "import yaml\n",
    "\n",
    "from owid import catalog\n",
    "\n",
    "from etl import grapher_helpers as gh\n",
    "from etl.paths import DATA_DIR, STEP_DIR"
   ]
  },
  {
   "cell_type": "code",
   "execution_count": 2,
   "id": "0baf1e4c-b57f-4a8d-a2e7-cf03d0be7784",
   "metadata": {},
   "outputs": [],
   "source": [
    "dataset = catalog.Dataset(DATA_DIR / \"garden\" / \"un\" / \"2022-07-11\" / \"un_wpp\")"
   ]
  },
  {
   "cell_type": "code",
   "execution_count": 3,
   "id": "7f53f276-2a72-44de-a6d6-bf280ea0a7c7",
   "metadata": {},
   "outputs": [],
   "source": [
    "assert len(dataset.metadata.sources) == 1"
   ]
  },
  {
   "cell_type": "code",
   "execution_count": 4,
   "id": "a594856c-25f0-43e1-813c-bf497e546fbc",
   "metadata": {},
   "outputs": [],
   "source": [
    "dataset.metadata.short_name = \"un_wpp__2022_07_11\""
   ]
  },
  {
   "cell_type": "code",
   "execution_count": 6,
   "id": "1ce007e3-74fc-4eca-bc8a-733a26a10b4e",
   "metadata": {},
   "outputs": [],
   "source": [
    "dataset.metadata.sources[0].description = dataset.metadata.description\n",
    "dataset.metadata.description = \"\""
   ]
  },
  {
   "cell_type": "markdown",
   "id": "30c5094d-78d9-4617-8010-0701622cdeb5",
   "metadata": {},
   "source": [
    "---"
   ]
  },
  {
   "cell_type": "code",
   "execution_count": 7,
   "id": "820fbdb4-ad10-4af2-916c-48c4aba70584",
   "metadata": {},
   "outputs": [],
   "source": [
    "table = dataset[\"long\"].reset_index()"
   ]
  },
  {
   "cell_type": "code",
   "execution_count": 9,
   "id": "5222c1aa-04ad-4e1a-a3db-14cc0836667a",
   "metadata": {},
   "outputs": [],
   "source": [
    "table = gh.adapt_table_for_grapher(table, country_col=\"location\")"
   ]
  },
  {
   "cell_type": "code",
   "execution_count": 11,
   "id": "707a7c42-6081-4617-a173-0d77098c7125",
   "metadata": {},
   "outputs": [],
   "source": [
    "t = table.reset_index().set_index([\"entity_id\", \"year\", \"sex\", \"age\", \"variant\"])"
   ]
  },
  {
   "cell_type": "code",
   "execution_count": 12,
   "id": "c81aa009-6405-45e1-aa3c-b56c222af498",
   "metadata": {},
   "outputs": [
    {
     "data": {
      "text/html": [
       "<div>\n",
       "<style scoped>\n",
       "    .dataframe tbody tr th:only-of-type {\n",
       "        vertical-align: middle;\n",
       "    }\n",
       "\n",
       "    .dataframe tbody tr th {\n",
       "        vertical-align: top;\n",
       "    }\n",
       "\n",
       "    .dataframe thead th {\n",
       "        text-align: right;\n",
       "    }\n",
       "</style>\n",
       "<table border=\"1\" class=\"dataframe\">\n",
       "  <thead>\n",
       "    <tr style=\"text-align: right;\">\n",
       "      <th></th>\n",
       "      <th></th>\n",
       "      <th></th>\n",
       "      <th></th>\n",
       "      <th></th>\n",
       "      <th>metric</th>\n",
       "      <th>value</th>\n",
       "    </tr>\n",
       "    <tr>\n",
       "      <th>entity_id</th>\n",
       "      <th>year</th>\n",
       "      <th>sex</th>\n",
       "      <th>age</th>\n",
       "      <th>variant</th>\n",
       "      <th></th>\n",
       "      <th></th>\n",
       "    </tr>\n",
       "  </thead>\n",
       "  <tbody>\n",
       "    <tr>\n",
       "      <th rowspan=\"5\" valign=\"top\">355</th>\n",
       "      <th rowspan=\"5\" valign=\"top\">2022</th>\n",
       "      <th rowspan=\"5\" valign=\"top\">none</th>\n",
       "      <th>0</th>\n",
       "      <th>low</th>\n",
       "      <td>sex_ratio</td>\n",
       "      <td>105.360001</td>\n",
       "    </tr>\n",
       "    <tr>\n",
       "      <th>5</th>\n",
       "      <th>low</th>\n",
       "      <td>sex_ratio</td>\n",
       "      <td>106.180000</td>\n",
       "    </tr>\n",
       "    <tr>\n",
       "      <th>10</th>\n",
       "      <th>low</th>\n",
       "      <td>sex_ratio</td>\n",
       "      <td>106.699997</td>\n",
       "    </tr>\n",
       "    <tr>\n",
       "      <th>15</th>\n",
       "      <th>low</th>\n",
       "      <td>sex_ratio</td>\n",
       "      <td>106.769997</td>\n",
       "    </tr>\n",
       "    <tr>\n",
       "      <th>20</th>\n",
       "      <th>low</th>\n",
       "      <td>sex_ratio</td>\n",
       "      <td>106.540001</td>\n",
       "    </tr>\n",
       "    <tr>\n",
       "      <th>...</th>\n",
       "      <th>...</th>\n",
       "      <th>...</th>\n",
       "      <th>...</th>\n",
       "      <th>...</th>\n",
       "      <td>...</td>\n",
       "      <td>...</td>\n",
       "    </tr>\n",
       "    <tr>\n",
       "      <th rowspan=\"5\" valign=\"top\">255</th>\n",
       "      <th rowspan=\"5\" valign=\"top\">2100</th>\n",
       "      <th rowspan=\"2\" valign=\"top\">male</th>\n",
       "      <th rowspan=\"2\" valign=\"top\">1-4</th>\n",
       "      <th>high</th>\n",
       "      <td>deaths</td>\n",
       "      <td>0.000000</td>\n",
       "    </tr>\n",
       "    <tr>\n",
       "      <th>low</th>\n",
       "      <td>deaths</td>\n",
       "      <td>0.000000</td>\n",
       "    </tr>\n",
       "    <tr>\n",
       "      <th rowspan=\"3\" valign=\"top\">female</th>\n",
       "      <th rowspan=\"3\" valign=\"top\">1-4</th>\n",
       "      <th>medium</th>\n",
       "      <td>deaths</td>\n",
       "      <td>0.000000</td>\n",
       "    </tr>\n",
       "    <tr>\n",
       "      <th>high</th>\n",
       "      <td>deaths</td>\n",
       "      <td>0.000000</td>\n",
       "    </tr>\n",
       "    <tr>\n",
       "      <th>low</th>\n",
       "      <td>deaths</td>\n",
       "      <td>0.000000</td>\n",
       "    </tr>\n",
       "  </tbody>\n",
       "</table>\n",
       "<p>23151682 rows × 2 columns</p>\n",
       "</div>"
      ],
      "text/plain": [
       "                                      metric       value\n",
       "entity_id year sex    age variant                       \n",
       "355       2022 none   0   low      sex_ratio  105.360001\n",
       "                      5   low      sex_ratio  106.180000\n",
       "                      10  low      sex_ratio  106.699997\n",
       "                      15  low      sex_ratio  106.769997\n",
       "                      20  low      sex_ratio  106.540001\n",
       "...                                      ...         ...\n",
       "255       2100 male   1-4 high        deaths    0.000000\n",
       "                          low         deaths    0.000000\n",
       "               female 1-4 medium      deaths    0.000000\n",
       "                          high        deaths    0.000000\n",
       "                          low         deaths    0.000000\n",
       "\n",
       "[23151682 rows x 2 columns]"
      ]
     },
     "execution_count": 12,
     "metadata": {},
     "output_type": "execute_result"
    }
   ],
   "source": [
    "t"
   ]
  },
  {
   "cell_type": "code",
   "execution_count": null,
   "id": "6cae362f-00f1-4d45-a168-adc82c75d17f",
   "metadata": {},
   "outputs": [],
   "source": []
  }
 ],
 "metadata": {
  "kernelspec": {
   "display_name": "Python 3",
   "language": "python",
   "name": "python3"
  },
  "language_info": {
   "codemirror_mode": {
    "name": "ipython",
    "version": 3
   },
   "file_extension": ".py",
   "mimetype": "text/x-python",
   "name": "python",
   "nbconvert_exporter": "python",
   "pygments_lexer": "ipython3",
   "version": "3.9.5"
  }
 },
 "nbformat": 4,
 "nbformat_minor": 5
}
